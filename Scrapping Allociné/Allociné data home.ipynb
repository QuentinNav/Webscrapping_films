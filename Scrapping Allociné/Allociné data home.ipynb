{
 "cells": [
  {
   "cell_type": "markdown",
   "id": "fa71a85e",
   "metadata": {},
   "source": [
    "# Import des librairies "
   ]
  },
  {
   "cell_type": "code",
   "execution_count": 3,
   "id": "c5fcf889",
   "metadata": {},
   "outputs": [],
   "source": [
    "import pandas as pd \n",
    "from IPython.display import clear_output\n",
    "import requests\n",
    "from bs4 import BeautifulSoup\n",
    "from urllib.request import Request, urlopen\n",
    "import re\n",
    "import csv\n",
    "import numpy as np\n",
    "import re\n",
    "from tqdm import tqdm\n",
    "import time\n",
    "from selenium import webdriver\n",
    "from selenium.webdriver.common.keys import Keys\n",
    "from webdriver_manager.chrome import ChromeDriverManager\n",
    "from selenium.webdriver.common.by import By\n",
    "from concurrent import futures\n",
    "import dateparser\n",
    "\n",
    "import warnings\n",
    "warnings.filterwarnings('ignore')\n",
    "\n",
    "data_path=\"Data/\"#Chemin du dossier pour enregistrer le fichier csv"
   ]
  },
  {
   "cell_type": "code",
   "execution_count": 4,
   "id": "452a6eaa",
   "metadata": {},
   "outputs": [],
   "source": [
    "def check_nan(df):\n",
    "    for i in df.columns.tolist():\n",
    "        print(\"Valeurs nan dans \"+str(i)+\" : \"+str(df[i].isna().sum()))\n",
    "        \n",
    "def check_unique(df):\n",
    "    for i in df.columns.tolist():\n",
    "        print(\"Valeurs uniques dans \"+str(i)+\" : \"+str(df[i].nunique()))"
   ]
  },
  {
   "cell_type": "markdown",
   "id": "446f8124",
   "metadata": {},
   "source": [
    "# Chargement des données déjà existantes"
   ]
  },
  {
   "cell_type": "code",
   "execution_count": 5,
   "id": "3e2f0bea",
   "metadata": {
    "scrolled": true
   },
   "outputs": [
    {
     "data": {
      "text/html": [
       "<div>\n",
       "<style scoped>\n",
       "    .dataframe tbody tr th:only-of-type {\n",
       "        vertical-align: middle;\n",
       "    }\n",
       "\n",
       "    .dataframe tbody tr th {\n",
       "        vertical-align: top;\n",
       "    }\n",
       "\n",
       "    .dataframe thead th {\n",
       "        text-align: right;\n",
       "    }\n",
       "</style>\n",
       "<table border=\"1\" class=\"dataframe\">\n",
       "  <thead>\n",
       "    <tr style=\"text-align: right;\">\n",
       "      <th></th>\n",
       "      <th>titre</th>\n",
       "      <th>id</th>\n",
       "    </tr>\n",
       "  </thead>\n",
       "  <tbody>\n",
       "    <tr>\n",
       "      <th>0</th>\n",
       "      <td>avatar : la voie de l'eau</td>\n",
       "      <td>178014</td>\n",
       "    </tr>\n",
       "    <tr>\n",
       "      <th>1</th>\n",
       "      <td>les banshees d'inisherin</td>\n",
       "      <td>281293</td>\n",
       "    </tr>\n",
       "    <tr>\n",
       "      <th>2</th>\n",
       "      <td>tempête</td>\n",
       "      <td>289305</td>\n",
       "    </tr>\n",
       "    <tr>\n",
       "      <th>3</th>\n",
       "      <td>m3gan</td>\n",
       "      <td>266320</td>\n",
       "    </tr>\n",
       "    <tr>\n",
       "      <th>4</th>\n",
       "      <td>le tourbillon de la vie</td>\n",
       "      <td>288544</td>\n",
       "    </tr>\n",
       "  </tbody>\n",
       "</table>\n",
       "</div>"
      ],
      "text/plain": [
       "                       titre      id\n",
       "0  avatar : la voie de l'eau  178014\n",
       "1   les banshees d'inisherin  281293\n",
       "2                    tempête  289305\n",
       "3                      m3gan  266320\n",
       "4    le tourbillon de la vie  288544"
      ]
     },
     "execution_count": 5,
     "metadata": {},
     "output_type": "execute_result"
    }
   ],
   "source": [
    "df_ids = pd.read_csv(data_path+\"allocine_titre_id.csv\")\n",
    "df_ids.head()"
   ]
  },
  {
   "cell_type": "markdown",
   "id": "9eea9326",
   "metadata": {},
   "source": [
    "# Scrapping des données de la page Home pour chaque film "
   ]
  },
  {
   "cell_type": "markdown",
   "id": "c9ad2195",
   "metadata": {},
   "source": [
    "## Fonctions : "
   ]
  },
  {
   "cell_type": "code",
   "execution_count": 4,
   "id": "293d54a0",
   "metadata": {},
   "outputs": [],
   "source": [
    "def first_connexion(headless=False) :\n",
    "    options = webdriver.ChromeOptions()\n",
    "    \n",
    "    if headless==True : \n",
    "        options.add_argument('-headless')\n",
    "        options.add_argument(\"--window-size=1920,1080\")\n",
    "    driver = webdriver.Chrome(ChromeDriverManager().install(),options=options)\n",
    "    driver.get(\"https://www.allocine.fr/\")\n",
    "    time.sleep(2)\n",
    "    driver.get_screenshot_as_file(\"screenshot.png\")\n",
    "    if headless==False : \n",
    "        cookies_box = driver.find_element(By.XPATH, '//*[@id=\"cmp-main\"]/button[2]')\n",
    "        cookies_box.click()\n",
    "    time.sleep(5)\n",
    "    return driver"
   ]
  },
  {
   "cell_type": "code",
   "execution_count": 5,
   "id": "87de9dd6",
   "metadata": {},
   "outputs": [],
   "source": [
    "def get_data_home(movie_id, driver):\n",
    "    url=f\"https://www.allocine.fr/film/fichefilm_gen_cfilm={movie_id}.html\"\n",
    "    data={}\n",
    "    driver.get(url)\n",
    "    time.sleep(0.3)\n",
    "    data[\"id\"] =movie_id\n",
    "    data[\"titre\"]= driver.find_element_by_xpath('//*[@id=\"content-layout\"]/div[2]/div[1]').text\n",
    "    \n",
    "    try : \n",
    "        text_data = driver.find_element_by_class_name('meta-body-item.meta-body-info')\n",
    "    except : \n",
    "        print(\"No text data found\")\n",
    "        print(data[\"titre\"].lower())\n",
    "        \n",
    "    if \"Date de sortie inconnue\".lower() not in text_data.text.lower() : \n",
    "        try :     \n",
    "            data[\"date_sortie\"] = text_data.find_elements_by_class_name(\"blue-link\")[0].text\n",
    "        except : \n",
    "            try : \n",
    "                data[\"date_sortie\"] = text_data.find_elements_by_class_name(\"date\")[0].text\n",
    "            except : \n",
    "                pass \n",
    "        \n",
    "    #Support de sortie\n",
    "    support = text_data.find_elements(By.TAG_NAME,\"strong\")\n",
    "    if len(support) != 0 : \n",
    "        data[\"support\"] = support[0].text\n",
    "    \n",
    "    #Durée\n",
    "    match = re.search(r\"(\\d{1,2}h\\s\\d{1,2}min)\", text_data.text)\n",
    "    if match : \n",
    "        data[\"duree\"] =match.group(0)\n",
    "\n",
    "    #Genres du films\n",
    "    genres=[]\n",
    "    for a in text_data.find_elements(By.TAG_NAME,\"a\") :\n",
    "        if \"genre\" in a.get_attribute(\"href\") : \n",
    "            genres.append(a.text)\n",
    "    data[\"genres\"] = genres\n",
    "\n",
    "    try :\n",
    "        data[\"synopsis\"] = data[\"synopsis\"] =driver.find_elements(By.ID, \"synopsis-details\")[0].find_elements(By.CLASS_NAME, \"content-txt\")[0].text\n",
    "    except : \n",
    "        print(f\"{data['titre']} pas de synopsis\")\n",
    "        \n",
    "    try : \n",
    "        divs_eval = driver.find_elements_by_class_name('rating-item-content')\n",
    "        if len(divs_eval)>0 :\n",
    "            for elem in divs_eval : \n",
    "                if \"presse\" in elem.text.lower() : \n",
    "                    data[\"note_moyenne_presse\"]= elem.find_elements_by_class_name(\"stareval-note\")[0].text\n",
    "                if \"spectateur\" in elem.text.lower() :\n",
    "                    data[\"note_moyenne_spectateurs\"]= elem.find_elements_by_class_name(\"stareval-note\")[0].text\n",
    "    except Exception as exc: \n",
    "        print(data[\"titre\"])\n",
    "        print(exc)\n",
    "        \n",
    "            \n",
    "    return data "
   ]
  },
  {
   "cell_type": "code",
   "execution_count": 6,
   "id": "864a9d33",
   "metadata": {},
   "outputs": [],
   "source": [
    "def init_movies_by_driver(nb_drivers, len_data) :\n",
    "    drivers_ids_range ={}\n",
    "    nb_films_by_driver = np.ceil(len_data/nb_drivers)\n",
    "    for i in range(nb_drivers) :\n",
    "        drivers_ids_range[i]=  {\"start\" : int(i * nb_films_by_driver), \"end\" : int((i+1)*nb_films_by_driver)}\n",
    "    return drivers_ids_range "
   ]
  },
  {
   "cell_type": "code",
   "execution_count": 7,
   "id": "45c6469c",
   "metadata": {},
   "outputs": [],
   "source": [
    "def workload_driver(info_driver) :\n",
    "    data_processed = df_ids.iloc[info_driver[\"index_start\"]:info_driver[\"index_end\"]].iloc[:100]\n",
    "    driver= first_connexion(headless=True)#Première connexion\n",
    "    #Scrapping des données\n",
    "    new_data = [] \n",
    "    for index, id in enumerate(data_processed[\"id\"]) : \n",
    "        new_data.append(get_data_home(id, driver))\n",
    "        if index % 20 == 0 : \n",
    "            if info_driver[\"id\"] ==0 : \n",
    "                clear_output()\n",
    "            print(f\"Driver n°{info_driver['id']} : {index} films\")\n",
    "                \n",
    "    driver.close()\n",
    "    #Sauvegarde des données\n",
    "\n",
    "    df= pd.DataFrame(new_data)\n",
    "    temp = pd.read_csv(data_path+f\"allocine_home_{info_driver['id']}.csv\")\n",
    "    pd.concat([temp, df]).to_csv(data_path+f\"allocine_home_{info_driver['id']}.csv\",index=False)"
   ]
  },
  {
   "cell_type": "code",
   "execution_count": 8,
   "id": "d7720075",
   "metadata": {},
   "outputs": [],
   "source": [
    "def init_save_files(number) :\n",
    "    for i in range(number) :\n",
    "        df_init= pd.DataFrame(columns= ['id', 'titre', 'date_sortie', 'support', 'duree', 'genres', 'synopsis','note_moyenne_presse', 'note_moyenne_spectateurs'])\n",
    "        df_init.to_csv(data_path+f\"allocine_home_{i}.csv\",index=False)"
   ]
  },
  {
   "cell_type": "markdown",
   "id": "133929d7",
   "metadata": {},
   "source": [
    "### Multiprocessing"
   ]
  },
  {
   "cell_type": "code",
   "execution_count": 75,
   "id": "e8b1c9b0",
   "metadata": {},
   "outputs": [
    {
     "name": "stdout",
     "output_type": "stream",
     "text": [
      "\n",
      "<span class=\"date\">17 novembre 2022</span>\n",
      "<strong>\n",
      "en DVD\n",
      "</strong>\n",
      "<span class=\"spacer\">/</span>\n",
      "<a class=\"xXx\" href=\"/films/genre-13019/\">Western</a>\n",
      "\n",
      "\n",
      "17 novembre 2022 en DVD / Western\n",
      "\n",
      "{'date_sortie': '17 novembre 2022', 'support': 'en DVD', 'genres': ['Western'], 'synopsis': 'Une famille de pionniers se bat contre une bande de hors-la-loi qui les terrorise dans leur ferme nouvellement construite dans les plaines du Montana.'}\n"
     ]
    }
   ],
   "source": [
    "driver= first_connexion()\n",
    "driver.get(f\"https://www.allocine.fr/film/fichefilm_gen_cfilm={movie_id}.html\")\n",
    "\n",
    "time.sleep(0.5)\n",
    "\n",
    "data={}\n",
    "\n",
    "text_data = driver.find_element_by_class_name('meta-body-item.meta-body-info')\n",
    "\n",
    "\n",
    "print(text_data.get_attribute(\"innerHTML\"))\n",
    "print()\n",
    "print(text_data.text)\n",
    "print()\n",
    "\n",
    "if \"Date de sortie inconnue\".lower() not in text_data.text.lower() : \n",
    "    try :     \n",
    "        data[\"date_sortie\"] = text_data.find_elements_by_class_name(\"blue-link\")[0].text\n",
    "    except : \n",
    "        try : \n",
    "            data[\"date_sortie\"] = text_data.find_elements_by_class_name(\"date\")[0].text\n",
    "        except : \n",
    "            pass \n",
    "\n",
    "#Support de sortie\n",
    "support = text_data.find_elements(By.TAG_NAME,\"strong\")\n",
    "if len(support) != 0 : \n",
    "    data[\"support\"] = support[0].text\n",
    "    \n",
    "\n",
    "#Durée du film \n",
    "match = re.search(r\"(\\d{1,2}h\\s\\d{1,2}min)\", text_data.text)\n",
    "if match : \n",
    "    data[\"duree\"] =match.group(0)\n",
    "\n",
    "#Genres du films\n",
    "genres=[]\n",
    "for a in text_data.find_elements(By.TAG_NAME,\"a\") :\n",
    "    if \"genre\" in a.get_attribute(\"href\") : \n",
    "        genres.append(a.text)\n",
    "\n",
    "data[\"genres\"] = genres\n",
    "\n",
    "data[\"synopsis\"] =driver.find_elements(By.ID, \"synopsis-details\")[0].find_elements(By.CLASS_NAME, \"content-txt\")[0].text\n",
    "\n",
    "print(data)\n",
    "driver.close()"
   ]
  },
  {
   "cell_type": "code",
   "execution_count": 13,
   "id": "27f15f2d",
   "metadata": {},
   "outputs": [
    {
     "name": "stdout",
     "output_type": "stream",
     "text": [
      "['17 novembre 2022 en DVD ', ' Western']\n"
     ]
    }
   ],
   "source": [
    "movie_id =297254\n",
    "\n",
    "driver= first_connexion()\n",
    "driver.get(f\"https://www.allocine.fr/film/fichefilm_gen_cfilm={movie_id}.html\")\n",
    "\n",
    "time.sleep(0.5)\n",
    "\n",
    "try : \n",
    "    text_data = driver.find_element_by_xpath('//*[@id=\"content-layout\"]/section/div/div[2]/div[1]/div/div[1]').text.split(\"/\")\n",
    "except : \n",
    "    try : \n",
    "        text_data= driver.find_element_by_xpath('//*[@id=\"content-layout\"]/section/div/div[3]/div[1]/div/div[1]').text.split(\"/\")\n",
    "    except : \n",
    "        print(\"Erreur text_data\")\n",
    "print(text_data)"
   ]
  },
  {
   "cell_type": "markdown",
   "id": "b1bda14d",
   "metadata": {},
   "source": [
    "# Algorithme final"
   ]
  },
  {
   "cell_type": "code",
   "execution_count": 18,
   "id": "a5dd203f",
   "metadata": {},
   "outputs": [
    {
     "name": "stdout",
     "output_type": "stream",
     "text": [
      "Driver n°0 : 20 films\n",
      "LE PETIT POUCET pas de synopsis\n",
      "VEERA SIMHA REDDY pas de synopsis\n",
      "STAYING ALIVE pas de synopsis\n",
      "Driver n°5 : 20 films\n",
      "Driver n°2 : 20 films\n",
      "AUX PORTES DE L'AU-DELÀ pas de synopsis\n",
      "Driver n°4 : 20 films\n",
      "SURVIVAL GAME pas de synopsis\n",
      "CPU times: total: 15min 27s\n",
      "Wall time: 2h 27min 14s\n"
     ]
    }
   ],
   "source": [
    "%%time\n",
    "nb_drivers = 6\n",
    "nb_films_by_iter =100\n",
    "nb_movies= len(df_ids)\n",
    "\n",
    "ids_movies_by_drivers = init_movies_by_driver(nb_drivers, nb_movies)\n",
    "\n",
    "nb_iterations =(nb_movies//(nb_drivers*nb_films_by_iter))+1\n",
    "\n",
    "init_save_files(nb_drivers)\n",
    "\n",
    "#Nombre de fois que les drivers vont se lancer et se fermer\n",
    "for j in range(nb_iterations) : \n",
    "    print(\"Itération :\",j)\n",
    "    with futures.ThreadPoolExecutor() as executor: \n",
    "        future_results = [ executor.submit(workload_driver,{'id':i, 'index_start' :ids_movies_by_drivers[i][\"start\"]+nb_films_by_iter*j , 'index_end':ids_movies_by_drivers[i][\"end\"]})  for i in range(nb_drivers) ] \n",
    "        for future_result in future_results: \n",
    "            try:        \n",
    "                future_result = future_result.result() # can use `timeout` to wait max seconds for each thread               \n",
    "                #... do something with the test_result\n",
    "            except Exception as exc: # can give a exception in some thread, but \n",
    "                print(\"thread generated an exception\",exc)\n",
    "                break;\n",
    "\n",
    "#Concaténation et enregirstrement des données\n",
    "df=pd.DataFrame()\n",
    "for i in range(nb_drivers): \n",
    "    df=pd.concat([df, pd.read_csv(data_path+f\"allocine_home_{i}.csv\")])\n",
    "df.to_csv(data_path+\"allocine_home.csv\",index=False)"
   ]
  },
  {
   "cell_type": "markdown",
   "id": "051d5d02",
   "metadata": {},
   "source": [
    "## Lecture des données"
   ]
  },
  {
   "cell_type": "code",
   "execution_count": 9,
   "id": "cad6440f",
   "metadata": {},
   "outputs": [
    {
     "name": "stdout",
     "output_type": "stream",
     "text": [
      "Shape df : (19882, 9)\n",
      "\n",
      "Valeurs nan dans id : 0\n",
      "Valeurs nan dans titre : 0\n",
      "Valeurs nan dans date_sortie : 0\n",
      "Valeurs nan dans support : 69\n",
      "Valeurs nan dans duree : 202\n",
      "Valeurs nan dans genres : 0\n",
      "Valeurs nan dans synopsis : 280\n",
      "Valeurs nan dans note_moyenne_presse : 10349\n",
      "Valeurs nan dans note_moyenne_spectateurs : 113\n",
      "\n",
      "Valeurs uniques dans id : 19882\n",
      "Valeurs uniques dans titre : 19051\n",
      "Valeurs uniques dans date_sortie : 6028\n",
      "Valeurs uniques dans support : 28\n",
      "Valeurs uniques dans duree : 213\n",
      "Valeurs uniques dans genres : 1798\n",
      "Valeurs uniques dans synopsis : 19593\n",
      "Valeurs uniques dans note_moyenne_presse : 41\n",
      "Valeurs uniques dans note_moyenne_spectateurs : 39\n"
     ]
    },
    {
     "data": {
      "text/html": [
       "<div>\n",
       "<style scoped>\n",
       "    .dataframe tbody tr th:only-of-type {\n",
       "        vertical-align: middle;\n",
       "    }\n",
       "\n",
       "    .dataframe tbody tr th {\n",
       "        vertical-align: top;\n",
       "    }\n",
       "\n",
       "    .dataframe thead th {\n",
       "        text-align: right;\n",
       "    }\n",
       "</style>\n",
       "<table border=\"1\" class=\"dataframe\">\n",
       "  <thead>\n",
       "    <tr style=\"text-align: right;\">\n",
       "      <th></th>\n",
       "      <th>id</th>\n",
       "      <th>titre</th>\n",
       "      <th>date_sortie</th>\n",
       "      <th>support</th>\n",
       "      <th>duree</th>\n",
       "      <th>genres</th>\n",
       "      <th>synopsis</th>\n",
       "      <th>note_moyenne_presse</th>\n",
       "      <th>note_moyenne_spectateurs</th>\n",
       "    </tr>\n",
       "  </thead>\n",
       "  <tbody>\n",
       "    <tr>\n",
       "      <th>0</th>\n",
       "      <td>178014</td>\n",
       "      <td>AVATAR : LA VOIE DE L'EAU</td>\n",
       "      <td>14 décembre 2022</td>\n",
       "      <td>en salle</td>\n",
       "      <td>3h 12min</td>\n",
       "      <td>['Science fiction', 'Aventure', 'Fantastique',...</td>\n",
       "      <td>Se déroulant plus d’une décennie après les évé...</td>\n",
       "      <td>4,1</td>\n",
       "      <td>4,3</td>\n",
       "    </tr>\n",
       "    <tr>\n",
       "      <th>1</th>\n",
       "      <td>281293</td>\n",
       "      <td>LES BANSHEES D'INISHERIN</td>\n",
       "      <td>28 décembre 2022</td>\n",
       "      <td>en salle</td>\n",
       "      <td>1h 54min</td>\n",
       "      <td>['Drame']</td>\n",
       "      <td>Sur Inisherin - une île isolée au large de la ...</td>\n",
       "      <td>3,8</td>\n",
       "      <td>3,9</td>\n",
       "    </tr>\n",
       "    <tr>\n",
       "      <th>2</th>\n",
       "      <td>289305</td>\n",
       "      <td>TEMPÊTE</td>\n",
       "      <td>21 décembre 2022</td>\n",
       "      <td>en salle</td>\n",
       "      <td>1h 49min</td>\n",
       "      <td>['Comédie dramatique', 'Famille']</td>\n",
       "      <td>Née dans le haras de ses parents, Zoé a grandi...</td>\n",
       "      <td>3,0</td>\n",
       "      <td>3,9</td>\n",
       "    </tr>\n",
       "    <tr>\n",
       "      <th>3</th>\n",
       "      <td>266320</td>\n",
       "      <td>M3GAN</td>\n",
       "      <td>28 décembre 2022</td>\n",
       "      <td>en salle</td>\n",
       "      <td>1h 42min</td>\n",
       "      <td>['Epouvante-horreur', 'Thriller']</td>\n",
       "      <td>M3GAN est un miracle technologique, une cyber ...</td>\n",
       "      <td>2,9</td>\n",
       "      <td>2,9</td>\n",
       "    </tr>\n",
       "    <tr>\n",
       "      <th>4</th>\n",
       "      <td>288544</td>\n",
       "      <td>LE TOURBILLON DE LA VIE</td>\n",
       "      <td>21 décembre 2022</td>\n",
       "      <td>en salle</td>\n",
       "      <td>2h 01min</td>\n",
       "      <td>['Drame']</td>\n",
       "      <td>Les grands tournants de notre existence sont p...</td>\n",
       "      <td>3,3</td>\n",
       "      <td>3,9</td>\n",
       "    </tr>\n",
       "  </tbody>\n",
       "</table>\n",
       "</div>"
      ],
      "text/plain": [
       "       id                      titre       date_sortie   support     duree  \\\n",
       "0  178014  AVATAR : LA VOIE DE L'EAU  14 décembre 2022  en salle  3h 12min   \n",
       "1  281293   LES BANSHEES D'INISHERIN  28 décembre 2022  en salle  1h 54min   \n",
       "2  289305                    TEMPÊTE  21 décembre 2022  en salle  1h 49min   \n",
       "3  266320                      M3GAN  28 décembre 2022  en salle  1h 42min   \n",
       "4  288544    LE TOURBILLON DE LA VIE  21 décembre 2022  en salle  2h 01min   \n",
       "\n",
       "                                              genres  \\\n",
       "0  ['Science fiction', 'Aventure', 'Fantastique',...   \n",
       "1                                          ['Drame']   \n",
       "2                  ['Comédie dramatique', 'Famille']   \n",
       "3                  ['Epouvante-horreur', 'Thriller']   \n",
       "4                                          ['Drame']   \n",
       "\n",
       "                                            synopsis note_moyenne_presse  \\\n",
       "0  Se déroulant plus d’une décennie après les évé...                 4,1   \n",
       "1  Sur Inisherin - une île isolée au large de la ...                 3,8   \n",
       "2  Née dans le haras de ses parents, Zoé a grandi...                 3,0   \n",
       "3  M3GAN est un miracle technologique, une cyber ...                 2,9   \n",
       "4  Les grands tournants de notre existence sont p...                 3,3   \n",
       "\n",
       "  note_moyenne_spectateurs  \n",
       "0                      4,3  \n",
       "1                      3,9  \n",
       "2                      3,9  \n",
       "3                      2,9  \n",
       "4                      3,9  "
      ]
     },
     "execution_count": 9,
     "metadata": {},
     "output_type": "execute_result"
    }
   ],
   "source": [
    "df=pd.read_csv(data_path+\"allocine_home.csv\")\n",
    "print(\"Shape df :\",df.shape)\n",
    "print()\n",
    "check_nan(df)\n",
    "print()\n",
    "check_unique(df)\n",
    "df.head()"
   ]
  },
  {
   "cell_type": "markdown",
   "id": "b0dbd796",
   "metadata": {},
   "source": [
    "## Nettoyage "
   ]
  },
  {
   "cell_type": "markdown",
   "id": "a3a00c03",
   "metadata": {},
   "source": [
    "## Mise en minuscule des titres de films"
   ]
  },
  {
   "cell_type": "code",
   "execution_count": 10,
   "id": "8d0d7416",
   "metadata": {},
   "outputs": [],
   "source": [
    "df[\"titre\"] = df[\"titre\"].str.lower()"
   ]
  },
  {
   "cell_type": "markdown",
   "id": "944b9af0",
   "metadata": {},
   "source": [
    "## Parsing des dates "
   ]
  },
  {
   "cell_type": "code",
   "execution_count": 13,
   "id": "da652e1a",
   "metadata": {},
   "outputs": [],
   "source": [
    "df['date_sortie'] = df['date_sortie'].apply(dateparser.parse)"
   ]
  },
  {
   "cell_type": "markdown",
   "id": "54a41111",
   "metadata": {},
   "source": [
    "## Conversion de la durée en minutes "
   ]
  },
  {
   "cell_type": "code",
   "execution_count": 28,
   "id": "0cdb85f1",
   "metadata": {},
   "outputs": [],
   "source": [
    "df[\"duree\"]=df['duree'].apply(lambda x: int(x.split('h')[0]) * 60 + int(x.split('h')[1].split('min')[0]) if (np.all(pd.notnull(x))) else x)"
   ]
  },
  {
   "cell_type": "code",
   "execution_count": 32,
   "id": "cdfd7b83",
   "metadata": {},
   "outputs": [
    {
     "data": {
      "text/html": [
       "<div>\n",
       "<style scoped>\n",
       "    .dataframe tbody tr th:only-of-type {\n",
       "        vertical-align: middle;\n",
       "    }\n",
       "\n",
       "    .dataframe tbody tr th {\n",
       "        vertical-align: top;\n",
       "    }\n",
       "\n",
       "    .dataframe thead th {\n",
       "        text-align: right;\n",
       "    }\n",
       "</style>\n",
       "<table border=\"1\" class=\"dataframe\">\n",
       "  <thead>\n",
       "    <tr style=\"text-align: right;\">\n",
       "      <th></th>\n",
       "      <th>id</th>\n",
       "      <th>titre</th>\n",
       "      <th>date_sortie</th>\n",
       "      <th>support</th>\n",
       "      <th>duree</th>\n",
       "      <th>genres</th>\n",
       "      <th>synopsis</th>\n",
       "      <th>note_moyenne_presse</th>\n",
       "      <th>note_moyenne_spectateurs</th>\n",
       "    </tr>\n",
       "  </thead>\n",
       "  <tbody>\n",
       "    <tr>\n",
       "      <th>0</th>\n",
       "      <td>178014</td>\n",
       "      <td>avatar : la voie de l'eau</td>\n",
       "      <td>2022-12-14</td>\n",
       "      <td>en salle</td>\n",
       "      <td>192.0</td>\n",
       "      <td>['Science fiction', 'Aventure', 'Fantastique',...</td>\n",
       "      <td>Se déroulant plus d’une décennie après les évé...</td>\n",
       "      <td>4,1</td>\n",
       "      <td>4,3</td>\n",
       "    </tr>\n",
       "    <tr>\n",
       "      <th>1</th>\n",
       "      <td>281293</td>\n",
       "      <td>les banshees d'inisherin</td>\n",
       "      <td>2022-12-28</td>\n",
       "      <td>en salle</td>\n",
       "      <td>114.0</td>\n",
       "      <td>['Drame']</td>\n",
       "      <td>Sur Inisherin - une île isolée au large de la ...</td>\n",
       "      <td>3,8</td>\n",
       "      <td>3,9</td>\n",
       "    </tr>\n",
       "    <tr>\n",
       "      <th>2</th>\n",
       "      <td>289305</td>\n",
       "      <td>tempête</td>\n",
       "      <td>2022-12-21</td>\n",
       "      <td>en salle</td>\n",
       "      <td>109.0</td>\n",
       "      <td>['Comédie dramatique', 'Famille']</td>\n",
       "      <td>Née dans le haras de ses parents, Zoé a grandi...</td>\n",
       "      <td>3,0</td>\n",
       "      <td>3,9</td>\n",
       "    </tr>\n",
       "    <tr>\n",
       "      <th>3</th>\n",
       "      <td>266320</td>\n",
       "      <td>m3gan</td>\n",
       "      <td>2022-12-28</td>\n",
       "      <td>en salle</td>\n",
       "      <td>102.0</td>\n",
       "      <td>['Epouvante-horreur', 'Thriller']</td>\n",
       "      <td>M3GAN est un miracle technologique, une cyber ...</td>\n",
       "      <td>2,9</td>\n",
       "      <td>2,9</td>\n",
       "    </tr>\n",
       "    <tr>\n",
       "      <th>4</th>\n",
       "      <td>288544</td>\n",
       "      <td>le tourbillon de la vie</td>\n",
       "      <td>2022-12-21</td>\n",
       "      <td>en salle</td>\n",
       "      <td>121.0</td>\n",
       "      <td>['Drame']</td>\n",
       "      <td>Les grands tournants de notre existence sont p...</td>\n",
       "      <td>3,3</td>\n",
       "      <td>3,9</td>\n",
       "    </tr>\n",
       "  </tbody>\n",
       "</table>\n",
       "</div>"
      ],
      "text/plain": [
       "       id                      titre date_sortie   support  duree  \\\n",
       "0  178014  avatar : la voie de l'eau  2022-12-14  en salle  192.0   \n",
       "1  281293   les banshees d'inisherin  2022-12-28  en salle  114.0   \n",
       "2  289305                    tempête  2022-12-21  en salle  109.0   \n",
       "3  266320                      m3gan  2022-12-28  en salle  102.0   \n",
       "4  288544    le tourbillon de la vie  2022-12-21  en salle  121.0   \n",
       "\n",
       "                                              genres  \\\n",
       "0  ['Science fiction', 'Aventure', 'Fantastique',...   \n",
       "1                                          ['Drame']   \n",
       "2                  ['Comédie dramatique', 'Famille']   \n",
       "3                  ['Epouvante-horreur', 'Thriller']   \n",
       "4                                          ['Drame']   \n",
       "\n",
       "                                            synopsis note_moyenne_presse  \\\n",
       "0  Se déroulant plus d’une décennie après les évé...                 4,1   \n",
       "1  Sur Inisherin - une île isolée au large de la ...                 3,8   \n",
       "2  Née dans le haras de ses parents, Zoé a grandi...                 3,0   \n",
       "3  M3GAN est un miracle technologique, une cyber ...                 2,9   \n",
       "4  Les grands tournants de notre existence sont p...                 3,3   \n",
       "\n",
       "  note_moyenne_spectateurs  \n",
       "0                      4,3  \n",
       "1                      3,9  \n",
       "2                      3,9  \n",
       "3                      2,9  \n",
       "4                      3,9  "
      ]
     },
     "execution_count": 32,
     "metadata": {},
     "output_type": "execute_result"
    }
   ],
   "source": [
    "df.head()"
   ]
  },
  {
   "cell_type": "markdown",
   "id": "530d2426",
   "metadata": {},
   "source": [
    "## Sauvegarde "
   ]
  },
  {
   "cell_type": "code",
   "execution_count": 31,
   "id": "131ad2ff",
   "metadata": {},
   "outputs": [],
   "source": [
    "df.to_csv(data_path+\"allocine_home_cleaned.csv\",index=False)"
   ]
  }
 ],
 "metadata": {
  "kernelspec": {
   "display_name": "Python 3 (ipykernel)",
   "language": "python",
   "name": "python3"
  },
  "language_info": {
   "codemirror_mode": {
    "name": "ipython",
    "version": 3
   },
   "file_extension": ".py",
   "mimetype": "text/x-python",
   "name": "python",
   "nbconvert_exporter": "python",
   "pygments_lexer": "ipython3",
   "version": "3.9.15"
  }
 },
 "nbformat": 4,
 "nbformat_minor": 5
}
