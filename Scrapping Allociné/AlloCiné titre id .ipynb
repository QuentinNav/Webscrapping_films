{
 "cells": [
  {
   "cell_type": "markdown",
   "id": "f9f59242",
   "metadata": {},
   "source": [
    "# Import des librairies "
   ]
  },
  {
   "cell_type": "code",
   "execution_count": 5,
   "id": "737340c5",
   "metadata": {},
   "outputs": [],
   "source": [
    "import pandas as pd \n",
    "from IPython.display import clear_output\n",
    "import requests\n",
    "from bs4 import BeautifulSoup\n",
    "from urllib.request import Request, urlopen\n",
    "import re\n",
    "import csv\n",
    "import numpy as np\n",
    "import re\n",
    "from tqdm import tqdm\n",
    "import time\n",
    "from selenium import webdriver\n",
    "from selenium.webdriver.common.keys import Keys\n",
    "from webdriver_manager.chrome import ChromeDriverManager\n",
    "from selenium.webdriver.common.by import By\n",
    "\n",
    "import warnings\n",
    "warnings.filterwarnings('ignore')"
   ]
  },
  {
   "cell_type": "code",
   "execution_count": 6,
   "id": "b715fd5c",
   "metadata": {},
   "outputs": [],
   "source": [
    "data_path=\"Data/\"#Chemin du dossier pour enregistrer le fichier csv"
   ]
  },
  {
   "cell_type": "code",
   "execution_count": 7,
   "id": "fc39cf38",
   "metadata": {},
   "outputs": [],
   "source": [
    "def check_nan(df):\n",
    "    for i in df.columns.tolist():\n",
    "        print(\"Valeurs nan dans \"+str(i)+\" : \"+str(df[i].isna().sum()))\n",
    "        \n",
    "def check_unique(df):\n",
    "    for i in df.columns.tolist():\n",
    "        print(\"Valeurs uniques dans \"+str(i)+\" : \"+str(df[i].nunique()))"
   ]
  },
  {
   "cell_type": "markdown",
   "id": "55a4045e",
   "metadata": {},
   "source": [
    "# Scrapping des ID et titres en français des films Allociné"
   ]
  },
  {
   "cell_type": "code",
   "execution_count": 36,
   "id": "decf3bb6",
   "metadata": {
    "scrolled": true
   },
   "outputs": [
    {
     "name": "stdout",
     "output_type": "stream",
     "text": [
      "CPU times: total: 2min 38s\n",
      "Wall time: 9min 47s\n"
     ]
    },
    {
     "data": {
      "text/html": [
       "<div>\n",
       "<style scoped>\n",
       "    .dataframe tbody tr th:only-of-type {\n",
       "        vertical-align: middle;\n",
       "    }\n",
       "\n",
       "    .dataframe tbody tr th {\n",
       "        vertical-align: top;\n",
       "    }\n",
       "\n",
       "    .dataframe thead th {\n",
       "        text-align: right;\n",
       "    }\n",
       "</style>\n",
       "<table border=\"1\" class=\"dataframe\">\n",
       "  <thead>\n",
       "    <tr style=\"text-align: right;\">\n",
       "      <th></th>\n",
       "      <th>titre</th>\n",
       "      <th>id</th>\n",
       "    </tr>\n",
       "  </thead>\n",
       "  <tbody>\n",
       "    <tr>\n",
       "      <th>0</th>\n",
       "      <td>Avatar : la voie de l'eau</td>\n",
       "      <td>178014</td>\n",
       "    </tr>\n",
       "    <tr>\n",
       "      <th>1</th>\n",
       "      <td>Les Banshees d'Inisherin</td>\n",
       "      <td>281293</td>\n",
       "    </tr>\n",
       "    <tr>\n",
       "      <th>2</th>\n",
       "      <td>Tempête</td>\n",
       "      <td>289305</td>\n",
       "    </tr>\n",
       "    <tr>\n",
       "      <th>3</th>\n",
       "      <td>M3GAN</td>\n",
       "      <td>266320</td>\n",
       "    </tr>\n",
       "    <tr>\n",
       "      <th>4</th>\n",
       "      <td>Le Tourbillon de la vie</td>\n",
       "      <td>288544</td>\n",
       "    </tr>\n",
       "  </tbody>\n",
       "</table>\n",
       "</div>"
      ],
      "text/plain": [
       "                       titre      id\n",
       "0  Avatar : la voie de l'eau  178014\n",
       "1   Les Banshees d'Inisherin  281293\n",
       "2                    Tempête  289305\n",
       "3                      M3GAN  266320\n",
       "4    Le Tourbillon de la vie  288544"
      ]
     },
     "execution_count": 36,
     "metadata": {},
     "output_type": "execute_result"
    }
   ],
   "source": [
    "%%time\n",
    "# Initialisation des variables pour stocker les données\n",
    "data = []\n",
    "page_number=1\n",
    "# Boucle pour récupérer les données de chaque page\n",
    "while len(data)<20000:\n",
    "    print(\"Page :\",page_number)\n",
    "    print(\"Len data :\",len(data))\n",
    "    url = f\"https://www.allocine.fr/films/?page={page_number}\"\n",
    "    req = Request(\n",
    "        url=url, \n",
    "        headers={'User-Agent': 'Mozilla/5.0'}\n",
    "    )\n",
    "    webpage = urlopen(req).read()\n",
    "    soup = BeautifulSoup(webpage, 'html.parser')\n",
    "    movies = soup.find_all(\"a\",{\"class\" : \"meta-title-link\"})\n",
    "\n",
    "    # Récupération des données de chaque film\n",
    "    if len(movies)==0 : \n",
    "        break\n",
    "    for movie in movies:\n",
    "        film_data = {\n",
    "            'titre':movie.text,\n",
    "            'id': re.sub(r\"\\D\", \"\",movie.get(\"href\")),\n",
    "        }\n",
    "        data.append(film_data)\n",
    "    page_number += 1\n",
    "    clear_output()\n",
    "df=pd.DataFrame(data)\n",
    "df.head()"
   ]
  },
  {
   "cell_type": "markdown",
   "id": "7606dd50",
   "metadata": {},
   "source": [
    "# Sauvegardes de données"
   ]
  },
  {
   "cell_type": "code",
   "execution_count": 45,
   "id": "61abcfbb",
   "metadata": {},
   "outputs": [],
   "source": [
    "df[\"titre\"]= df[\"titre\"].str.lower()\n",
    "df= df.drop_duplicates()\n",
    "df.to_csv(data_path+\"allocine_titre_id.csv\",index=False)"
   ]
  },
  {
   "cell_type": "markdown",
   "id": "1c311cfc",
   "metadata": {},
   "source": [
    "# Observations des données "
   ]
  },
  {
   "cell_type": "code",
   "execution_count": 8,
   "id": "aca3018a",
   "metadata": {},
   "outputs": [
    {
     "name": "stdout",
     "output_type": "stream",
     "text": [
      "Valeurs nan dans titre : 0\n",
      "Valeurs nan dans id : 0\n",
      "\n",
      "Valeurs uniques dans titre : 19141\n",
      "Valeurs uniques dans id : 19982\n",
      "\n",
      "Shape : (20010, 2)\n"
     ]
    }
   ],
   "source": [
    "df = pd.read_csv(data_path+\"allocine_titre_id.csv\")\n",
    "check_nan(df)\n",
    "print()\n",
    "check_unique(df)\n",
    "print()\n",
    "print(\"Shape :\",df.shape)"
   ]
  },
  {
   "cell_type": "code",
   "execution_count": null,
   "id": "2ff7a04a",
   "metadata": {},
   "outputs": [],
   "source": []
  }
 ],
 "metadata": {
  "kernelspec": {
   "display_name": "Python 3 (ipykernel)",
   "language": "python",
   "name": "python3"
  },
  "language_info": {
   "codemirror_mode": {
    "name": "ipython",
    "version": 3
   },
   "file_extension": ".py",
   "mimetype": "text/x-python",
   "name": "python",
   "nbconvert_exporter": "python",
   "pygments_lexer": "ipython3",
   "version": "3.9.15"
  }
 },
 "nbformat": 4,
 "nbformat_minor": 5
}
