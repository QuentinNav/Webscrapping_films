{
 "cells": [
  {
   "cell_type": "markdown",
   "id": "fa71a85e",
   "metadata": {},
   "source": [
    "# Import des librairies "
   ]
  },
  {
   "cell_type": "code",
   "execution_count": 1,
   "id": "c5fcf889",
   "metadata": {},
   "outputs": [],
   "source": [
    "import pandas as pd \n",
    "from IPython.display import clear_output\n",
    "import requests\n",
    "from bs4 import BeautifulSoup\n",
    "from urllib.request import Request, urlopen\n",
    "import re\n",
    "import csv\n",
    "import numpy as np\n",
    "import re\n",
    "from tqdm import tqdm\n",
    "import time\n",
    "from selenium import webdriver\n",
    "from selenium.webdriver.common.keys import Keys\n",
    "from webdriver_manager.chrome import ChromeDriverManager\n",
    "from selenium.webdriver.common.by import By\n",
    "from concurrent import futures\n",
    "import dateparser\n",
    "\n",
    "import warnings\n",
    "warnings.filterwarnings('ignore')\n",
    "\n",
    "data_path=\"Data/\"#Chemin du dossier pour enregistrer le fichier csv"
   ]
  },
  {
   "cell_type": "code",
   "execution_count": 2,
   "id": "452a6eaa",
   "metadata": {},
   "outputs": [],
   "source": [
    "def check_nan(df):\n",
    "    for i in df.columns.tolist():\n",
    "        print(\"Valeurs nan dans \"+str(i)+\" : \"+str(df[i].isna().sum()))\n",
    "        \n",
    "def check_unique(df):\n",
    "    for i in df.columns.tolist():\n",
    "        print(\"Valeurs uniques dans \"+str(i)+\" : \"+str(df[i].nunique()))"
   ]
  },
  {
   "cell_type": "markdown",
   "id": "446f8124",
   "metadata": {},
   "source": [
    "# Chargement des données déjà existantes"
   ]
  },
  {
   "cell_type": "code",
   "execution_count": 3,
   "id": "3e2f0bea",
   "metadata": {
    "scrolled": false
   },
   "outputs": [
    {
     "data": {
      "text/html": [
       "<div>\n",
       "<style scoped>\n",
       "    .dataframe tbody tr th:only-of-type {\n",
       "        vertical-align: middle;\n",
       "    }\n",
       "\n",
       "    .dataframe tbody tr th {\n",
       "        vertical-align: top;\n",
       "    }\n",
       "\n",
       "    .dataframe thead th {\n",
       "        text-align: right;\n",
       "    }\n",
       "</style>\n",
       "<table border=\"1\" class=\"dataframe\">\n",
       "  <thead>\n",
       "    <tr style=\"text-align: right;\">\n",
       "      <th></th>\n",
       "      <th>titre</th>\n",
       "      <th>id</th>\n",
       "    </tr>\n",
       "  </thead>\n",
       "  <tbody>\n",
       "    <tr>\n",
       "      <th>0</th>\n",
       "      <td>avatar : la voie de l'eau</td>\n",
       "      <td>178014</td>\n",
       "    </tr>\n",
       "    <tr>\n",
       "      <th>1</th>\n",
       "      <td>les banshees d'inisherin</td>\n",
       "      <td>281293</td>\n",
       "    </tr>\n",
       "    <tr>\n",
       "      <th>2</th>\n",
       "      <td>tempête</td>\n",
       "      <td>289305</td>\n",
       "    </tr>\n",
       "    <tr>\n",
       "      <th>3</th>\n",
       "      <td>m3gan</td>\n",
       "      <td>266320</td>\n",
       "    </tr>\n",
       "    <tr>\n",
       "      <th>4</th>\n",
       "      <td>le tourbillon de la vie</td>\n",
       "      <td>288544</td>\n",
       "    </tr>\n",
       "  </tbody>\n",
       "</table>\n",
       "</div>"
      ],
      "text/plain": [
       "                       titre      id\n",
       "0  avatar : la voie de l'eau  178014\n",
       "1   les banshees d'inisherin  281293\n",
       "2                    tempête  289305\n",
       "3                      m3gan  266320\n",
       "4    le tourbillon de la vie  288544"
      ]
     },
     "execution_count": 3,
     "metadata": {},
     "output_type": "execute_result"
    }
   ],
   "source": [
    "df_ids = pd.read_csv(data_path+\"allocine_titre_id.csv\")\n",
    "df_ids.head()"
   ]
  },
  {
   "cell_type": "markdown",
   "id": "047f2ed2",
   "metadata": {},
   "source": [
    "# Scrapping des données de la page casting pour chaque film "
   ]
  },
  {
   "cell_type": "markdown",
   "id": "97187ef5",
   "metadata": {},
   "source": [
    "## Fonctions "
   ]
  },
  {
   "cell_type": "code",
   "execution_count": 4,
   "id": "704fd7fb",
   "metadata": {},
   "outputs": [],
   "source": [
    "def first_connexion(headless=False) :\n",
    "    options = webdriver.ChromeOptions()\n",
    "    \n",
    "    if headless==True : \n",
    "        options.add_argument('-headless')\n",
    "        options.add_argument(\"--window-size=1920,1080\")\n",
    "    driver = webdriver.Chrome(ChromeDriverManager().install(),options=options)\n",
    "    driver.get(\"https://www.allocine.fr/\")\n",
    "    time.sleep(1)\n",
    "    #driver.get_screenshot_as_file(\"screenshot.png\")\n",
    "    if headless==False : \n",
    "        cookies_box = driver.find_element(By.XPATH, '//*[@id=\"cmp-main\"]/button[2]')\n",
    "        cookies_box.click()\n",
    "    time.sleep(5)\n",
    "    return driver"
   ]
  },
  {
   "cell_type": "code",
   "execution_count": 5,
   "id": "6fd35de8",
   "metadata": {},
   "outputs": [],
   "source": [
    "def init_save_files(number) :\n",
    "    for i in range(number) :\n",
    "        df_movies_init= pd.DataFrame(columns= ['movie_id','realisateurs','scenaristes','acteurs'])\n",
    "        df_movies_init.to_csv(data_path+f\"allocine_casting/cast_movies_{i}.csv\",index=False)\n",
    "        \n",
    "        df_people_init = pd.DataFrame(columns=[\"id\",\"nom\"])\n",
    "        df_people_init.to_csv(data_path+f\"allocine_casting/people_{i}.csv\",index=False)"
   ]
  },
  {
   "cell_type": "code",
   "execution_count": 6,
   "id": "7551cc89",
   "metadata": {},
   "outputs": [],
   "source": [
    "def init_movies_by_driver(nb_drivers, len_data) :\n",
    "    drivers_ids_range ={}\n",
    "    nb_films_by_driver = np.ceil(len_data/nb_drivers)\n",
    "    for i in range(nb_drivers) :\n",
    "        drivers_ids_range[i]=  {\"start\" : int(i * nb_films_by_driver), \"end\" : int((i+1)*nb_films_by_driver)}\n",
    "    return drivers_ids_range "
   ]
  },
  {
   "cell_type": "code",
   "execution_count": 7,
   "id": "9b555eaf",
   "metadata": {},
   "outputs": [],
   "source": [
    "def workload_driver(info_driver) :\n",
    "    data_processed = df_ids.iloc[info_driver[\"index_start\"]:info_driver[\"index_end\"]].iloc[:nb_films_by_iter]\n",
    "    driver= first_connexion(headless=True)#Première connexion\n",
    "    #Scrapping des données\n",
    "    new_data_movie = []\n",
    "    new_data_people= []\n",
    "    for index, id in enumerate(data_processed[\"id\"]) : \n",
    "        new_data = get_data_casting(id, driver)\n",
    "        new_data_movie.append(new_data[\"movie\"])\n",
    "        new_data_people +=new_data[\"people\"]\n",
    "        if index % 20 == 0 : \n",
    "            if info_driver[\"id\"] ==0 : \n",
    "                clear_output()\n",
    "            print(f\"Driver n°{info_driver['id']} : {index} films\")\n",
    "                \n",
    "    driver.close()\n",
    "    \n",
    "    #Sauvegarde des données\n",
    "    df_movies= pd.DataFrame(new_data_movie)\n",
    "    df_people = pd.DataFrame(new_data_people)\n",
    "    \n",
    "    \n",
    "    temp_movies = pd.read_csv(data_path+f\"allocine_casting/cast_movies_{info_driver['id']}.csv\")\n",
    "    temp_people = pd.read_csv(data_path+f\"allocine_casting/people_{info_driver['id']}.csv\")\n",
    "\n",
    "    pd.concat([temp_movies, df_movies]).to_csv(data_path+f\"allocine_casting/cast_movies_{info_driver['id']}.csv\",index=False)\n",
    "    pd.concat([temp_people, df_people]).to_csv(data_path+f\"allocine_casting/people_{info_driver['id']}.csv\",index=False)"
   ]
  },
  {
   "cell_type": "code",
   "execution_count": 8,
   "id": "42d20cb9",
   "metadata": {},
   "outputs": [],
   "source": [
    "#Scrappe les données de la page casting de l'identifant de film associé en utilisant le driver en input \n",
    "def get_data_casting(movie_id, driver) : \n",
    "    url=f\"https://www.allocine.fr/film/fichefilm-{movie_id}/casting/\"\n",
    "    data={\"movie\":{}, \"people\":[]}\n",
    "    data[\"movie\"][\"movie_id\"] =movie_id\n",
    "\n",
    "    driver.get(url)\n",
    "    time.sleep(0.3)\n",
    "\n",
    "    #Scrapping des réalisateurs : \n",
    "    sections = driver.find_elements_by_class_name(\"section.casting-director\")\n",
    "    if len(sections)>0 : \n",
    "        section = BeautifulSoup(sections[0].get_attribute(\"innerHTML\"), 'html.parser')#On converti la section en soup bf4 \n",
    "        directors = section.find_all(\"a\",{\"class\" : \"meta-title-link\"})\n",
    "        if len(directors)>0 :\n",
    "            directors_id= []\n",
    "            for director in directors : \n",
    "                id =re.sub(r\"\\D\", \"\",director.get(\"href\"))#On récupère l'id du réalisateur\n",
    "                data[\"people\"].append({\"id\":id, \"nom\":director.text})\n",
    "                directors_id.append(id)\n",
    "            data[\"movie\"][\"realisateurs\"]= directors_id\n",
    "\n",
    "\n",
    "    #Scrapping des scénarites : \n",
    "    sections= driver.find_elements_by_class_name(\"section.casting-list-gql\")\n",
    "    if len(sections) >0: \n",
    "        for section in sections : \n",
    "            section = BeautifulSoup(section.get_attribute(\"innerHTML\"),\"html.parser\")\n",
    "            titlebars = section.find_all(\"h2\",{\"class\" :\"titlebar-title titlebar-title-md\" }) \n",
    "            if len(titlebars)>0 : \n",
    "                for titlebar in titlebars : \n",
    "                    if titlebar.text.lower() == \"scénaristes\" : \n",
    "                        scenarists= section.find_all(\"a\",{\"class\": \"xXx item link\"})\n",
    "                        if len(scenarists)>0 :\n",
    "                            scenarists_id =[]\n",
    "                            for scenarist in scenarists :\n",
    "                                id= re.sub(r\"\\D\", \"\",scenarist.get(\"href\"))#On récupère l'id du scénariste\n",
    "                                data[\"people\"].append({\"id\":id, \"nom\":scenarist.text})\n",
    "                                scenarists_id.append(id)\n",
    "                            data[\"movie\"][\"scenaristes\"]=scenarists_id\n",
    "\n",
    "\n",
    "    #Scrapping des acteurs : \n",
    "    sections= driver.find_elements_by_class_name(\"section.casting-actor\")\n",
    "    if len(sections)>0 : \n",
    "        section = BeautifulSoup(sections[0].get_attribute(\"innerHTML\"), 'html.parser')#On converti la section en soup bf4 \n",
    "        actors= section.find_all(\"a\",{\"class\" : \"meta-title-link\"})\n",
    "        if len(actors)>0 : \n",
    "            actors_id = []\n",
    "            for actor in actors : \n",
    "                id =re.sub(r\"\\D\", \"\",actor.get(\"href\"))#On récupère l'id de l'acteur\n",
    "                data[\"people\"].append({\"id\":id, \"nom\":actor.text})\n",
    "                actors_id.append(id)\n",
    "            data[\"movie\"][\"acteurs\"]=actors_id \n",
    "\n",
    "    return data "
   ]
  },
  {
   "cell_type": "markdown",
   "id": "9b79d457",
   "metadata": {},
   "source": [
    "### Protos"
   ]
  },
  {
   "cell_type": "code",
   "execution_count": 75,
   "id": "574efe31",
   "metadata": {
    "scrolled": false
   },
   "outputs": [
    {
     "data": {
      "text/plain": [
       "{'movie': {'movie_id': 53750,\n",
       "  'realisateurs': ['119261'],\n",
       "  'scenaristes': ['40125', '30532'],\n",
       "  'acteurs': ['97468',\n",
       "   '536',\n",
       "   '12563',\n",
       "   '14454',\n",
       "   '105159',\n",
       "   '44953',\n",
       "   '561',\n",
       "   '6351']},\n",
       " 'people': [{'id': '119261', 'nom': 'David Bowers'},\n",
       "  {'id': '40125', 'nom': 'Timothy Harris'},\n",
       "  {'id': '30532', 'nom': 'Osamu Tezuka'},\n",
       "  {'id': '97468', 'nom': 'Freddie Highmore'},\n",
       "  {'id': '536', 'nom': 'Nicolas Cage'},\n",
       "  {'id': '12563', 'nom': 'Charlize Theron'},\n",
       "  {'id': '14454', 'nom': 'Samuel L. Jackson'},\n",
       "  {'id': '105159', 'nom': 'Kristen Bell'},\n",
       "  {'id': '44953', 'nom': 'Eugene Levy'},\n",
       "  {'id': '561', 'nom': 'Donald Sutherland'},\n",
       "  {'id': '6351', 'nom': 'Bill Nighy'}]}"
      ]
     },
     "execution_count": 75,
     "metadata": {},
     "output_type": "execute_result"
    }
   ],
   "source": [
    "movie_id=53750\n",
    "\n",
    "driver = first_connexion()\n",
    "url=f\"https://www.allocine.fr/film/fichefilm-{movie_id}/casting/\"\n",
    "data={\"movie\":{}, \"people\":[]}\n",
    "data[\"movie\"][\"movie_id\"] =movie_id\n",
    "\n",
    "driver.get(url)\n",
    "\n",
    "time.sleep(0.3)\n",
    "\n",
    "#Scrapping des réalisateurs : \n",
    "sections = driver.find_elements_by_class_name(\"section.casting-director\")\n",
    "if len(sections)>0 : \n",
    "    section = BeautifulSoup(sections[0].get_attribute(\"innerHTML\"), 'html.parser')#On converti la section en soup bf4 \n",
    "    directors = section.find_all(\"a\",{\"class\" : \"meta-title-link\"})\n",
    "    if len(directors)>0 :\n",
    "        directors_id= []\n",
    "        for director in directors : \n",
    "            id =re.sub(r\"\\D\", \"\",director.get(\"href\"))#On récupère l'id du réalisateur\n",
    "            data[\"people\"].append({\"id\":id, \"nom\":director.text})\n",
    "            directors_id.append(id)\n",
    "        data[\"movie\"][\"realisateurs\"]= directors_id\n",
    "\n",
    "        \n",
    "#Scrapping des scénarites : \n",
    "sections= driver.find_elements_by_class_name(\"section.casting-list-gql\")\n",
    "if len(sections) >0: \n",
    "    for section in sections : \n",
    "        section = BeautifulSoup(section.get_attribute(\"innerHTML\"),\"html.parser\")\n",
    "        titlebars = section.find_all(\"h2\",{\"class\" :\"titlebar-title titlebar-title-md\" }) \n",
    "        if len(titlebars)>0 : \n",
    "            for titlebar in titlebars : \n",
    "                if titlebar.text.lower() == \"scénaristes\" : \n",
    "                    scenarists= section.find_all(\"a\",{\"class\": \"xXx item link\"})\n",
    "                    if len(scenarists)>0 :\n",
    "                        scenarists_id =[]\n",
    "                        for scenarist in scenarists :\n",
    "                            id= re.sub(r\"\\D\", \"\",scenarist.get(\"href\"))#On récupère l'id du scénariste\n",
    "                            data[\"people\"].append({\"id\":id, \"nom\":scenarist.text})\n",
    "                            scenarists_id.append(id)\n",
    "                        data[\"movie\"][\"scenaristes\"]=scenarists_id\n",
    "        \n",
    "        \n",
    "#Scrapping des acteurs : \n",
    "sections= driver.find_elements_by_class_name(\"section.casting-actor\")\n",
    "if len(sections)>0 : \n",
    "    section = BeautifulSoup(sections[0].get_attribute(\"innerHTML\"), 'html.parser')#On converti la section en soup bf4 \n",
    "    actors= section.find_all(\"a\",{\"class\" : \"meta-title-link\"})\n",
    "    if len(actors)>0 : \n",
    "        actors_id = []\n",
    "        for actor in actors : \n",
    "            id =re.sub(r\"\\D\", \"\",actor.get(\"href\"))#On récupère l'id de l'acteur\n",
    "            data[\"people\"].append({\"id\":id, \"nom\":actor.text})\n",
    "            actors_id.append(id)\n",
    "        data[\"movie\"][\"acteurs\"]=actors_id \n",
    "\n",
    "        \n",
    "\n",
    "driver.close()\n",
    "data"
   ]
  },
  {
   "cell_type": "markdown",
   "id": "d1062bc6",
   "metadata": {},
   "source": [
    "## Algorithme final "
   ]
  },
  {
   "cell_type": "markdown",
   "id": "196c0031",
   "metadata": {},
   "source": [
    "19H15"
   ]
  },
  {
   "cell_type": "code",
   "execution_count": 9,
   "id": "bc121280",
   "metadata": {},
   "outputs": [
    {
     "name": "stdout",
     "output_type": "stream",
     "text": [
      "Driver n°0 : 20 films\n",
      "Driver n°2 : 20 films\n",
      "Driver n°5 : 20 films\n",
      "Driver n°4 : 20 films\n",
      "Driver n°3 : 20 films\n",
      "CPU times: total: 8min 48s\n",
      "Wall time: 2h 3min 11s\n"
     ]
    }
   ],
   "source": [
    "%%time\n",
    "nb_drivers = 6\n",
    "nb_films_by_iter =100\n",
    "nb_movies= len(df_ids)\n",
    "\n",
    "ids_movies_by_drivers = init_movies_by_driver(nb_drivers, nb_movies)\n",
    "\n",
    "nb_iterations =(nb_movies//(nb_drivers*nb_films_by_iter))+1\n",
    "\n",
    "init_save_files(nb_drivers)\n",
    "\n",
    "#Nombre de fois que les drivers vont se lancer et se fermer\n",
    "for j in range(nb_iterations) : \n",
    "    print(\"Itération :\",j)\n",
    "    with futures.ThreadPoolExecutor() as executor: \n",
    "        future_results = [ executor.submit(workload_driver,{'id':i, 'index_start' :ids_movies_by_drivers[i][\"start\"]+nb_films_by_iter*j , 'index_end':ids_movies_by_drivers[i][\"end\"]})  for i in range(nb_drivers) ] \n",
    "        for future_result in future_results: \n",
    "            future_result = future_result.result() # can use `timeout` to wait max seconds for each thread               \n",
    "\n",
    "#Concaténation et enregirstrement des données\n",
    "df_movies=pd.DataFrame()\n",
    "for i in range(nb_drivers): \n",
    "    df_movies=pd.concat([df_movies, pd.read_csv(data_path+f\"allocine_casting/cast_movies_{i}.csv\")])\n",
    "df_movies.to_csv(data_path+\"allocine_casting_movies.csv\",index=False)\n",
    "\n",
    "df_people=pd.DataFrame()\n",
    "for i in range(nb_drivers): \n",
    "    df_people=pd.concat([df_people, pd.read_csv(data_path+f\"allocine_casting/people_{i}.csv\")])\n",
    "df_people.to_csv(data_path+f\"allocine_id_people.csv\",index=False) "
   ]
  },
  {
   "cell_type": "markdown",
   "id": "4b413161",
   "metadata": {},
   "source": [
    "# Lecture des données "
   ]
  },
  {
   "cell_type": "markdown",
   "id": "08ac46c4",
   "metadata": {},
   "source": [
    "## df_movies"
   ]
  },
  {
   "cell_type": "code",
   "execution_count": 10,
   "id": "9015c683",
   "metadata": {},
   "outputs": [
    {
     "name": "stdout",
     "output_type": "stream",
     "text": [
      "Shape df_movies : (19982, 4)\n",
      "\n",
      "Valeurs nan dans movie_id : 0\n",
      "Valeurs nan dans realisateurs : 149\n",
      "Valeurs nan dans scenaristes : 707\n",
      "Valeurs nan dans acteurs : 150\n",
      "\n",
      "Valeurs uniques dans movie_id : 19982\n",
      "Valeurs uniques dans realisateurs : 8658\n",
      "Valeurs uniques dans scenaristes : 16657\n",
      "Valeurs uniques dans acteurs : 19815\n"
     ]
    },
    {
     "data": {
      "text/html": [
       "<div>\n",
       "<style scoped>\n",
       "    .dataframe tbody tr th:only-of-type {\n",
       "        vertical-align: middle;\n",
       "    }\n",
       "\n",
       "    .dataframe tbody tr th {\n",
       "        vertical-align: top;\n",
       "    }\n",
       "\n",
       "    .dataframe thead th {\n",
       "        text-align: right;\n",
       "    }\n",
       "</style>\n",
       "<table border=\"1\" class=\"dataframe\">\n",
       "  <thead>\n",
       "    <tr style=\"text-align: right;\">\n",
       "      <th></th>\n",
       "      <th>movie_id</th>\n",
       "      <th>realisateurs</th>\n",
       "      <th>scenaristes</th>\n",
       "      <th>acteurs</th>\n",
       "    </tr>\n",
       "  </thead>\n",
       "  <tbody>\n",
       "    <tr>\n",
       "      <th>0</th>\n",
       "      <td>178014</td>\n",
       "      <td>['1066']</td>\n",
       "      <td>['49984', '1066', '1066', '49985', '49984', '4...</td>\n",
       "      <td>['41339', '34515', '259', '6407', '12973', '22...</td>\n",
       "    </tr>\n",
       "    <tr>\n",
       "      <th>1</th>\n",
       "      <td>281293</td>\n",
       "      <td>['142452']</td>\n",
       "      <td>['142452']</td>\n",
       "      <td>['41623', '21353', '101150', '646346', '60312'...</td>\n",
       "    </tr>\n",
       "    <tr>\n",
       "      <th>2</th>\n",
       "      <td>289305</td>\n",
       "      <td>['16478']</td>\n",
       "      <td>['267165', '923099', '267165', '267165', '1647...</td>\n",
       "      <td>['18273', '194479', '465360', '895145', '84779...</td>\n",
       "    </tr>\n",
       "    <tr>\n",
       "      <th>3</th>\n",
       "      <td>266320</td>\n",
       "      <td>['692670']</td>\n",
       "      <td>['575327', '575327', '97569']</td>\n",
       "      <td>['502680', '844314', '794353', '982500', '7069...</td>\n",
       "    </tr>\n",
       "    <tr>\n",
       "      <th>4</th>\n",
       "      <td>288544</td>\n",
       "      <td>['507431']</td>\n",
       "      <td>['507431', '923535']</td>\n",
       "      <td>['415513', '67071', '17614', '167254', '136213...</td>\n",
       "    </tr>\n",
       "  </tbody>\n",
       "</table>\n",
       "</div>"
      ],
      "text/plain": [
       "   movie_id realisateurs                                        scenaristes  \\\n",
       "0    178014     ['1066']  ['49984', '1066', '1066', '49985', '49984', '4...   \n",
       "1    281293   ['142452']                                         ['142452']   \n",
       "2    289305    ['16478']  ['267165', '923099', '267165', '267165', '1647...   \n",
       "3    266320   ['692670']                      ['575327', '575327', '97569']   \n",
       "4    288544   ['507431']                               ['507431', '923535']   \n",
       "\n",
       "                                             acteurs  \n",
       "0  ['41339', '34515', '259', '6407', '12973', '22...  \n",
       "1  ['41623', '21353', '101150', '646346', '60312'...  \n",
       "2  ['18273', '194479', '465360', '895145', '84779...  \n",
       "3  ['502680', '844314', '794353', '982500', '7069...  \n",
       "4  ['415513', '67071', '17614', '167254', '136213...  "
      ]
     },
     "execution_count": 10,
     "metadata": {},
     "output_type": "execute_result"
    }
   ],
   "source": [
    "df_movies=pd.read_csv(data_path+\"allocine_casting_movies.csv\")\n",
    "print(\"Shape df_movies :\",df_movies.shape)\n",
    "print()\n",
    "check_nan(df_movies)\n",
    "print()\n",
    "check_unique(df_movies)\n",
    "df_movies.head()"
   ]
  },
  {
   "cell_type": "markdown",
   "id": "22c7f5b1",
   "metadata": {},
   "source": [
    "## df_people "
   ]
  },
  {
   "cell_type": "code",
   "execution_count": 11,
   "id": "63a50f0f",
   "metadata": {},
   "outputs": [
    {
     "name": "stdout",
     "output_type": "stream",
     "text": [
      "Shape df_people : (218909, 2)\n",
      "\n",
      "Valeurs nan dans id : 0\n",
      "Valeurs nan dans nom : 0\n",
      "\n",
      "Valeurs uniques dans id : 78448\n",
      "Valeurs uniques dans nom : 78426\n"
     ]
    },
    {
     "data": {
      "text/html": [
       "<div>\n",
       "<style scoped>\n",
       "    .dataframe tbody tr th:only-of-type {\n",
       "        vertical-align: middle;\n",
       "    }\n",
       "\n",
       "    .dataframe tbody tr th {\n",
       "        vertical-align: top;\n",
       "    }\n",
       "\n",
       "    .dataframe thead th {\n",
       "        text-align: right;\n",
       "    }\n",
       "</style>\n",
       "<table border=\"1\" class=\"dataframe\">\n",
       "  <thead>\n",
       "    <tr style=\"text-align: right;\">\n",
       "      <th></th>\n",
       "      <th>id</th>\n",
       "      <th>nom</th>\n",
       "    </tr>\n",
       "  </thead>\n",
       "  <tbody>\n",
       "    <tr>\n",
       "      <th>0</th>\n",
       "      <td>1066</td>\n",
       "      <td>James Cameron</td>\n",
       "    </tr>\n",
       "    <tr>\n",
       "      <th>1</th>\n",
       "      <td>49984</td>\n",
       "      <td>Amanda Silver</td>\n",
       "    </tr>\n",
       "    <tr>\n",
       "      <th>2</th>\n",
       "      <td>1066</td>\n",
       "      <td>James Cameron</td>\n",
       "    </tr>\n",
       "    <tr>\n",
       "      <th>3</th>\n",
       "      <td>1066</td>\n",
       "      <td>James Cameron</td>\n",
       "    </tr>\n",
       "    <tr>\n",
       "      <th>4</th>\n",
       "      <td>49985</td>\n",
       "      <td>Rick Jaffa</td>\n",
       "    </tr>\n",
       "  </tbody>\n",
       "</table>\n",
       "</div>"
      ],
      "text/plain": [
       "      id            nom\n",
       "0   1066  James Cameron\n",
       "1  49984  Amanda Silver\n",
       "2   1066  James Cameron\n",
       "3   1066  James Cameron\n",
       "4  49985     Rick Jaffa"
      ]
     },
     "execution_count": 11,
     "metadata": {},
     "output_type": "execute_result"
    }
   ],
   "source": [
    "df_people = pd.read_csv(data_path+f\"allocine_id_people.csv\")\n",
    "print(\"Shape df_people :\",df_people.shape)\n",
    "print()\n",
    "check_nan(df_people)\n",
    "print()\n",
    "check_unique(df_people)\n",
    "df_people.head()"
   ]
  },
  {
   "cell_type": "markdown",
   "id": "7dd38957",
   "metadata": {},
   "source": [
    "# Nettoyage des données : "
   ]
  },
  {
   "cell_type": "code",
   "execution_count": 18,
   "id": "f04dd189",
   "metadata": {},
   "outputs": [
    {
     "name": "stdout",
     "output_type": "stream",
     "text": [
      "(19982, 4)\n",
      "Valeurs uniques dans movie_id : 19982\n",
      "Valeurs uniques dans realisateurs : 8658\n",
      "Valeurs uniques dans scenaristes : 16657\n",
      "Valeurs uniques dans acteurs : 19815\n"
     ]
    }
   ],
   "source": [
    "df_movies =df_movies.drop_duplicates()\n",
    "print(df_movies.shape)\n",
    "check_unique(df_movies)"
   ]
  },
  {
   "cell_type": "code",
   "execution_count": 19,
   "id": "fe3b0c44",
   "metadata": {},
   "outputs": [
    {
     "name": "stdout",
     "output_type": "stream",
     "text": [
      "(78448, 2)\n",
      "Valeurs uniques dans id : 78448\n",
      "Valeurs uniques dans nom : 78425\n"
     ]
    }
   ],
   "source": [
    "df_people =df_people.drop_duplicates([\"id\"])\n",
    "print(df_people.shape)\n",
    "check_unique(df_people)"
   ]
  },
  {
   "cell_type": "markdown",
   "id": "bd6ccdaa",
   "metadata": {},
   "source": [
    "# Sauvegarde des données "
   ]
  },
  {
   "cell_type": "code",
   "execution_count": 24,
   "id": "12a9babb",
   "metadata": {},
   "outputs": [],
   "source": [
    "df_people.to_csv(data_path+f\"allocine_id_people.csv\",index=False)\n",
    "df_movies.to_csv(data_path+\"allocine_casting_movies.csv\",index=False)"
   ]
  }
 ],
 "metadata": {
  "kernelspec": {
   "display_name": "Python 3 (ipykernel)",
   "language": "python",
   "name": "python3"
  },
  "language_info": {
   "codemirror_mode": {
    "name": "ipython",
    "version": 3
   },
   "file_extension": ".py",
   "mimetype": "text/x-python",
   "name": "python",
   "nbconvert_exporter": "python",
   "pygments_lexer": "ipython3",
   "version": "3.9.15"
  }
 },
 "nbformat": 4,
 "nbformat_minor": 5
}
