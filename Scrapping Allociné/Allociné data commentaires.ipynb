{
 "cells": [
  {
   "cell_type": "markdown",
   "id": "fa71a85e",
   "metadata": {},
   "source": [
    "# Import des librairies "
   ]
  },
  {
   "cell_type": "code",
   "execution_count": 1,
   "id": "c5fcf889",
   "metadata": {},
   "outputs": [],
   "source": [
    "import pandas as pd \n",
    "from IPython.display import clear_output\n",
    "import requests\n",
    "from bs4 import BeautifulSoup\n",
    "from urllib.request import Request, urlopen\n",
    "import re\n",
    "import csv\n",
    "import numpy as np\n",
    "import re\n",
    "from tqdm import tqdm\n",
    "import time\n",
    "from selenium import webdriver\n",
    "from selenium.webdriver.common.keys import Keys\n",
    "from webdriver_manager.chrome import ChromeDriverManager\n",
    "from selenium.webdriver.common.by import By\n",
    "from concurrent import futures\n",
    "import dateparser\n",
    "\n",
    "import warnings\n",
    "warnings.filterwarnings('ignore')\n",
    "\n",
    "data_path=\"Data/\"#Chemin du dossier pour enregistrer le fichier csv"
   ]
  },
  {
   "cell_type": "code",
   "execution_count": 2,
   "id": "452a6eaa",
   "metadata": {},
   "outputs": [],
   "source": [
    "def check_nan(df):\n",
    "    for i in df.columns.tolist():\n",
    "        print(\"Valeurs nan dans \"+str(i)+\" : \"+str(df[i].isna().sum()))\n",
    "        \n",
    "def check_unique(df):\n",
    "    for i in df.columns.tolist():\n",
    "        print(\"Valeurs uniques dans \"+str(i)+\" : \"+str(df[i].nunique()))"
   ]
  },
  {
   "cell_type": "markdown",
   "id": "446f8124",
   "metadata": {},
   "source": [
    "# Chargement des données déjà existantes"
   ]
  },
  {
   "cell_type": "markdown",
   "id": "786fde9c",
   "metadata": {},
   "source": [
    "On charge le dataset avec les données de la page home pour ne pas scrapper que les films qui ont une note moyenne spectateurs"
   ]
  },
  {
   "cell_type": "code",
   "execution_count": 3,
   "id": "3e2f0bea",
   "metadata": {
    "scrolled": true
   },
   "outputs": [
    {
     "data": {
      "text/html": [
       "<div>\n",
       "<style scoped>\n",
       "    .dataframe tbody tr th:only-of-type {\n",
       "        vertical-align: middle;\n",
       "    }\n",
       "\n",
       "    .dataframe tbody tr th {\n",
       "        vertical-align: top;\n",
       "    }\n",
       "\n",
       "    .dataframe thead th {\n",
       "        text-align: right;\n",
       "    }\n",
       "</style>\n",
       "<table border=\"1\" class=\"dataframe\">\n",
       "  <thead>\n",
       "    <tr style=\"text-align: right;\">\n",
       "      <th></th>\n",
       "      <th>id</th>\n",
       "      <th>titre</th>\n",
       "      <th>date_sortie</th>\n",
       "      <th>support</th>\n",
       "      <th>duree</th>\n",
       "      <th>genres</th>\n",
       "      <th>synopsis</th>\n",
       "      <th>note_moyenne_presse</th>\n",
       "      <th>note_moyenne_spectateurs</th>\n",
       "    </tr>\n",
       "  </thead>\n",
       "  <tbody>\n",
       "    <tr>\n",
       "      <th>0</th>\n",
       "      <td>178014</td>\n",
       "      <td>avatar : la voie de l'eau</td>\n",
       "      <td>2022-12-14</td>\n",
       "      <td>en salle</td>\n",
       "      <td>192.0</td>\n",
       "      <td>['Science fiction', 'Aventure', 'Fantastique',...</td>\n",
       "      <td>Se déroulant plus d’une décennie après les évé...</td>\n",
       "      <td>4,1</td>\n",
       "      <td>4,3</td>\n",
       "    </tr>\n",
       "    <tr>\n",
       "      <th>1</th>\n",
       "      <td>281293</td>\n",
       "      <td>les banshees d'inisherin</td>\n",
       "      <td>2022-12-28</td>\n",
       "      <td>en salle</td>\n",
       "      <td>114.0</td>\n",
       "      <td>['Drame']</td>\n",
       "      <td>Sur Inisherin - une île isolée au large de la ...</td>\n",
       "      <td>3,8</td>\n",
       "      <td>3,9</td>\n",
       "    </tr>\n",
       "    <tr>\n",
       "      <th>2</th>\n",
       "      <td>289305</td>\n",
       "      <td>tempête</td>\n",
       "      <td>2022-12-21</td>\n",
       "      <td>en salle</td>\n",
       "      <td>109.0</td>\n",
       "      <td>['Comédie dramatique', 'Famille']</td>\n",
       "      <td>Née dans le haras de ses parents, Zoé a grandi...</td>\n",
       "      <td>3,0</td>\n",
       "      <td>3,9</td>\n",
       "    </tr>\n",
       "    <tr>\n",
       "      <th>3</th>\n",
       "      <td>266320</td>\n",
       "      <td>m3gan</td>\n",
       "      <td>2022-12-28</td>\n",
       "      <td>en salle</td>\n",
       "      <td>102.0</td>\n",
       "      <td>['Epouvante-horreur', 'Thriller']</td>\n",
       "      <td>M3GAN est un miracle technologique, une cyber ...</td>\n",
       "      <td>2,9</td>\n",
       "      <td>2,9</td>\n",
       "    </tr>\n",
       "    <tr>\n",
       "      <th>4</th>\n",
       "      <td>288544</td>\n",
       "      <td>le tourbillon de la vie</td>\n",
       "      <td>2022-12-21</td>\n",
       "      <td>en salle</td>\n",
       "      <td>121.0</td>\n",
       "      <td>['Drame']</td>\n",
       "      <td>Les grands tournants de notre existence sont p...</td>\n",
       "      <td>3,3</td>\n",
       "      <td>3,9</td>\n",
       "    </tr>\n",
       "  </tbody>\n",
       "</table>\n",
       "</div>"
      ],
      "text/plain": [
       "       id                      titre date_sortie   support  duree  \\\n",
       "0  178014  avatar : la voie de l'eau  2022-12-14  en salle  192.0   \n",
       "1  281293   les banshees d'inisherin  2022-12-28  en salle  114.0   \n",
       "2  289305                    tempête  2022-12-21  en salle  109.0   \n",
       "3  266320                      m3gan  2022-12-28  en salle  102.0   \n",
       "4  288544    le tourbillon de la vie  2022-12-21  en salle  121.0   \n",
       "\n",
       "                                              genres  \\\n",
       "0  ['Science fiction', 'Aventure', 'Fantastique',...   \n",
       "1                                          ['Drame']   \n",
       "2                  ['Comédie dramatique', 'Famille']   \n",
       "3                  ['Epouvante-horreur', 'Thriller']   \n",
       "4                                          ['Drame']   \n",
       "\n",
       "                                            synopsis note_moyenne_presse  \\\n",
       "0  Se déroulant plus d’une décennie après les évé...                 4,1   \n",
       "1  Sur Inisherin - une île isolée au large de la ...                 3,8   \n",
       "2  Née dans le haras de ses parents, Zoé a grandi...                 3,0   \n",
       "3  M3GAN est un miracle technologique, une cyber ...                 2,9   \n",
       "4  Les grands tournants de notre existence sont p...                 3,3   \n",
       "\n",
       "  note_moyenne_spectateurs  \n",
       "0                      4,3  \n",
       "1                      3,9  \n",
       "2                      3,9  \n",
       "3                      2,9  \n",
       "4                      3,9  "
      ]
     },
     "execution_count": 3,
     "metadata": {},
     "output_type": "execute_result"
    }
   ],
   "source": [
    "df_home = pd.read_csv(data_path+\"allocine_home_cleaned.csv\")\n",
    "df_home.head()"
   ]
  },
  {
   "cell_type": "markdown",
   "id": "9dade238",
   "metadata": {},
   "source": [
    "# Scrapping des données de la page commentaires pour chaque films"
   ]
  },
  {
   "cell_type": "markdown",
   "id": "b411bae5",
   "metadata": {},
   "source": [
    "## Fonctions"
   ]
  },
  {
   "cell_type": "code",
   "execution_count": 27,
   "id": "ed49ff5f",
   "metadata": {},
   "outputs": [],
   "source": [
    "#Renvoie une liste de dictionnaires contenant les données pour chaque review présente sur la page. \n",
    "#Si pas de commentaires sur la page renvoie une liste vide\n",
    "def get_data_reviews_page(id_movie, num_page) :\n",
    "    url = f\"https://www.allocine.fr/film/fichefilm-{id_movie}/critiques/spectateurs/?page={num_page}\"\n",
    "    data=[]\n",
    "    req = Request(\n",
    "        url=url, \n",
    "        headers={'User-Agent': 'Mozilla/5.0'}\n",
    "    )\n",
    "    try :\n",
    "        webpage = urlopen(req).read()\n",
    "        soup = BeautifulSoup(webpage, 'html.parser')\n",
    "        sections = soup.find_all(\"section\",{\"class\" :\"section\" }) \n",
    "\n",
    "        if len(sections) !=0 :  \n",
    "            reviews=  sections[0].find_all(\"div\",{\"class\" : \"hred review-card cf\"})\n",
    "            if len(reviews)!= 0 : \n",
    "                for index,review in enumerate(reviews) : \n",
    "                    data_review ={\"id_movie\":id_movie}\n",
    "                    thumbnails = review.find_all(\"span\",{\"class\":\"thumbnail-container\"})\n",
    "                    divs_note=  review.find_all(\"span\",{'class':'stareval-note'})\n",
    "                    date_container = review.find_all(\"span\" , {\"class\":\"review-card-meta-date light\"})\n",
    "                    div_contenu = review.find_all(\"div\", {\"class\" : \"content-txt review-card-content\"})\n",
    "\n",
    "                    if len(thumbnails) !=0 : \n",
    "                        data_review[\"pseudo\"] = thumbnails[0].get(\"title\")\n",
    "                    if len(divs_note) !=0 :\n",
    "                        data_review[\"note\"] =divs_note[0].text\n",
    "                    if len(date_container) !=0 :\n",
    "                        try :\n",
    "                            data_review[\"date\"] =re.search(r\"(?i)Publiée le (\\d{1,2} \\w+ \\d{4})\", date_container[0].text).group(1)\n",
    "                        except : \n",
    "                            print(f\"id : {id_movie}, page : {num_page}, review : {index}, pas de date\" )\n",
    "                    if len(div_contenu) !=0 : \n",
    "                        all_text = div_contenu[0].text\n",
    "                        text_no_spoils =all_text \n",
    "                        spoilers = div_contenu[0].find_all(\"span\",{\"class\":\"spoiler-content\"})\n",
    "                        if len(spoilers)>0:\n",
    "                            for spoil in spoilers : \n",
    "                                text_no_spoils= text_no_spoils.replace(spoil.text,\"\\n\")\n",
    "                        data_review[\"contenu_complet\"] = all_text\n",
    "                        data_review[\"contenu_sans_spoils\"]=text_no_spoils\n",
    "\n",
    "                    data.append(data_review)\n",
    "    except Exception as err :\n",
    "        print(f'id :{id_movie}, page :{num_page}, erreur : {err}')\n",
    "          \n",
    "    return data"
   ]
  },
  {
   "cell_type": "code",
   "execution_count": 20,
   "id": "d6f6d207",
   "metadata": {},
   "outputs": [],
   "source": [
    "#inputs : id du film, nombre de pages maximal que l'on souhaite scrapper\n",
    "#output\n",
    "def reviews_movies(id_movie, num_pages) : \n",
    "    data=[] #\n",
    "    num_page= 1\n",
    "    while True : \n",
    "        data_returned = get_data_reviews_page(id_movie, num_page)\n",
    "        \n",
    "        #On vérifie que des données sont retournées\n",
    "        if len(data_returned) == 0 :\n",
    "            break      \n",
    "        #On vérifie que l'on ne scrappe pas 2 fois les données de la dernière page\n",
    "        if len(data) !=0 and data[-1][\"contenu_complet\"] == data_returned[-1][\"contenu_complet\"]: \n",
    "            break\n",
    "\n",
    "        data+=data_returned\n",
    "        num_page+=1\n",
    "        if num_page==num_pages: \n",
    "            break\n",
    "            \n",
    "    \n",
    "    return data "
   ]
  },
  {
   "cell_type": "code",
   "execution_count": 21,
   "id": "62075437",
   "metadata": {},
   "outputs": [],
   "source": [
    "def init_save_files(number) :\n",
    "    for i in range(number) :\n",
    "        df_init= pd.DataFrame(columns= ['id_movie','pseudo','note','date','contenu_complet','contenu_sans_spoils'])\n",
    "        df_init.to_csv(data_path+f\"allocine_reviews/reviews_{i}.csv\",index=False)"
   ]
  },
  {
   "cell_type": "code",
   "execution_count": 22,
   "id": "d068358d",
   "metadata": {},
   "outputs": [],
   "source": [
    "def init_movies_by_driver(nb_drivers, len_data) :\n",
    "    drivers_ids_range ={}\n",
    "    nb_films_by_driver = np.ceil(len_data/nb_drivers)\n",
    "    for i in range(nb_drivers) :\n",
    "        drivers_ids_range[i]=  {\"start\" : int(i * nb_films_by_driver), \"end\" : int((i+1)*nb_films_by_driver)}\n",
    "    return drivers_ids_range "
   ]
  },
  {
   "cell_type": "markdown",
   "id": "436b1f10",
   "metadata": {},
   "source": [
    "### Idée mais finalement non retenue : "
   ]
  },
  {
   "cell_type": "code",
   "execution_count": 23,
   "id": "60fe995a",
   "metadata": {},
   "outputs": [],
   "source": [
    "# Les films étant triés par popularité décroissante, les premiers films ont beaucoup plus de commentaires que les derniers\n",
    "#Il est donc plus long de scrapper les données des premiers films que des derniers \n",
    "#Pour que les différents threads soient actifs pendant une période de temps plus équilibrée nous attribuons plus de films \n",
    "#aux derniers threads qu'aux premiers.\n",
    "\n",
    "def compute_factor(index,number):\n",
    "    return (index+np.sum(z for z in range(0,index)))/np.sum(i for i in range(1,number+1))\n",
    "\n",
    "def init_movies_by_threads(nb_threads, len_data) :\n",
    "    threads_ids_range ={}        \n",
    "    for j in range(0,nb_threads) : \n",
    "        threads_ids_range[j] = {\"start\" : int(compute_factor(j,nb_threads)* len_data), \n",
    "                                \"end\" : int(compute_factor(j+1,nb_threads)* len_data)}\n",
    "    return threads_ids_range "
   ]
  },
  {
   "cell_type": "markdown",
   "id": "ff422a13",
   "metadata": {},
   "source": [
    "#### Test fonction "
   ]
  },
  {
   "cell_type": "code",
   "execution_count": 24,
   "id": "914f0de3",
   "metadata": {},
   "outputs": [
    {
     "data": {
      "text/plain": [
       "{0: {'start': 0, 'end': 555},\n",
       " 1: {'start': 555, 'end': 1666},\n",
       " 2: {'start': 1666, 'end': 3333},\n",
       " 3: {'start': 3333, 'end': 5555},\n",
       " 4: {'start': 5555, 'end': 8333},\n",
       " 5: {'start': 8333, 'end': 11666},\n",
       " 6: {'start': 11666, 'end': 15555},\n",
       " 7: {'start': 15555, 'end': 20000}}"
      ]
     },
     "execution_count": 24,
     "metadata": {},
     "output_type": "execute_result"
    }
   ],
   "source": [
    "init_movies_by_threads(8, 20000)"
   ]
  },
  {
   "cell_type": "markdown",
   "id": "8efd5b67",
   "metadata": {},
   "source": [
    "On observe que le premier threads va scrapper 555 films contre 4445 pour le dernier."
   ]
  },
  {
   "cell_type": "markdown",
   "id": "35836f40",
   "metadata": {},
   "source": [
    "Après avoir essayé cette répartition en conditions réelles, il semblerait que le threads 0 est plus efficace que les autres, nous choisissons donc de ne pas la retenir. Nous décidons à la place de mélanger le dataset d'origine."
   ]
  },
  {
   "cell_type": "code",
   "execution_count": 25,
   "id": "8271dc2c",
   "metadata": {},
   "outputs": [],
   "source": [
    "def workload_threads(params) : \n",
    "    ids_to_process = list_ids[params[\"index_start\"]:params[\"index_end\"]]\n",
    "    new_data = []\n",
    "    \n",
    "    for index, id in enumerate(ids_to_process) : \n",
    "        new_data+= reviews_movies(id, params[\"num_pages\"])\n",
    "        if index % 10 == 0 : \n",
    "            if params[\"id\"]==0 : \n",
    "                clear_output()\n",
    "            print(f\"Threads n°{params['id']} : {index} films sur {len(ids_to_process)}\")\n",
    "    \n",
    "    #Sauvegarde des données : \n",
    "    df= pd.DataFrame(new_data)\n",
    "    temp = pd.read_csv(data_path+f\"allocine_reviews/reviews_{params['id']}.csv\")\n",
    "    pd.concat([temp,df]).to_csv(data_path+f\"allocine_reviews/reviews_{params['id']}.csv\",index=False)"
   ]
  },
  {
   "cell_type": "markdown",
   "id": "9a3da26f",
   "metadata": {},
   "source": [
    "## Proto"
   ]
  },
  {
   "cell_type": "markdown",
   "id": "fc18bb04",
   "metadata": {},
   "source": [
    "Table commentaires : \n",
    "\n",
    "    \n",
    "id_movie, pseudo auteur , date de publication , nombre d'étoiles, contenu \n"
   ]
  },
  {
   "cell_type": "markdown",
   "id": "539025ed",
   "metadata": {},
   "source": [
    "## Test fonction"
   ]
  },
  {
   "cell_type": "code",
   "execution_count": 11,
   "id": "9de41162",
   "metadata": {
    "scrolled": false
   },
   "outputs": [
    {
     "name": "stdout",
     "output_type": "stream",
     "text": [
      "Valeurs nan dans id_movie : 0\n",
      "Valeurs nan dans pseudo : 0\n",
      "Valeurs nan dans note : 0\n",
      "Valeurs nan dans date : 0\n",
      "Valeurs nan dans contenu_complet : 0\n",
      "Valeurs nan dans contenu_sans_spoils : 0\n",
      "\n",
      "Valeurs uniques dans id_movie : 1\n",
      "Valeurs uniques dans pseudo : 207\n",
      "Valeurs uniques dans note : 10\n",
      "Valeurs uniques dans date : 31\n",
      "Valeurs uniques dans contenu_complet : 207\n",
      "Valeurs uniques dans contenu_sans_spoils : 207\n",
      "CPU times: total: 1.27 s\n",
      "Wall time: 10.5 s\n"
     ]
    },
    {
     "data": {
      "text/html": [
       "<div>\n",
       "<style scoped>\n",
       "    .dataframe tbody tr th:only-of-type {\n",
       "        vertical-align: middle;\n",
       "    }\n",
       "\n",
       "    .dataframe tbody tr th {\n",
       "        vertical-align: top;\n",
       "    }\n",
       "\n",
       "    .dataframe thead th {\n",
       "        text-align: right;\n",
       "    }\n",
       "</style>\n",
       "<table border=\"1\" class=\"dataframe\">\n",
       "  <thead>\n",
       "    <tr style=\"text-align: right;\">\n",
       "      <th></th>\n",
       "      <th>id_movie</th>\n",
       "      <th>pseudo</th>\n",
       "      <th>note</th>\n",
       "      <th>date</th>\n",
       "      <th>contenu_complet</th>\n",
       "      <th>contenu_sans_spoils</th>\n",
       "    </tr>\n",
       "  </thead>\n",
       "  <tbody>\n",
       "    <tr>\n",
       "      <th>0</th>\n",
       "      <td>281293</td>\n",
       "      <td>traversay1</td>\n",
       "      <td>4,5</td>\n",
       "      <td>7 novembre 2022</td>\n",
       "      <td>\\nAprès le triomphe de Three Billboards, voir ...</td>\n",
       "      <td>\\nAprès le triomphe de Three Billboards, voir ...</td>\n",
       "    </tr>\n",
       "    <tr>\n",
       "      <th>1</th>\n",
       "      <td>281293</td>\n",
       "      <td>AZZZO</td>\n",
       "      <td>5,0</td>\n",
       "      <td>11 janvier 2023</td>\n",
       "      <td>\\nDans ses \"Pensées\", Blaise Pascal écrivit qu...</td>\n",
       "      <td>\\nDans ses \"Pensées\", Blaise Pascal écrivit qu...</td>\n",
       "    </tr>\n",
       "    <tr>\n",
       "      <th>2</th>\n",
       "      <td>281293</td>\n",
       "      <td>Jorik V</td>\n",
       "      <td>4,5</td>\n",
       "      <td>29 octobre 2022</td>\n",
       "      <td>\\nCette œuvre est une petite pépite. Un diaman...</td>\n",
       "      <td>\\nCette œuvre est une petite pépite. Un diaman...</td>\n",
       "    </tr>\n",
       "    <tr>\n",
       "      <th>3</th>\n",
       "      <td>281293</td>\n",
       "      <td>Benito G</td>\n",
       "      <td>3,5</td>\n",
       "      <td>27 décembre 2022</td>\n",
       "      <td>\\nMon Dieu que ce Banshees of Inisherin est dr...</td>\n",
       "      <td>\\nMon Dieu que ce Banshees of Inisherin est dr...</td>\n",
       "    </tr>\n",
       "    <tr>\n",
       "      <th>4</th>\n",
       "      <td>281293</td>\n",
       "      <td>Cinéphiles 44</td>\n",
       "      <td>4,5</td>\n",
       "      <td>28 décembre 2022</td>\n",
       "      <td>\\nDans les somptueux décors d'Irlande, le réal...</td>\n",
       "      <td>\\nDans les somptueux décors d'Irlande, le réal...</td>\n",
       "    </tr>\n",
       "  </tbody>\n",
       "</table>\n",
       "</div>"
      ],
      "text/plain": [
       "   id_movie         pseudo note              date  \\\n",
       "0    281293     traversay1  4,5   7 novembre 2022   \n",
       "1    281293          AZZZO  5,0   11 janvier 2023   \n",
       "2    281293        Jorik V  4,5   29 octobre 2022   \n",
       "3    281293       Benito G  3,5  27 décembre 2022   \n",
       "4    281293  Cinéphiles 44  4,5  28 décembre 2022   \n",
       "\n",
       "                                     contenu_complet  \\\n",
       "0  \\nAprès le triomphe de Three Billboards, voir ...   \n",
       "1  \\nDans ses \"Pensées\", Blaise Pascal écrivit qu...   \n",
       "2  \\nCette œuvre est une petite pépite. Un diaman...   \n",
       "3  \\nMon Dieu que ce Banshees of Inisherin est dr...   \n",
       "4  \\nDans les somptueux décors d'Irlande, le réal...   \n",
       "\n",
       "                                 contenu_sans_spoils  \n",
       "0  \\nAprès le triomphe de Three Billboards, voir ...  \n",
       "1  \\nDans ses \"Pensées\", Blaise Pascal écrivit qu...  \n",
       "2  \\nCette œuvre est une petite pépite. Un diaman...  \n",
       "3  \\nMon Dieu que ce Banshees of Inisherin est dr...  \n",
       "4  \\nDans les somptueux décors d'Irlande, le réal...  "
      ]
     },
     "execution_count": 11,
     "metadata": {},
     "output_type": "execute_result"
    }
   ],
   "source": [
    "%%time\n",
    "data = reviews_movies(281293, 20)\n",
    "df = pd.DataFrame(data)\n",
    "check_nan(df)\n",
    "print()\n",
    "check_unique(df)\n",
    "df.head()"
   ]
  },
  {
   "cell_type": "markdown",
   "id": "96c0d248",
   "metadata": {},
   "source": [
    "# Algorithme final "
   ]
  },
  {
   "cell_type": "code",
   "execution_count": 29,
   "id": "ac6d2b43",
   "metadata": {},
   "outputs": [
    {
     "name": "stdout",
     "output_type": "stream",
     "text": [
      "Threads n°0 : 3950 films sur 3954\n",
      "Threads n°1 : 3940 films sur 3954\n",
      "Threads n°3 : 3940 films sur 3954\n",
      "Threads n°1 : 3950 films sur 3954\n",
      "Threads n°3 : 3950 films sur 3954\n",
      "CPU times: total: 2h 4min 9s\n",
      "Wall time: 3h 38min 44s\n"
     ]
    }
   ],
   "source": [
    "%%time \n",
    "num_pages = 7 #Nombre maximal de pages scrappées par film \n",
    "nb_threads =5\n",
    "list_ids =df_home[~df_home[\"note_moyenne_spectateurs\"].isna()].sample(frac = 1)[\"id\"].tolist()\n",
    "nb_movies= len(list_ids)\n",
    "\n",
    "ids_movies_by_threads = init_movies_by_driver(nb_threads, nb_movies)\n",
    "init_save_files(nb_threads)\n",
    "\n",
    "with futures.ThreadPoolExecutor() as executor: \n",
    "    future_results = [ executor.submit(workload_threads,{'id':i, 'index_start' :ids_movies_by_threads[i][\"start\"] , 'index_end':ids_movies_by_threads[i][\"end\"], 'num_pages':num_pages})  for i in range(nb_threads)] \n",
    "    for future_result in future_results: \n",
    "        try: \n",
    "            future_result = future_result.result()\n",
    "        except Exception as exc: # can give a exception in some thread, but \n",
    "            print(\"thread generated an exception\",exc)\n",
    "            break;\n",
    "        \n",
    "#Concaténation et sauvegarde des données \n",
    "df=pd.DataFrame()\n",
    "for i in range(nb_threads): \n",
    "    df=pd.concat([df, pd.read_csv(data_path+f\"allocine_reviews/reviews_{i}.csv\")])\n",
    "df.to_csv(data_path+f\"allocine_reviews.csv\",index=False) "
   ]
  },
  {
   "cell_type": "markdown",
   "id": "15f77e1b",
   "metadata": {},
   "source": [
    "# Lecture des données "
   ]
  },
  {
   "cell_type": "code",
   "execution_count": 30,
   "id": "2b6d6d33",
   "metadata": {},
   "outputs": [
    {
     "name": "stdout",
     "output_type": "stream",
     "text": [
      "Shape df_movies : (924876, 6)\n",
      "\n",
      "Valeurs nan dans id_movie : 0\n",
      "Valeurs nan dans pseudo : 180339\n",
      "Valeurs nan dans note : 0\n",
      "Valeurs nan dans date : 0\n",
      "Valeurs nan dans contenu_complet : 0\n",
      "Valeurs nan dans contenu_sans_spoils : 0\n",
      "\n",
      "Valeurs uniques dans id_movie : 19058\n",
      "Valeurs uniques dans pseudo : 55724\n",
      "Valeurs uniques dans note : 10\n",
      "Valeurs uniques dans date : 5941\n",
      "Valeurs uniques dans contenu_complet : 920808\n",
      "Valeurs uniques dans contenu_sans_spoils : 920711\n"
     ]
    },
    {
     "data": {
      "text/html": [
       "<div>\n",
       "<style scoped>\n",
       "    .dataframe tbody tr th:only-of-type {\n",
       "        vertical-align: middle;\n",
       "    }\n",
       "\n",
       "    .dataframe tbody tr th {\n",
       "        vertical-align: top;\n",
       "    }\n",
       "\n",
       "    .dataframe thead th {\n",
       "        text-align: right;\n",
       "    }\n",
       "</style>\n",
       "<table border=\"1\" class=\"dataframe\">\n",
       "  <thead>\n",
       "    <tr style=\"text-align: right;\">\n",
       "      <th></th>\n",
       "      <th>id_movie</th>\n",
       "      <th>pseudo</th>\n",
       "      <th>note</th>\n",
       "      <th>date</th>\n",
       "      <th>contenu_complet</th>\n",
       "      <th>contenu_sans_spoils</th>\n",
       "    </tr>\n",
       "  </thead>\n",
       "  <tbody>\n",
       "    <tr>\n",
       "      <th>0</th>\n",
       "      <td>231865</td>\n",
       "      <td>AZZZO</td>\n",
       "      <td>4,5</td>\n",
       "      <td>27 avril 2018</td>\n",
       "      <td>\\nLa mort d'un fils. Samuel Maoz part de ce th...</td>\n",
       "      <td>\\nLa mort d'un fils. Samuel Maoz part de ce th...</td>\n",
       "    </tr>\n",
       "    <tr>\n",
       "      <th>1</th>\n",
       "      <td>231865</td>\n",
       "      <td>traversay1</td>\n",
       "      <td>4,5</td>\n",
       "      <td>27 avril 2018</td>\n",
       "      <td>\\nDans cette vieille danse surannée qu'est le ...</td>\n",
       "      <td>\\nDans cette vieille danse surannée qu'est le ...</td>\n",
       "    </tr>\n",
       "    <tr>\n",
       "      <th>2</th>\n",
       "      <td>231865</td>\n",
       "      <td>vidalger</td>\n",
       "      <td>4,5</td>\n",
       "      <td>28 avril 2018</td>\n",
       "      <td>\\nAprès Lebanon, chef d'œuvre absolu sur la gu...</td>\n",
       "      <td>\\nAprès Lebanon, chef d'œuvre absolu sur la gu...</td>\n",
       "    </tr>\n",
       "    <tr>\n",
       "      <th>3</th>\n",
       "      <td>231865</td>\n",
       "      <td>velocio</td>\n",
       "      <td>4,0</td>\n",
       "      <td>14 avril 2018</td>\n",
       "      <td>\\nIl y a 8 ans, le réalisateur israélien Samue...</td>\n",
       "      <td>\\nIl y a 8 ans, le réalisateur israélien Samue...</td>\n",
       "    </tr>\n",
       "    <tr>\n",
       "      <th>4</th>\n",
       "      <td>231865</td>\n",
       "      <td>Daniel C.</td>\n",
       "      <td>5,0</td>\n",
       "      <td>28 avril 2018</td>\n",
       "      <td>\\nQue signifie mourir ? Comment supporter la p...</td>\n",
       "      <td>\\nQue signifie mourir ? Comment supporter la p...</td>\n",
       "    </tr>\n",
       "  </tbody>\n",
       "</table>\n",
       "</div>"
      ],
      "text/plain": [
       "   id_movie      pseudo note           date  \\\n",
       "0    231865       AZZZO  4,5  27 avril 2018   \n",
       "1    231865  traversay1  4,5  27 avril 2018   \n",
       "2    231865    vidalger  4,5  28 avril 2018   \n",
       "3    231865     velocio  4,0  14 avril 2018   \n",
       "4    231865   Daniel C.  5,0  28 avril 2018   \n",
       "\n",
       "                                     contenu_complet  \\\n",
       "0  \\nLa mort d'un fils. Samuel Maoz part de ce th...   \n",
       "1  \\nDans cette vieille danse surannée qu'est le ...   \n",
       "2  \\nAprès Lebanon, chef d'œuvre absolu sur la gu...   \n",
       "3  \\nIl y a 8 ans, le réalisateur israélien Samue...   \n",
       "4  \\nQue signifie mourir ? Comment supporter la p...   \n",
       "\n",
       "                                 contenu_sans_spoils  \n",
       "0  \\nLa mort d'un fils. Samuel Maoz part de ce th...  \n",
       "1  \\nDans cette vieille danse surannée qu'est le ...  \n",
       "2  \\nAprès Lebanon, chef d'œuvre absolu sur la gu...  \n",
       "3  \\nIl y a 8 ans, le réalisateur israélien Samue...  \n",
       "4  \\nQue signifie mourir ? Comment supporter la p...  "
      ]
     },
     "execution_count": 30,
     "metadata": {},
     "output_type": "execute_result"
    }
   ],
   "source": [
    "df=pd.read_csv(data_path+f\"allocine_reviews.csv\")\n",
    "print(\"Shape df_movies :\",df.shape)\n",
    "print()\n",
    "check_nan(df)\n",
    "print()\n",
    "check_unique(df)\n",
    "df.head()"
   ]
  },
  {
   "cell_type": "markdown",
   "id": "939e5cb3",
   "metadata": {},
   "source": [
    "# Nettoyage des données "
   ]
  },
  {
   "cell_type": "markdown",
   "id": "c820adec",
   "metadata": {},
   "source": [
    "## Drop des dupliqués"
   ]
  },
  {
   "cell_type": "code",
   "execution_count": 32,
   "id": "e9fd09e0",
   "metadata": {},
   "outputs": [],
   "source": [
    "df =df.drop_duplicates()"
   ]
  },
  {
   "cell_type": "markdown",
   "id": "fc980b05",
   "metadata": {},
   "source": [
    "## Parsing des dates "
   ]
  },
  {
   "cell_type": "code",
   "execution_count": 33,
   "id": "651abd45",
   "metadata": {},
   "outputs": [
    {
     "data": {
      "text/html": [
       "<div>\n",
       "<style scoped>\n",
       "    .dataframe tbody tr th:only-of-type {\n",
       "        vertical-align: middle;\n",
       "    }\n",
       "\n",
       "    .dataframe tbody tr th {\n",
       "        vertical-align: top;\n",
       "    }\n",
       "\n",
       "    .dataframe thead th {\n",
       "        text-align: right;\n",
       "    }\n",
       "</style>\n",
       "<table border=\"1\" class=\"dataframe\">\n",
       "  <thead>\n",
       "    <tr style=\"text-align: right;\">\n",
       "      <th></th>\n",
       "      <th>id_movie</th>\n",
       "      <th>pseudo</th>\n",
       "      <th>note</th>\n",
       "      <th>date</th>\n",
       "      <th>contenu_complet</th>\n",
       "      <th>contenu_sans_spoils</th>\n",
       "    </tr>\n",
       "  </thead>\n",
       "  <tbody>\n",
       "    <tr>\n",
       "      <th>0</th>\n",
       "      <td>231865</td>\n",
       "      <td>AZZZO</td>\n",
       "      <td>4,5</td>\n",
       "      <td>2018-04-27</td>\n",
       "      <td>\\nLa mort d'un fils. Samuel Maoz part de ce th...</td>\n",
       "      <td>\\nLa mort d'un fils. Samuel Maoz part de ce th...</td>\n",
       "    </tr>\n",
       "    <tr>\n",
       "      <th>1</th>\n",
       "      <td>231865</td>\n",
       "      <td>traversay1</td>\n",
       "      <td>4,5</td>\n",
       "      <td>2018-04-27</td>\n",
       "      <td>\\nDans cette vieille danse surannée qu'est le ...</td>\n",
       "      <td>\\nDans cette vieille danse surannée qu'est le ...</td>\n",
       "    </tr>\n",
       "    <tr>\n",
       "      <th>2</th>\n",
       "      <td>231865</td>\n",
       "      <td>vidalger</td>\n",
       "      <td>4,5</td>\n",
       "      <td>2018-04-28</td>\n",
       "      <td>\\nAprès Lebanon, chef d'œuvre absolu sur la gu...</td>\n",
       "      <td>\\nAprès Lebanon, chef d'œuvre absolu sur la gu...</td>\n",
       "    </tr>\n",
       "    <tr>\n",
       "      <th>3</th>\n",
       "      <td>231865</td>\n",
       "      <td>velocio</td>\n",
       "      <td>4,0</td>\n",
       "      <td>2018-04-14</td>\n",
       "      <td>\\nIl y a 8 ans, le réalisateur israélien Samue...</td>\n",
       "      <td>\\nIl y a 8 ans, le réalisateur israélien Samue...</td>\n",
       "    </tr>\n",
       "    <tr>\n",
       "      <th>4</th>\n",
       "      <td>231865</td>\n",
       "      <td>Daniel C.</td>\n",
       "      <td>5,0</td>\n",
       "      <td>2018-04-28</td>\n",
       "      <td>\\nQue signifie mourir ? Comment supporter la p...</td>\n",
       "      <td>\\nQue signifie mourir ? Comment supporter la p...</td>\n",
       "    </tr>\n",
       "  </tbody>\n",
       "</table>\n",
       "</div>"
      ],
      "text/plain": [
       "   id_movie      pseudo note       date  \\\n",
       "0    231865       AZZZO  4,5 2018-04-27   \n",
       "1    231865  traversay1  4,5 2018-04-27   \n",
       "2    231865    vidalger  4,5 2018-04-28   \n",
       "3    231865     velocio  4,0 2018-04-14   \n",
       "4    231865   Daniel C.  5,0 2018-04-28   \n",
       "\n",
       "                                     contenu_complet  \\\n",
       "0  \\nLa mort d'un fils. Samuel Maoz part de ce th...   \n",
       "1  \\nDans cette vieille danse surannée qu'est le ...   \n",
       "2  \\nAprès Lebanon, chef d'œuvre absolu sur la gu...   \n",
       "3  \\nIl y a 8 ans, le réalisateur israélien Samue...   \n",
       "4  \\nQue signifie mourir ? Comment supporter la p...   \n",
       "\n",
       "                                 contenu_sans_spoils  \n",
       "0  \\nLa mort d'un fils. Samuel Maoz part de ce th...  \n",
       "1  \\nDans cette vieille danse surannée qu'est le ...  \n",
       "2  \\nAprès Lebanon, chef d'œuvre absolu sur la gu...  \n",
       "3  \\nIl y a 8 ans, le réalisateur israélien Samue...  \n",
       "4  \\nQue signifie mourir ? Comment supporter la p...  "
      ]
     },
     "execution_count": 33,
     "metadata": {},
     "output_type": "execute_result"
    }
   ],
   "source": [
    "df['date'] = df['date'].apply(dateparser.parse)\n",
    "df.head()"
   ]
  },
  {
   "cell_type": "markdown",
   "id": "f6197a8b",
   "metadata": {},
   "source": [
    "# Sauvegarde"
   ]
  },
  {
   "cell_type": "code",
   "execution_count": 35,
   "id": "f7cd05fb",
   "metadata": {},
   "outputs": [],
   "source": [
    "df.to_csv(data_path+\"allocine_reviews_cleaned.csv\",index=False)"
   ]
  }
 ],
 "metadata": {
  "kernelspec": {
   "display_name": "Python 3 (ipykernel)",
   "language": "python",
   "name": "python3"
  },
  "language_info": {
   "codemirror_mode": {
    "name": "ipython",
    "version": 3
   },
   "file_extension": ".py",
   "mimetype": "text/x-python",
   "name": "python",
   "nbconvert_exporter": "python",
   "pygments_lexer": "ipython3",
   "version": "3.9.15"
  }
 },
 "nbformat": 4,
 "nbformat_minor": 5
}
