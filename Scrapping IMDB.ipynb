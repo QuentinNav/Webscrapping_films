{
 "cells": [
  {
   "cell_type": "markdown",
   "id": "ed5c03f9",
   "metadata": {},
   "source": [
    "# Import des librairies"
   ]
  },
  {
   "cell_type": "code",
   "execution_count": 1,
   "id": "808fb2d3",
   "metadata": {},
   "outputs": [],
   "source": [
    "import pandas as pd \n",
    "from IPython.display import clear_output\n",
    "import requests\n",
    "from bs4 import BeautifulSoup\n",
    "import urllib\n",
    "from urllib.request import Request, urlopen\n",
    "import re\n",
    "import csv\n",
    "import numpy as np\n",
    "import re\n",
    "from tqdm import tqdm\n",
    "import time\n",
    "from selenium import webdriver\n",
    "from selenium.webdriver.common.keys import Keys\n",
    "from webdriver_manager.chrome import ChromeDriverManager\n",
    "from selenium.webdriver.common.by import By\n",
    "from concurrent import futures\n",
    "import dateparser\n",
    "import operator\n",
    "import Levenshtein as lev\n",
    "import random\n",
    "\n",
    "#Matplotlib and Seaborn parameters : \n",
    "import seaborn as sns\n",
    "import matplotlib.pyplot as plt\n",
    "from matplotlib import rcParams\n",
    "rcParams['figure.figsize'] = 15,8 #Taille de la figure affichée\n",
    "sns.set_style(\"darkgrid\")#style de l'arrière plan de seaborn \n",
    "sns.set_palette(\"pastel\")#Couleurs utilisées dans les graphiques\n",
    "\n",
    "import warnings\n",
    "warnings.filterwarnings('ignore')\n",
    "\n",
    "data_path=\"Data/\"#Chemin du dossier pour enregistrer le fichier csv"
   ]
  },
  {
   "cell_type": "code",
   "execution_count": 2,
   "id": "b3f75285",
   "metadata": {},
   "outputs": [],
   "source": [
    "def check_nan(df):\n",
    "    for i in df.columns.tolist():\n",
    "        print(\"Valeurs nan dans \"+str(i)+\" : \"+str(df[i].isna().sum()))\n",
    "        \n",
    "def check_unique(df):\n",
    "    for i in df.columns.tolist():\n",
    "        print(\"Valeurs uniques dans \"+str(i)+\" : \"+str(df[i].nunique()))"
   ]
  },
  {
   "cell_type": "markdown",
   "id": "446f8124",
   "metadata": {},
   "source": [
    "# Chargement des données déjà existantes"
   ]
  },
  {
   "cell_type": "code",
   "execution_count": 3,
   "id": "68e44392",
   "metadata": {
    "scrolled": false
   },
   "outputs": [
    {
     "data": {
      "text/html": [
       "<div>\n",
       "<style scoped>\n",
       "    .dataframe tbody tr th:only-of-type {\n",
       "        vertical-align: middle;\n",
       "    }\n",
       "\n",
       "    .dataframe tbody tr th {\n",
       "        vertical-align: top;\n",
       "    }\n",
       "\n",
       "    .dataframe thead th {\n",
       "        text-align: right;\n",
       "    }\n",
       "</style>\n",
       "<table border=\"1\" class=\"dataframe\">\n",
       "  <thead>\n",
       "    <tr style=\"text-align: right;\">\n",
       "      <th></th>\n",
       "      <th>id</th>\n",
       "      <th>titre</th>\n",
       "      <th>date_sortie</th>\n",
       "      <th>support</th>\n",
       "      <th>duree</th>\n",
       "      <th>genres</th>\n",
       "      <th>synopsis</th>\n",
       "      <th>note_moyenne_presse</th>\n",
       "      <th>note_moyenne_spectateurs</th>\n",
       "    </tr>\n",
       "  </thead>\n",
       "  <tbody>\n",
       "    <tr>\n",
       "      <th>0</th>\n",
       "      <td>178014</td>\n",
       "      <td>avatar : la voie de l'eau</td>\n",
       "      <td>2022-12-14</td>\n",
       "      <td>en salle</td>\n",
       "      <td>192.0</td>\n",
       "      <td>['Science fiction', 'Aventure', 'Fantastique',...</td>\n",
       "      <td>Se déroulant plus d’une décennie après les évé...</td>\n",
       "      <td>4,1</td>\n",
       "      <td>4,3</td>\n",
       "    </tr>\n",
       "    <tr>\n",
       "      <th>1</th>\n",
       "      <td>281293</td>\n",
       "      <td>les banshees d'inisherin</td>\n",
       "      <td>2022-12-28</td>\n",
       "      <td>en salle</td>\n",
       "      <td>114.0</td>\n",
       "      <td>['Drame']</td>\n",
       "      <td>Sur Inisherin - une île isolée au large de la ...</td>\n",
       "      <td>3,8</td>\n",
       "      <td>3,9</td>\n",
       "    </tr>\n",
       "  </tbody>\n",
       "</table>\n",
       "</div>"
      ],
      "text/plain": [
       "       id                      titre date_sortie   support  duree  \\\n",
       "0  178014  avatar : la voie de l'eau  2022-12-14  en salle  192.0   \n",
       "1  281293   les banshees d'inisherin  2022-12-28  en salle  114.0   \n",
       "\n",
       "                                              genres  \\\n",
       "0  ['Science fiction', 'Aventure', 'Fantastique',...   \n",
       "1                                          ['Drame']   \n",
       "\n",
       "                                            synopsis note_moyenne_presse  \\\n",
       "0  Se déroulant plus d’une décennie après les évé...                 4,1   \n",
       "1  Sur Inisherin - une île isolée au large de la ...                 3,8   \n",
       "\n",
       "  note_moyenne_spectateurs  \n",
       "0                      4,3  \n",
       "1                      3,9  "
      ]
     },
     "execution_count": 3,
     "metadata": {},
     "output_type": "execute_result"
    }
   ],
   "source": [
    "df_home = pd.read_csv(data_path+\"allocine_home_cleaned.csv\")\n",
    "df_cast= pd.read_csv(data_path+\"allocine_casting_movies.csv\")\n",
    "df_name_people=pd.read_csv(data_path+\"allocine_id_people.csv\") \n",
    "df_home.head(2)"
   ]
  },
  {
   "cell_type": "markdown",
   "id": "e62f731b",
   "metadata": {},
   "source": [
    "## Mise en forme des données existantes"
   ]
  },
  {
   "cell_type": "markdown",
   "id": "3de412ca",
   "metadata": {},
   "source": [
    "### Conversion des strings représentants des listes en listes"
   ]
  },
  {
   "cell_type": "code",
   "execution_count": 4,
   "id": "d27b5090",
   "metadata": {},
   "outputs": [],
   "source": [
    "def convert_string_list(df, columns) : \n",
    "    for col in columns : \n",
    "        df[col] = df[col].apply(lambda list_ids : eval(list_ids) if list_ids!=\"nan\" else np.nan)\n",
    "    return df "
   ]
  },
  {
   "cell_type": "code",
   "execution_count": 5,
   "id": "7bf93be7",
   "metadata": {},
   "outputs": [],
   "source": [
    "df_cast[\"realisateurs\"]= df_cast[\"realisateurs\"].astype(str)\n",
    "df_cast[\"scenaristes\"] = df_cast[\"scenaristes\"].astype(str)\n",
    "df_cast[\"acteurs\"] = df_cast[\"acteurs\"].astype(str)\n",
    "df_cast= convert_string_list(df_cast, [\"realisateurs\",\"scenaristes\",\"acteurs\"])"
   ]
  },
  {
   "cell_type": "markdown",
   "id": "b8f1d0c4",
   "metadata": {},
   "source": [
    "### On remplace les ids par les vrais noms "
   ]
  },
  {
   "cell_type": "code",
   "execution_count": 6,
   "id": "32a22262",
   "metadata": {},
   "outputs": [
    {
     "name": "stdout",
     "output_type": "stream",
     "text": [
      "CPU times: total: 156 ms\n",
      "Wall time: 153 ms\n"
     ]
    },
    {
     "data": {
      "text/html": [
       "<div>\n",
       "<style scoped>\n",
       "    .dataframe tbody tr th:only-of-type {\n",
       "        vertical-align: middle;\n",
       "    }\n",
       "\n",
       "    .dataframe tbody tr th {\n",
       "        vertical-align: top;\n",
       "    }\n",
       "\n",
       "    .dataframe thead th {\n",
       "        text-align: right;\n",
       "    }\n",
       "</style>\n",
       "<table border=\"1\" class=\"dataframe\">\n",
       "  <thead>\n",
       "    <tr style=\"text-align: right;\">\n",
       "      <th></th>\n",
       "      <th>movie_id</th>\n",
       "      <th>realisateurs</th>\n",
       "      <th>scenaristes</th>\n",
       "      <th>acteurs</th>\n",
       "    </tr>\n",
       "  </thead>\n",
       "  <tbody>\n",
       "    <tr>\n",
       "      <th>0</th>\n",
       "      <td>178014</td>\n",
       "      <td>James Cameron</td>\n",
       "      <td>(Amanda Silver, James Cameron, James Cameron, ...</td>\n",
       "      <td>(Sam Worthington, Zoe Saldana, Sigourney Weave...</td>\n",
       "    </tr>\n",
       "    <tr>\n",
       "      <th>1</th>\n",
       "      <td>281293</td>\n",
       "      <td>Martin McDonagh</td>\n",
       "      <td>Martin McDonagh</td>\n",
       "      <td>(Colin Farrell, Brendan Gleeson, Kerry Condon,...</td>\n",
       "    </tr>\n",
       "    <tr>\n",
       "      <th>2</th>\n",
       "      <td>289305</td>\n",
       "      <td>Christian Duguay</td>\n",
       "      <td>(Lilou Fogli, Christophe Donner, Lilou Fogli, ...</td>\n",
       "      <td>(Mélanie Laurent, Pio Marmaï, Kacey Mottet Kle...</td>\n",
       "    </tr>\n",
       "    <tr>\n",
       "      <th>3</th>\n",
       "      <td>266320</td>\n",
       "      <td>Gerard Johnstone</td>\n",
       "      <td>(Akela Cooper, Akela Cooper, James Wan)</td>\n",
       "      <td>(Allison Williams, Violet McGraw, Ronny Chieng...</td>\n",
       "    </tr>\n",
       "    <tr>\n",
       "      <th>4</th>\n",
       "      <td>288544</td>\n",
       "      <td>Olivier Treiner</td>\n",
       "      <td>(Olivier Treiner, Camille Treiner)</td>\n",
       "      <td>(Lou de Laâge, Raphaël Personnaz, Isabelle Car...</td>\n",
       "    </tr>\n",
       "  </tbody>\n",
       "</table>\n",
       "</div>"
      ],
      "text/plain": [
       "   movie_id      realisateurs  \\\n",
       "0    178014     James Cameron   \n",
       "1    281293   Martin McDonagh   \n",
       "2    289305  Christian Duguay   \n",
       "3    266320  Gerard Johnstone   \n",
       "4    288544   Olivier Treiner   \n",
       "\n",
       "                                         scenaristes  \\\n",
       "0  (Amanda Silver, James Cameron, James Cameron, ...   \n",
       "1                                    Martin McDonagh   \n",
       "2  (Lilou Fogli, Christophe Donner, Lilou Fogli, ...   \n",
       "3            (Akela Cooper, Akela Cooper, James Wan)   \n",
       "4                 (Olivier Treiner, Camille Treiner)   \n",
       "\n",
       "                                             acteurs  \n",
       "0  (Sam Worthington, Zoe Saldana, Sigourney Weave...  \n",
       "1  (Colin Farrell, Brendan Gleeson, Kerry Condon,...  \n",
       "2  (Mélanie Laurent, Pio Marmaï, Kacey Mottet Kle...  \n",
       "3  (Allison Williams, Violet McGraw, Ronny Chieng...  \n",
       "4  (Lou de Laâge, Raphaël Personnaz, Isabelle Car...  "
      ]
     },
     "execution_count": 6,
     "metadata": {},
     "output_type": "execute_result"
    }
   ],
   "source": [
    "%%time \n",
    "df_name_people[\"id\"] = df_name_people[\"id\"].astype(str)\n",
    "dict_id_name = df_name_people.set_index(\"id\")[\"nom\"].to_dict()\n",
    "for col in df_cast.set_index(\"movie_id\").columns : \n",
    "    df_cast[col]= df_cast[col].apply(lambda list_ids : operator.itemgetter(*list_ids)(dict_id_name) if type(list_ids)!=float else [] )\n",
    "df_cast.head()"
   ]
  },
  {
   "cell_type": "markdown",
   "id": "e20463b5",
   "metadata": {},
   "source": [
    "### Jointure df_home et df_cast "
   ]
  },
  {
   "cell_type": "code",
   "execution_count": 7,
   "id": "5e5010aa",
   "metadata": {},
   "outputs": [
    {
     "data": {
      "text/html": [
       "<div>\n",
       "<style scoped>\n",
       "    .dataframe tbody tr th:only-of-type {\n",
       "        vertical-align: middle;\n",
       "    }\n",
       "\n",
       "    .dataframe tbody tr th {\n",
       "        vertical-align: top;\n",
       "    }\n",
       "\n",
       "    .dataframe thead th {\n",
       "        text-align: right;\n",
       "    }\n",
       "</style>\n",
       "<table border=\"1\" class=\"dataframe\">\n",
       "  <thead>\n",
       "    <tr style=\"text-align: right;\">\n",
       "      <th></th>\n",
       "      <th>movie_id</th>\n",
       "      <th>titre</th>\n",
       "      <th>date_sortie</th>\n",
       "      <th>realisateurs</th>\n",
       "      <th>scenaristes</th>\n",
       "      <th>acteurs</th>\n",
       "      <th>release_year</th>\n",
       "    </tr>\n",
       "  </thead>\n",
       "  <tbody>\n",
       "    <tr>\n",
       "      <th>0</th>\n",
       "      <td>178014</td>\n",
       "      <td>avatar : la voie de l'eau</td>\n",
       "      <td>2022-12-14</td>\n",
       "      <td>James Cameron</td>\n",
       "      <td>(Amanda Silver, James Cameron, James Cameron, ...</td>\n",
       "      <td>[Sam Worthington, Zoe Saldana, Sigourney Weave...</td>\n",
       "      <td>2022</td>\n",
       "    </tr>\n",
       "    <tr>\n",
       "      <th>1</th>\n",
       "      <td>281293</td>\n",
       "      <td>les banshees d'inisherin</td>\n",
       "      <td>2022-12-28</td>\n",
       "      <td>Martin McDonagh</td>\n",
       "      <td>Martin McDonagh</td>\n",
       "      <td>[Colin Farrell, Brendan Gleeson, Kerry Condon,...</td>\n",
       "      <td>2022</td>\n",
       "    </tr>\n",
       "    <tr>\n",
       "      <th>2</th>\n",
       "      <td>289305</td>\n",
       "      <td>tempête</td>\n",
       "      <td>2022-12-21</td>\n",
       "      <td>Christian Duguay</td>\n",
       "      <td>(Lilou Fogli, Christophe Donner, Lilou Fogli, ...</td>\n",
       "      <td>[Mélanie Laurent, Pio Marmaï, Kacey Mottet Kle...</td>\n",
       "      <td>2022</td>\n",
       "    </tr>\n",
       "    <tr>\n",
       "      <th>3</th>\n",
       "      <td>266320</td>\n",
       "      <td>m3gan</td>\n",
       "      <td>2022-12-28</td>\n",
       "      <td>Gerard Johnstone</td>\n",
       "      <td>(Akela Cooper, Akela Cooper, James Wan)</td>\n",
       "      <td>[Allison Williams, Violet McGraw, Ronny Chieng...</td>\n",
       "      <td>2022</td>\n",
       "    </tr>\n",
       "    <tr>\n",
       "      <th>4</th>\n",
       "      <td>288544</td>\n",
       "      <td>le tourbillon de la vie</td>\n",
       "      <td>2022-12-21</td>\n",
       "      <td>Olivier Treiner</td>\n",
       "      <td>(Olivier Treiner, Camille Treiner)</td>\n",
       "      <td>[Lou de Laâge, Raphaël Personnaz, Isabelle Car...</td>\n",
       "      <td>2022</td>\n",
       "    </tr>\n",
       "  </tbody>\n",
       "</table>\n",
       "</div>"
      ],
      "text/plain": [
       "   movie_id                      titre date_sortie      realisateurs  \\\n",
       "0    178014  avatar : la voie de l'eau  2022-12-14     James Cameron   \n",
       "1    281293   les banshees d'inisherin  2022-12-28   Martin McDonagh   \n",
       "2    289305                    tempête  2022-12-21  Christian Duguay   \n",
       "3    266320                      m3gan  2022-12-28  Gerard Johnstone   \n",
       "4    288544    le tourbillon de la vie  2022-12-21   Olivier Treiner   \n",
       "\n",
       "                                         scenaristes  \\\n",
       "0  (Amanda Silver, James Cameron, James Cameron, ...   \n",
       "1                                    Martin McDonagh   \n",
       "2  (Lilou Fogli, Christophe Donner, Lilou Fogli, ...   \n",
       "3            (Akela Cooper, Akela Cooper, James Wan)   \n",
       "4                 (Olivier Treiner, Camille Treiner)   \n",
       "\n",
       "                                             acteurs  release_year  \n",
       "0  [Sam Worthington, Zoe Saldana, Sigourney Weave...          2022  \n",
       "1  [Colin Farrell, Brendan Gleeson, Kerry Condon,...          2022  \n",
       "2  [Mélanie Laurent, Pio Marmaï, Kacey Mottet Kle...          2022  \n",
       "3  [Allison Williams, Violet McGraw, Ronny Chieng...          2022  \n",
       "4  [Lou de Laâge, Raphaël Personnaz, Isabelle Car...          2022  "
      ]
     },
     "execution_count": 7,
     "metadata": {},
     "output_type": "execute_result"
    }
   ],
   "source": [
    "df_data=pd.merge(df_home,df_cast, left_on=\"id\", right_on=\"movie_id\")[[\"movie_id\",\"titre\",\"date_sortie\",\"realisateurs\",\n",
    "                                                              \"scenaristes\",\"acteurs\"]]\n",
    "\n",
    "df_data[\"release_year\"]= pd.to_datetime(df_data[\"date_sortie\"]).dt.year\n",
    "df_data[\"acteurs\"] = df_data[\"acteurs\"].apply(lambda list_actors : [list_actors] if type(list_actors) == str else list(list_actors))\n",
    "df_data.head()"
   ]
  },
  {
   "cell_type": "markdown",
   "id": "9eea9326",
   "metadata": {},
   "source": [
    "# Scrapping des données du box office IMDB"
   ]
  },
  {
   "cell_type": "markdown",
   "id": "c9ad2195",
   "metadata": {},
   "source": [
    "## Fonctions : "
   ]
  },
  {
   "cell_type": "code",
   "execution_count": 8,
   "id": "13cd093b",
   "metadata": {},
   "outputs": [],
   "source": [
    "def init_movies_by_driver(nb_drivers, len_data) :\n",
    "    drivers_ids_range ={}\n",
    "    nb_films_by_driver = np.ceil(len_data/nb_drivers)\n",
    "    for i in range(nb_drivers) :\n",
    "        drivers_ids_range[i]=  {\"start\" : int(i * nb_films_by_driver), \"end\" : int((i+1)*nb_films_by_driver)}\n",
    "    return drivers_ids_range "
   ]
  },
  {
   "cell_type": "code",
   "execution_count": 9,
   "id": "cc95e3b3",
   "metadata": {},
   "outputs": [],
   "source": [
    "def init_save_files_ids(number) :\n",
    "    for i in range(number) :\n",
    "        df_init= pd.DataFrame(columns= ['id_searched_movie', 'titre', 'id', 'year', 'actors', 'score_title','score_year', 'score_actors','score_mean'])\n",
    "        df_init.to_csv(data_path+f\"IMDB_matching/{i}.csv\",index=False)"
   ]
  },
  {
   "cell_type": "code",
   "execution_count": 10,
   "id": "e20f58d0",
   "metadata": {},
   "outputs": [],
   "source": [
    "def init_save_files_box_office(number) :\n",
    "    for i in range(number) :\n",
    "        df_init= pd.DataFrame(columns= ['id_searched_movie', 'titre', 'id', 'year', 'actors', 'score_title','score_year', 'score_actors','score_mean'])\n",
    "        df_init.to_csv(data_path+f\"IMDB_box_office/{i}.csv\",index=False)"
   ]
  },
  {
   "cell_type": "code",
   "execution_count": 11,
   "id": "71a63713",
   "metadata": {},
   "outputs": [],
   "source": [
    "def workload_threads(params) : \n",
    "    df_to_process = df_data.iloc[params[\"index_start\"]:params[\"index_end\"]]\n",
    "    new_data = []\n",
    "    \n",
    "    for i in range(len(df_to_process)) : \n",
    "        new_data+= get_best_matching_imdb(df_to_process[\"movie_id\"].iloc[i],df_to_process[\"titre\"].iloc[i], df_to_process[\"acteurs\"].iloc[i],df_to_process[\"release_year\"].iloc[i] )\n",
    "        if i % 20 == 0 : \n",
    "            if params[\"id\"]==0 : \n",
    "                clear_output()\n",
    "            print(f\"Threads n°{params['id']} : {i} films sur {len(df_to_process)}\")\n",
    "        time.sleep(random.randint(5,10)/10)\n",
    "    \n",
    "    #Sauvegarde des données : \n",
    "    df= pd.DataFrame(new_data)\n",
    "    temp = pd.read_csv(data_path+f\"IMDB_matching/{params['id']}.csv\")\n",
    "    pd.concat([temp,df]).to_csv(data_path+f\"IMDB_matching/{params['id']}.csv\",index=False)"
   ]
  },
  {
   "cell_type": "markdown",
   "id": "229b62e9",
   "metadata": {},
   "source": [
    "## Récupération des ids\n",
    "(nécessaires pour accéder à la page des films)"
   ]
  },
  {
   "cell_type": "markdown",
   "id": "21e1abab",
   "metadata": {},
   "source": [
    "Pour récupérer les ids nous devons rechercher les films dans la barre de recherche IMDB, comme les premiers résultats retournés ne sont pas forcément les bons. Nous créons une fonction de calcul de score similarité entre les films retournés et celui que l'on recherche. On garde ensuite le film avec le meilleur score."
   ]
  },
  {
   "cell_type": "markdown",
   "id": "e0ef526f",
   "metadata": {},
   "source": [
    "Cette fonction se base sur la similarité du titre, l'année de sortie du film et les acteurs présents. Pour ne pas que l'algorithme soit trop long nous ne nous basons que sur les informations présentes sur la page de recherche.  "
   ]
  },
  {
   "cell_type": "markdown",
   "id": "18f5b747",
   "metadata": {},
   "source": [
    "### Fonctions"
   ]
  },
  {
   "cell_type": "code",
   "execution_count": 12,
   "id": "2cd52205",
   "metadata": {},
   "outputs": [],
   "source": [
    "def format_key_words(movie_name) : \n",
    "    return urllib.parse.quote(movie_name)\n",
    "\n",
    "def list_to_lower(list_strings) : \n",
    "    for i in range(len(list_strings)) : \n",
    "        list_strings[i]=list_strings[i].lower()\n",
    "    return list_strings\n",
    "\n",
    "#Renvoie le score de similarité entre 2 strings \n",
    "def string_similarity(name1, name2):\n",
    "    distance = lev.distance(name1, name2)\n",
    "    min_length = min(len(name1), len(name2))\n",
    "    result = (min_length - distance) / min_length\n",
    "    return result * (result>0)\n",
    "\n",
    "#Calcul un score de similarité entre 2 années à partir de la distance en celles-ci\n",
    "#On considère que s'il y a 3 années ou plus d'écart le score est de 0\n",
    "def year_similarity(year1, year2) : \n",
    "    max=5\n",
    "    dif= abs(year1-year2)/max\n",
    "    score= 1- (dif)\n",
    "    return score * (score>0)\n",
    "\n",
    "#Calcul le score de similarité relié aux acteurs présents dans les 2 films\n",
    "def actors_similarity(list_actors1, list_actors2) : \n",
    "    if type(list_actors2) == str : # On s'assure que le deuxième paramètre est bien une liste\n",
    "        list_actors2 = [list_actors2]\n",
    "    if type(list_actors2) == tuple : \n",
    "        list_actors2 = list(list_actors2) \n",
    "    list_actors1 = list_to_lower(list_actors1)\n",
    "    list_actors2 = list_to_lower(list_actors2)\n",
    "    score=0\n",
    "    for actor in list_actors1 : \n",
    "        if actor in list_actors2 : \n",
    "            score+=1/len(list_actors1)\n",
    "        else : #Au cas où l'orthographe ne serait pas exactement la même\n",
    "            score+=max([string_similarity(actor, actor2) for actor2 in list_actors2])/len(list_actors1)\n",
    "    return score \n",
    "\n",
    "\n",
    "def score_similarite(name_imdb, year_imdb, actors_imdb, name, year, actors ) : \n",
    "    title_score= string_similarity(name_imdb.lower(), name.lower()) if name_imdb!=\"\" else 0\n",
    "    year_score = year_similarity(year_imdb, year) if ~np.isnan(year_imdb) else 0\n",
    "    \n",
    "    if actors_imdb != [] and len(actors)>0: \n",
    "        actors_score = actors_similarity(actors_imdb, actors)\n",
    "    elif actors_imdb ==[] and len(actors)==0 : \n",
    "        actors_score = 1\n",
    "    else : \n",
    "        actors_score= 0\n",
    "    mean_score = (title_score+year_score+actors_score )/3\n",
    "    return title_score, year_score, actors_score, mean_score"
   ]
  },
  {
   "cell_type": "code",
   "execution_count": 13,
   "id": "92d9d361",
   "metadata": {},
   "outputs": [],
   "source": [
    "def get_best_matching_imdb(movie_id, movie_name, list_actors, release_year) :\n",
    "    mots_cles = format_key_words(movie_name)#Encode le nom du film pour qu'il puisse être mis au format url \n",
    "    movies_found= []\n",
    "    #Accès à l'url de recherche\n",
    "    url = f\"https://www.imdb.com/find/?q={mots_cles}&s=tt&ttype=ft&ref_=fn_ft\"\n",
    "\n",
    "    #print(f\"nom : {movie_name}, id :{movie_id}, release_year : {release_year}\\nlist_actors : {list_actors}\\n url : {url}\")\n",
    "    req = Request(\n",
    "        url=url, \n",
    "        headers={'User-Agent': 'Mozilla/5.0'}\n",
    "    )\n",
    "    try : \n",
    "        webpage = urlopen(req).read()\n",
    "        soup = BeautifulSoup(webpage, 'html.parser')\n",
    "\n",
    "        sections = soup.find_all(\"section\",{\"data-testid\":\"find-results-section-title\"})\n",
    "\n",
    "        #On va dans la section \"titre\"\n",
    "        if len(sections)>0 : \n",
    "            for section in sections : \n",
    "                title_section = section.find(\"h3\").text.lower()\n",
    "                if \"movie\"  in title_section or \"film\" in title_section : #On est bien dans la section titre \n",
    "                    divs = section.find_all(\"div\",{\"class\":'ipc-metadata-list-summary-item__tc'})#Chaque div correspond à un film trouvé\n",
    "                    if len(divs)>0 : \n",
    "                        for div in divs :\n",
    "                            data_movie_found= {'id_searched_movie':movie_id, 'titre':\"\", 'id':'', 'year':np.nan, 'actors' : []}\n",
    "\n",
    "                            #Là où sont contenus le titre et l'identifiant du film traité\n",
    "                            a =div.find_all(\"a\", {\"class\":\"ipc-metadata-list-summary-item__t\", \"role\":\"button\"})# \n",
    "                            if len(a)>0 : \n",
    "                                data_movie_found[\"titre\"]=a[0].text\n",
    "                                data_movie_found[\"href\"] = a[0].get(\"href\")\n",
    "                                match = re.search(r\"tt\\d+\",data_movie_found[\"href\"] )\n",
    "                                if match:\n",
    "                                    data_movie_found[\"id\"] = match.group(0) \n",
    "                                else : \n",
    "                                    print(\"Pas d'id de film\")\n",
    "                                #Année : \n",
    "                                label_years_actors = div.find_all(\"label\", {\"class\": \"ipc-metadata-list-summary-item__li\", \"role\":\"button\"})\n",
    "                                if len(label_years_actors)>0 : \n",
    "                                    for label in label_years_actors : \n",
    "                                        try :  \n",
    "                                            data_movie_found[\"year\"] = int(label.text)\n",
    "                                        except : \n",
    "                                            data_movie_found[\"actors\"]= label.text.split(\", \")                                 \n",
    "                                movies_found.append(data_movie_found)\n",
    "\n",
    "        if len(movies_found) == 0 : \n",
    "            print(f\"{movie_id} , {movie_name}, aucun résultat\")\n",
    "            movies_found = [{\"id_searched_movie\" : movie_id}]\n",
    "        else : \n",
    "            for movie in movies_found : \n",
    "                #On calcule le score de similarité de chaque film : \n",
    "                movie[\"score_title\"], movie[\"score_year\"], movie[\"score_actors\"], movie[\"score_mean\"]=score_similarite(movie[\"titre\"], movie[\"year\"], movie[\"actors\"], movie_name, release_year, list_actors )\n",
    "            #On garde les 3 films avec le meilleur score moyen\n",
    "            movies_found =  sorted(movies_found, key=lambda x: x['score_mean'], reverse=True)[:1]#On ne garde que le meilleur résultat\n",
    "    except Exception as err:\n",
    "        print(f\"{movie_id}, {movie_name}, erreur : {err}\")\n",
    "\n",
    "    return movies_found"
   ]
  },
  {
   "cell_type": "markdown",
   "id": "484342b2",
   "metadata": {},
   "source": [
    "#### Test de la fonction "
   ]
  },
  {
   "cell_type": "code",
   "execution_count": 129,
   "id": "87b1c95c",
   "metadata": {},
   "outputs": [
    {
     "name": "stdout",
     "output_type": "stream",
     "text": [
      "Film recherché : \n",
      "nom : breaking news, id :57050, release_year : 2005\n",
      "list_actors : ['nick cheung', 'richie jen', 'kelly chen', 'cheung siu fai', 'maggie siu', 'simon yam', 'shiu hung hui', 'suet lam']\n",
      "\n",
      "Film trouvé : \n"
     ]
    },
    {
     "data": {
      "text/plain": [
       "[{'id_searched_movie': 57050,\n",
       "  'titre': 'Breaking News',\n",
       "  'id': 'tt0414931',\n",
       "  'year': 2004,\n",
       "  'actors': ['richie jen', 'kelly chen'],\n",
       "  'href': '/title/tt0414931/?ref_=fn_tt_tt_3',\n",
       "  'score_title': 1.0,\n",
       "  'score_year': 0.8,\n",
       "  'score_actors': 1.0,\n",
       "  'score_mean': 0.9333333333333332}]"
      ]
     },
     "execution_count": 129,
     "metadata": {},
     "output_type": "execute_result"
    }
   ],
   "source": [
    "sample = df_data.sample()\n",
    "\n",
    "movie_id = sample[\"movie_id\"].iloc[0]\n",
    "movie_name = sample[\"titre\"].iloc[0]\n",
    "list_actors = sample[\"acteurs\"].iloc[0]\n",
    "release_year=sample[\"release_year\"].iloc[0]\n",
    "print(\"Film recherché : \")\n",
    "print(f\"nom : {movie_name}, id :{movie_id}, release_year : {release_year}\\nlist_actors : {list_actors}\")\n",
    "print()\n",
    "print(\"Film trouvé : \")\n",
    "get_best_matching_imdb(movie_id, movie_name, list_actors, release_year)"
   ]
  },
  {
   "cell_type": "markdown",
   "id": "375c456b",
   "metadata": {},
   "source": [
    "## Algorithme scrapping des ids "
   ]
  },
  {
   "cell_type": "markdown",
   "id": "90876404",
   "metadata": {},
   "source": [
    "Les téléfilms ne sont pas scrappés car ils n'ont pas d'information sur leurs coûts et revenus.\n"
   ]
  },
  {
   "cell_type": "markdown",
   "id": "6804250c",
   "metadata": {},
   "source": [
    "Pour ne pas être détecté par les systèmes anti-bot du site nous avons du rajouter un délai aléatoire entre 1 et 2 secondes par film. "
   ]
  },
  {
   "cell_type": "markdown",
   "id": "18f96b7d",
   "metadata": {},
   "source": [
    "2h00"
   ]
  },
  {
   "cell_type": "code",
   "execution_count": 131,
   "id": "0d9a9ae2",
   "metadata": {},
   "outputs": [
    {
     "name": "stdout",
     "output_type": "stream",
     "text": [
      "Threads n°0 : 3960 films sur 3977\n",
      "CPU times: total: 18min 49s\n",
      "Wall time: 2h 24min 32s\n"
     ]
    }
   ],
   "source": [
    "%%time \n",
    "nb_threads =5\n",
    "list_ids =df_data[\"movie_id\"].tolist()\n",
    "nb_movies= len(list_ids)\n",
    "\n",
    "ids_movies_by_threads = init_movies_by_driver(nb_threads, nb_movies)\n",
    "init_save_files_ids(nb_threads)\n",
    "\n",
    "with futures.ThreadPoolExecutor() as executor: \n",
    "    future_results = [ executor.submit(workload_threads,{'id':i, 'index_start' :ids_movies_by_threads[i][\"start\"] , 'index_end':ids_movies_by_threads[i][\"end\"]})  for i in range(nb_threads)] \n",
    "    for future_result in future_results: \n",
    "        try: \n",
    "            future_result = future_result.result()\n",
    "        except Exception as exc: # can give a exception in some thread, but \n",
    "            print(\"thread generated an exception\",exc)\n",
    "            break;\n",
    "        \n",
    "#Concaténation et sauvegarde des données \n",
    "df=pd.DataFrame()\n",
    "for i in range(nb_threads): \n",
    "    df=pd.concat([df, pd.read_csv(data_path+f\"IMDB_matching/{i}.csv\")])\n",
    "df.to_csv(data_path+f\"IMDB_best_matching_ids.csv\",index=False) "
   ]
  },
  {
   "cell_type": "markdown",
   "id": "5a8cae8b",
   "metadata": {},
   "source": [
    "## Lecture des données"
   ]
  },
  {
   "cell_type": "code",
   "execution_count": 26,
   "id": "d2288fd5",
   "metadata": {},
   "outputs": [
    {
     "name": "stdout",
     "output_type": "stream",
     "text": [
      "Shape df : (19882, 10)\n",
      "\n",
      "Valeurs nan dans id_searched_movie : 0\n",
      "Valeurs nan dans titre : 472\n",
      "Valeurs nan dans id : 471\n",
      "Valeurs nan dans year : 511\n",
      "Valeurs nan dans actors : 471\n",
      "Valeurs nan dans score_title : 471\n",
      "Valeurs nan dans score_year : 471\n",
      "Valeurs nan dans score_actors : 471\n",
      "Valeurs nan dans score_mean : 471\n",
      "Valeurs nan dans href : 471\n",
      "\n",
      "Valeurs uniques dans id_searched_movie : 19882\n",
      "Valeurs uniques dans titre : 18064\n",
      "Valeurs uniques dans id : 18709\n",
      "Valeurs uniques dans year : 109\n",
      "Valeurs uniques dans actors : 17934\n",
      "Valeurs uniques dans score_title : 358\n",
      "Valeurs uniques dans score_year : 6\n",
      "Valeurs uniques dans score_actors : 737\n",
      "Valeurs uniques dans score_mean : 2572\n",
      "Valeurs uniques dans href : 19111\n"
     ]
    },
    {
     "data": {
      "text/html": [
       "<div>\n",
       "<style scoped>\n",
       "    .dataframe tbody tr th:only-of-type {\n",
       "        vertical-align: middle;\n",
       "    }\n",
       "\n",
       "    .dataframe tbody tr th {\n",
       "        vertical-align: top;\n",
       "    }\n",
       "\n",
       "    .dataframe thead th {\n",
       "        text-align: right;\n",
       "    }\n",
       "</style>\n",
       "<table border=\"1\" class=\"dataframe\">\n",
       "  <thead>\n",
       "    <tr style=\"text-align: right;\">\n",
       "      <th></th>\n",
       "      <th>id_searched_movie</th>\n",
       "      <th>titre</th>\n",
       "      <th>id</th>\n",
       "      <th>year</th>\n",
       "      <th>actors</th>\n",
       "      <th>score_title</th>\n",
       "      <th>score_year</th>\n",
       "      <th>score_actors</th>\n",
       "      <th>score_mean</th>\n",
       "      <th>href</th>\n",
       "    </tr>\n",
       "  </thead>\n",
       "  <tbody>\n",
       "    <tr>\n",
       "      <th>0</th>\n",
       "      <td>178014</td>\n",
       "      <td>Avatar: la voie de l'eau</td>\n",
       "      <td>tt1630029</td>\n",
       "      <td>2022.0</td>\n",
       "      <td>['sam worthington', 'zoe saldana']</td>\n",
       "      <td>0.958333</td>\n",
       "      <td>1.0</td>\n",
       "      <td>1.0</td>\n",
       "      <td>0.986111</td>\n",
       "      <td>/title/tt1630029/?ref_=fn_tt_tt_1</td>\n",
       "    </tr>\n",
       "    <tr>\n",
       "      <th>1</th>\n",
       "      <td>281293</td>\n",
       "      <td>Les Banshees d'Inisherin</td>\n",
       "      <td>tt11813216</td>\n",
       "      <td>2022.0</td>\n",
       "      <td>['colin farrell', 'brendan gleeson']</td>\n",
       "      <td>1.000000</td>\n",
       "      <td>1.0</td>\n",
       "      <td>1.0</td>\n",
       "      <td>1.000000</td>\n",
       "      <td>/title/tt11813216/?ref_=fn_tt_tt_1</td>\n",
       "    </tr>\n",
       "    <tr>\n",
       "      <th>2</th>\n",
       "      <td>289305</td>\n",
       "      <td>Tempête</td>\n",
       "      <td>tt21256038</td>\n",
       "      <td>2022.0</td>\n",
       "      <td>['mélanie laurent', 'pio marmaï']</td>\n",
       "      <td>1.000000</td>\n",
       "      <td>1.0</td>\n",
       "      <td>1.0</td>\n",
       "      <td>1.000000</td>\n",
       "      <td>/title/tt21256038/?ref_=fn_tt_tt_1</td>\n",
       "    </tr>\n",
       "    <tr>\n",
       "      <th>3</th>\n",
       "      <td>266320</td>\n",
       "      <td>M3gan</td>\n",
       "      <td>tt8760708</td>\n",
       "      <td>2022.0</td>\n",
       "      <td>['allison williams', 'violet mcgraw']</td>\n",
       "      <td>1.000000</td>\n",
       "      <td>1.0</td>\n",
       "      <td>1.0</td>\n",
       "      <td>1.000000</td>\n",
       "      <td>/title/tt8760708/?ref_=fn_tt_tt_1</td>\n",
       "    </tr>\n",
       "    <tr>\n",
       "      <th>4</th>\n",
       "      <td>288544</td>\n",
       "      <td>Le tourbillon de la vie</td>\n",
       "      <td>tt13729364</td>\n",
       "      <td>2022.0</td>\n",
       "      <td>['lou de laâge', 'raphaël personnaz']</td>\n",
       "      <td>1.000000</td>\n",
       "      <td>1.0</td>\n",
       "      <td>1.0</td>\n",
       "      <td>1.000000</td>\n",
       "      <td>/title/tt13729364/?ref_=fn_tt_tt_1</td>\n",
       "    </tr>\n",
       "  </tbody>\n",
       "</table>\n",
       "</div>"
      ],
      "text/plain": [
       "   id_searched_movie                     titre          id    year  \\\n",
       "0             178014  Avatar: la voie de l'eau   tt1630029  2022.0   \n",
       "1             281293  Les Banshees d'Inisherin  tt11813216  2022.0   \n",
       "2             289305                   Tempête  tt21256038  2022.0   \n",
       "3             266320                     M3gan   tt8760708  2022.0   \n",
       "4             288544   Le tourbillon de la vie  tt13729364  2022.0   \n",
       "\n",
       "                                  actors  score_title  score_year  \\\n",
       "0     ['sam worthington', 'zoe saldana']     0.958333         1.0   \n",
       "1   ['colin farrell', 'brendan gleeson']     1.000000         1.0   \n",
       "2      ['mélanie laurent', 'pio marmaï']     1.000000         1.0   \n",
       "3  ['allison williams', 'violet mcgraw']     1.000000         1.0   \n",
       "4  ['lou de laâge', 'raphaël personnaz']     1.000000         1.0   \n",
       "\n",
       "   score_actors  score_mean                                href  \n",
       "0           1.0    0.986111   /title/tt1630029/?ref_=fn_tt_tt_1  \n",
       "1           1.0    1.000000  /title/tt11813216/?ref_=fn_tt_tt_1  \n",
       "2           1.0    1.000000  /title/tt21256038/?ref_=fn_tt_tt_1  \n",
       "3           1.0    1.000000   /title/tt8760708/?ref_=fn_tt_tt_1  \n",
       "4           1.0    1.000000  /title/tt13729364/?ref_=fn_tt_tt_1  "
      ]
     },
     "execution_count": 26,
     "metadata": {},
     "output_type": "execute_result"
    }
   ],
   "source": [
    "df = pd.read_csv(data_path+f\"IMDB_best_matching_ids.csv\")\n",
    "print(\"Shape df :\",df.shape)\n",
    "print()\n",
    "check_nan(df)\n",
    "print()\n",
    "check_unique(df)\n",
    "df.head()"
   ]
  },
  {
   "cell_type": "markdown",
   "id": "b868d05f",
   "metadata": {},
   "source": [
    "## Netoyage des données : "
   ]
  },
  {
   "cell_type": "markdown",
   "id": "188e3593",
   "metadata": {},
   "source": [
    "### Drop des nans : "
   ]
  },
  {
   "cell_type": "code",
   "execution_count": 133,
   "id": "5fec16b7",
   "metadata": {},
   "outputs": [
    {
     "data": {
      "text/html": [
       "<div>\n",
       "<style scoped>\n",
       "    .dataframe tbody tr th:only-of-type {\n",
       "        vertical-align: middle;\n",
       "    }\n",
       "\n",
       "    .dataframe tbody tr th {\n",
       "        vertical-align: top;\n",
       "    }\n",
       "\n",
       "    .dataframe thead th {\n",
       "        text-align: right;\n",
       "    }\n",
       "</style>\n",
       "<table border=\"1\" class=\"dataframe\">\n",
       "  <thead>\n",
       "    <tr style=\"text-align: right;\">\n",
       "      <th></th>\n",
       "      <th>id_searched_movie</th>\n",
       "      <th>titre</th>\n",
       "      <th>id</th>\n",
       "      <th>year</th>\n",
       "      <th>actors</th>\n",
       "      <th>score_title</th>\n",
       "      <th>score_year</th>\n",
       "      <th>score_actors</th>\n",
       "      <th>score_mean</th>\n",
       "      <th>href</th>\n",
       "    </tr>\n",
       "  </thead>\n",
       "  <tbody>\n",
       "    <tr>\n",
       "      <th>234</th>\n",
       "      <td>298466</td>\n",
       "      <td>NaN</td>\n",
       "      <td>NaN</td>\n",
       "      <td>NaN</td>\n",
       "      <td>NaN</td>\n",
       "      <td>NaN</td>\n",
       "      <td>NaN</td>\n",
       "      <td>NaN</td>\n",
       "      <td>NaN</td>\n",
       "      <td>NaN</td>\n",
       "    </tr>\n",
       "    <tr>\n",
       "      <th>256</th>\n",
       "      <td>302292</td>\n",
       "      <td>NaN</td>\n",
       "      <td>NaN</td>\n",
       "      <td>NaN</td>\n",
       "      <td>NaN</td>\n",
       "      <td>NaN</td>\n",
       "      <td>NaN</td>\n",
       "      <td>NaN</td>\n",
       "      <td>NaN</td>\n",
       "      <td>NaN</td>\n",
       "    </tr>\n",
       "    <tr>\n",
       "      <th>330</th>\n",
       "      <td>281830</td>\n",
       "      <td>NaN</td>\n",
       "      <td>NaN</td>\n",
       "      <td>NaN</td>\n",
       "      <td>NaN</td>\n",
       "      <td>NaN</td>\n",
       "      <td>NaN</td>\n",
       "      <td>NaN</td>\n",
       "      <td>NaN</td>\n",
       "      <td>NaN</td>\n",
       "    </tr>\n",
       "    <tr>\n",
       "      <th>483</th>\n",
       "      <td>286311</td>\n",
       "      <td>NaN</td>\n",
       "      <td>NaN</td>\n",
       "      <td>NaN</td>\n",
       "      <td>NaN</td>\n",
       "      <td>NaN</td>\n",
       "      <td>NaN</td>\n",
       "      <td>NaN</td>\n",
       "      <td>NaN</td>\n",
       "      <td>NaN</td>\n",
       "    </tr>\n",
       "    <tr>\n",
       "      <th>502</th>\n",
       "      <td>108247</td>\n",
       "      <td>NaN</td>\n",
       "      <td>NaN</td>\n",
       "      <td>NaN</td>\n",
       "      <td>NaN</td>\n",
       "      <td>NaN</td>\n",
       "      <td>NaN</td>\n",
       "      <td>NaN</td>\n",
       "      <td>NaN</td>\n",
       "      <td>NaN</td>\n",
       "    </tr>\n",
       "    <tr>\n",
       "      <th>...</th>\n",
       "      <td>...</td>\n",
       "      <td>...</td>\n",
       "      <td>...</td>\n",
       "      <td>...</td>\n",
       "      <td>...</td>\n",
       "      <td>...</td>\n",
       "      <td>...</td>\n",
       "      <td>...</td>\n",
       "      <td>...</td>\n",
       "      <td>...</td>\n",
       "    </tr>\n",
       "    <tr>\n",
       "      <th>19737</th>\n",
       "      <td>201091</td>\n",
       "      <td>NaN</td>\n",
       "      <td>NaN</td>\n",
       "      <td>NaN</td>\n",
       "      <td>NaN</td>\n",
       "      <td>NaN</td>\n",
       "      <td>NaN</td>\n",
       "      <td>NaN</td>\n",
       "      <td>NaN</td>\n",
       "      <td>NaN</td>\n",
       "    </tr>\n",
       "    <tr>\n",
       "      <th>19801</th>\n",
       "      <td>7026</td>\n",
       "      <td>NaN</td>\n",
       "      <td>NaN</td>\n",
       "      <td>NaN</td>\n",
       "      <td>NaN</td>\n",
       "      <td>NaN</td>\n",
       "      <td>NaN</td>\n",
       "      <td>NaN</td>\n",
       "      <td>NaN</td>\n",
       "      <td>NaN</td>\n",
       "    </tr>\n",
       "    <tr>\n",
       "      <th>19814</th>\n",
       "      <td>306328</td>\n",
       "      <td>NaN</td>\n",
       "      <td>NaN</td>\n",
       "      <td>NaN</td>\n",
       "      <td>NaN</td>\n",
       "      <td>NaN</td>\n",
       "      <td>NaN</td>\n",
       "      <td>NaN</td>\n",
       "      <td>NaN</td>\n",
       "      <td>NaN</td>\n",
       "    </tr>\n",
       "    <tr>\n",
       "      <th>19821</th>\n",
       "      <td>9999</td>\n",
       "      <td>NaN</td>\n",
       "      <td>NaN</td>\n",
       "      <td>NaN</td>\n",
       "      <td>NaN</td>\n",
       "      <td>NaN</td>\n",
       "      <td>NaN</td>\n",
       "      <td>NaN</td>\n",
       "      <td>NaN</td>\n",
       "      <td>NaN</td>\n",
       "    </tr>\n",
       "    <tr>\n",
       "      <th>19853</th>\n",
       "      <td>232287</td>\n",
       "      <td>NaN</td>\n",
       "      <td>NaN</td>\n",
       "      <td>NaN</td>\n",
       "      <td>NaN</td>\n",
       "      <td>NaN</td>\n",
       "      <td>NaN</td>\n",
       "      <td>NaN</td>\n",
       "      <td>NaN</td>\n",
       "      <td>NaN</td>\n",
       "    </tr>\n",
       "  </tbody>\n",
       "</table>\n",
       "<p>471 rows × 10 columns</p>\n",
       "</div>"
      ],
      "text/plain": [
       "       id_searched_movie titre   id  year actors  score_title  score_year  \\\n",
       "234               298466   NaN  NaN   NaN    NaN          NaN         NaN   \n",
       "256               302292   NaN  NaN   NaN    NaN          NaN         NaN   \n",
       "330               281830   NaN  NaN   NaN    NaN          NaN         NaN   \n",
       "483               286311   NaN  NaN   NaN    NaN          NaN         NaN   \n",
       "502               108247   NaN  NaN   NaN    NaN          NaN         NaN   \n",
       "...                  ...   ...  ...   ...    ...          ...         ...   \n",
       "19737             201091   NaN  NaN   NaN    NaN          NaN         NaN   \n",
       "19801               7026   NaN  NaN   NaN    NaN          NaN         NaN   \n",
       "19814             306328   NaN  NaN   NaN    NaN          NaN         NaN   \n",
       "19821               9999   NaN  NaN   NaN    NaN          NaN         NaN   \n",
       "19853             232287   NaN  NaN   NaN    NaN          NaN         NaN   \n",
       "\n",
       "       score_actors  score_mean href  \n",
       "234             NaN         NaN  NaN  \n",
       "256             NaN         NaN  NaN  \n",
       "330             NaN         NaN  NaN  \n",
       "483             NaN         NaN  NaN  \n",
       "502             NaN         NaN  NaN  \n",
       "...             ...         ...  ...  \n",
       "19737           NaN         NaN  NaN  \n",
       "19801           NaN         NaN  NaN  \n",
       "19814           NaN         NaN  NaN  \n",
       "19821           NaN         NaN  NaN  \n",
       "19853           NaN         NaN  NaN  \n",
       "\n",
       "[471 rows x 10 columns]"
      ]
     },
     "execution_count": 133,
     "metadata": {},
     "output_type": "execute_result"
    }
   ],
   "source": [
    "df[(df[\"id\"].isna()) ]"
   ]
  },
  {
   "cell_type": "code",
   "execution_count": 134,
   "id": "a4240000",
   "metadata": {},
   "outputs": [],
   "source": [
    "df=df[~df[\"id\"].isna()]"
   ]
  },
  {
   "cell_type": "markdown",
   "id": "c2b13d17",
   "metadata": {},
   "source": [
    "Les lignes qui sont entièrements constituées de Nan sont les films pour lesquels il n'y a pas eu de résultats."
   ]
  },
  {
   "cell_type": "markdown",
   "id": "b82a39f7",
   "metadata": {},
   "source": [
    "### Observations des scores de similarité"
   ]
  },
  {
   "cell_type": "code",
   "execution_count": 136,
   "id": "3b6c2612",
   "metadata": {},
   "outputs": [
    {
     "data": {
      "image/png": "[encoded data removed]",
      "text/plain": [
       "<Figure size 1400x1000 with 2 Axes>"
      ]
     },
     "metadata": {},
     "output_type": "display_data"
    }
   ],
   "source": [
    "fig, axes = plt.subplots(2,1, figsize=(14,10))\n",
    "\n",
    "#Nombre d'ingrédients maximum pour un seul produit : \n",
    "ax=axes[0]\n",
    "\n",
    "sns.boxplot(data= df, x=\"score_mean\", ax=ax)\n",
    "ax.set_xlabel(\"Moyenne des scores de similarité\", fontsize=15)\n",
    "#ax.set_title(\"Boxplot du nombre d'ingrédients par produit\\n\", fontsize=25)\n",
    "\n",
    "\n",
    "ax=axes[1]\n",
    "sns.histplot(data=df, x=\"score_mean\",ax=ax)\n",
    "#ax.set_title(\"Histogramme du nombre d'ingrédients par produit\\n\", fontsize=25)\n",
    "ax.set_xlabel(\"Moyenne des scores de similarité\",fontsize=15)\n",
    "ax.set_ylabel(\"Nombre de films\", fontsize=15)\n",
    "\n",
    "#plt.tight_layout()\n",
    "plt.suptitle(\"Boxplot et histogram du score de similarité moyen\\npar produit film\", fontsize=25)\n",
    "plt.show()"
   ]
  },
  {
   "cell_type": "markdown",
   "id": "cb62e462",
   "metadata": {},
   "source": [
    "La plupart des films semblent bien avoir été trouvés."
   ]
  },
  {
   "cell_type": "markdown",
   "id": "b9d6fdf7",
   "metadata": {},
   "source": [
    "Il y a un pic autour des 0.66 qui arrive sûrement lorsque 2 paramètres sont similaires et 1 ne l'est pas. "
   ]
  },
  {
   "cell_type": "code",
   "execution_count": 137,
   "id": "fcf2be81",
   "metadata": {},
   "outputs": [
    {
     "data": {
      "image/png": "[encoded data removed]",
      "text/plain": [
       "<Figure size 1500x800 with 1 Axes>"
      ]
     },
     "metadata": {},
     "output_type": "display_data"
    }
   ],
   "source": [
    "temp = df.groupby(\"score_mean\").agg(\"count\").reset_index().sort_values(\"score_mean\",ascending=False)[[\"score_mean\",\"id\"]]\n",
    "temp[\"Somme_cummulee\"]= temp[\"id\"].cumsum()\n",
    "\n",
    "sns.lineplot(data=temp,x=\"score_mean\",y=\"Somme_cummulee\")\n",
    "plt.xlabel(\"Score moyen\",fontsize=15)\n",
    "plt.ylabel(\"Nombre de films\",fontsize=15)\n",
    "plt.title(\"Part de films gardés en fonction du score moyen à partir duquel on filtre\\n\",fontsize=20)\n",
    "plt.show()"
   ]
  },
  {
   "cell_type": "code",
   "execution_count": 138,
   "id": "4cfffded",
   "metadata": {},
   "outputs": [
    {
     "name": "stdout",
     "output_type": "stream",
     "text": [
      "Nombre de films pour un seuil de 0.65 : 17007\n"
     ]
    }
   ],
   "source": [
    "seuil = 0.65\n",
    "print(f\"Nombre de films pour un seuil de {seuil} :\", len(df[df[\"score_mean\"]>seuil]))"
   ]
  },
  {
   "cell_type": "markdown",
   "id": "384a9cee",
   "metadata": {},
   "source": [
    "On observe qu'en filtrant les films à partir d'un score de similarité moyen de 0.65 on garderait environ 17000 films."
   ]
  },
  {
   "cell_type": "code",
   "execution_count": 139,
   "id": "1221e103",
   "metadata": {},
   "outputs": [],
   "source": [
    "#Filtre : \n",
    "df = df[df[\"score_mean\"]>0.65]"
   ]
  },
  {
   "cell_type": "code",
   "execution_count": 140,
   "id": "1c32f177",
   "metadata": {
    "scrolled": false
   },
   "outputs": [
    {
     "name": "stdout",
     "output_type": "stream",
     "text": [
      "Valeurs nan dans id_searched_movie : 0\n",
      "Valeurs nan dans titre : 0\n",
      "Valeurs nan dans id : 0\n",
      "Valeurs nan dans year : 13\n",
      "Valeurs nan dans actors : 0\n",
      "Valeurs nan dans score_title : 0\n",
      "Valeurs nan dans score_year : 0\n",
      "Valeurs nan dans score_actors : 0\n",
      "Valeurs nan dans score_mean : 0\n",
      "Valeurs nan dans href : 0\n",
      "\n",
      "Valeurs uniques dans id_searched_movie : 17007\n",
      "Valeurs uniques dans titre : 16365\n",
      "Valeurs uniques dans id : 16929\n",
      "Valeurs uniques dans year : 106\n",
      "Valeurs uniques dans actors : 16261\n",
      "Valeurs uniques dans score_title : 237\n",
      "Valeurs uniques dans score_year : 6\n",
      "Valeurs uniques dans score_actors : 431\n",
      "Valeurs uniques dans score_mean : 1048\n",
      "Valeurs uniques dans href : 16966\n"
     ]
    },
    {
     "data": {
      "text/plain": [
       "(17007, 10)"
      ]
     },
     "execution_count": 140,
     "metadata": {},
     "output_type": "execute_result"
    }
   ],
   "source": [
    "check_nan(df)\n",
    "print()\n",
    "check_unique(df)\n",
    "df.shape"
   ]
  },
  {
   "cell_type": "markdown",
   "id": "aefecc12",
   "metadata": {},
   "source": [
    "Nous observons qu'il reste en encore des id dupliqués. C'est un problème car cela signifie que l'on a trouvé le même id imdb pour des films sensés être différents sur Allociné."
   ]
  },
  {
   "cell_type": "markdown",
   "id": "0c8a20b0",
   "metadata": {},
   "source": [
    "Pour remédier à cela nous décidons de ne garder à chaque fois que le film avec le score le plus élevé. "
   ]
  },
  {
   "cell_type": "code",
   "execution_count": 141,
   "id": "b33cce05",
   "metadata": {},
   "outputs": [],
   "source": [
    "df = df.sort_values(\"score_mean\",ascending=False).drop_duplicates(\"id\",keep='first')"
   ]
  },
  {
   "cell_type": "code",
   "execution_count": 142,
   "id": "c13111ef",
   "metadata": {},
   "outputs": [
    {
     "data": {
      "image/png": "[encoded data removed]",
      "text/plain": [
       "<Figure size 1400x1000 with 2 Axes>"
      ]
     },
     "metadata": {},
     "output_type": "display_data"
    }
   ],
   "source": [
    "fig, axes = plt.subplots(2,1, figsize=(14,10))\n",
    "\n",
    "#Nombre d'ingrédients maximum pour un seul produit : \n",
    "ax=axes[0]\n",
    "\n",
    "sns.boxplot(data= df, x=\"score_mean\", ax=ax)\n",
    "ax.set_xlabel(\"Moyenne des scores de similarité\", fontsize=15)\n",
    "#ax.set_title(\"Boxplot du nombre d'ingrédients par produit\\n\", fontsize=25)\n",
    "\n",
    "\n",
    "ax=axes[1]\n",
    "sns.histplot(data=df, x=\"score_mean\",ax=ax)\n",
    "#ax.set_title(\"Histogramme du nombre d'ingrédients par produit\\n\", fontsize=25)\n",
    "ax.set_xlabel(\"Moyenne des scores de similarité\",fontsize=15)\n",
    "ax.set_ylabel(\"Nombre de films\", fontsize=15)\n",
    "\n",
    "#plt.tight_layout()\n",
    "plt.suptitle(\"Boxplot et histogram du score de similarité moyen\\npar produit film après le filtrage\", fontsize=25)\n",
    "plt.show()"
   ]
  },
  {
   "cell_type": "code",
   "execution_count": 143,
   "id": "951257aa",
   "metadata": {},
   "outputs": [
    {
     "name": "stdout",
     "output_type": "stream",
     "text": [
      "Valeurs nan dans id_searched_movie : 0\n",
      "Valeurs nan dans titre : 0\n",
      "Valeurs nan dans id : 0\n",
      "Valeurs nan dans year : 13\n",
      "Valeurs nan dans actors : 0\n",
      "Valeurs nan dans score_title : 0\n",
      "Valeurs nan dans score_year : 0\n",
      "Valeurs nan dans score_actors : 0\n",
      "Valeurs nan dans score_mean : 0\n",
      "Valeurs nan dans href : 0\n",
      "\n",
      "Valeurs uniques dans id_searched_movie : 16929\n",
      "Valeurs uniques dans titre : 16365\n",
      "Valeurs uniques dans id : 16929\n",
      "Valeurs uniques dans year : 106\n",
      "Valeurs uniques dans actors : 16261\n",
      "Valeurs uniques dans score_title : 225\n",
      "Valeurs uniques dans score_year : 6\n",
      "Valeurs uniques dans score_actors : 420\n",
      "Valeurs uniques dans score_mean : 1012\n",
      "Valeurs uniques dans href : 16929\n",
      "Shape : (16929, 10)\n"
     ]
    }
   ],
   "source": [
    "check_nan(df)\n",
    "print()\n",
    "check_unique(df)\n",
    "print(\"Shape :\",df.shape)"
   ]
  },
  {
   "cell_type": "markdown",
   "id": "a1363b8f",
   "metadata": {},
   "source": [
    "## Sauvegarde "
   ]
  },
  {
   "cell_type": "code",
   "execution_count": 144,
   "id": "676f9abd",
   "metadata": {},
   "outputs": [],
   "source": [
    "df.to_csv(data_path+\"IMDB_best_matching_ids_cleaned.csv\",index=False)"
   ]
  },
  {
   "cell_type": "markdown",
   "id": "c70c9368",
   "metadata": {},
   "source": [
    "# Scrapping des données box office : "
   ]
  },
  {
   "cell_type": "markdown",
   "id": "85a1b665",
   "metadata": {},
   "source": [
    "## Lecture des données "
   ]
  },
  {
   "cell_type": "code",
   "execution_count": 20,
   "id": "76a6f6ec",
   "metadata": {},
   "outputs": [
    {
     "data": {
      "text/html": [
       "<div>\n",
       "<style scoped>\n",
       "    .dataframe tbody tr th:only-of-type {\n",
       "        vertical-align: middle;\n",
       "    }\n",
       "\n",
       "    .dataframe tbody tr th {\n",
       "        vertical-align: top;\n",
       "    }\n",
       "\n",
       "    .dataframe thead th {\n",
       "        text-align: right;\n",
       "    }\n",
       "</style>\n",
       "<table border=\"1\" class=\"dataframe\">\n",
       "  <thead>\n",
       "    <tr style=\"text-align: right;\">\n",
       "      <th></th>\n",
       "      <th>id_searched_movie</th>\n",
       "      <th>titre</th>\n",
       "      <th>id</th>\n",
       "      <th>year</th>\n",
       "      <th>actors</th>\n",
       "      <th>score_title</th>\n",
       "      <th>score_year</th>\n",
       "      <th>score_actors</th>\n",
       "      <th>score_mean</th>\n",
       "      <th>href</th>\n",
       "    </tr>\n",
       "  </thead>\n",
       "  <tbody>\n",
       "    <tr>\n",
       "      <th>0</th>\n",
       "      <td>249092</td>\n",
       "      <td>Blame!</td>\n",
       "      <td>tt6574146</td>\n",
       "      <td>2017.0</td>\n",
       "      <td>['takahiro sakurai', 'kana hanazawa']</td>\n",
       "      <td>1.0</td>\n",
       "      <td>1.0</td>\n",
       "      <td>1.0</td>\n",
       "      <td>1.0</td>\n",
       "      <td>/title/tt6574146/?ref_=fn_tt_tt_1</td>\n",
       "    </tr>\n",
       "    <tr>\n",
       "      <th>1</th>\n",
       "      <td>178979</td>\n",
       "      <td>Kick-Ass 2</td>\n",
       "      <td>tt1650554</td>\n",
       "      <td>2013.0</td>\n",
       "      <td>['aaron taylor-johnson', 'chloë grace moretz']</td>\n",
       "      <td>1.0</td>\n",
       "      <td>1.0</td>\n",
       "      <td>1.0</td>\n",
       "      <td>1.0</td>\n",
       "      <td>/title/tt1650554/?ref_=fn_tt_tt_1</td>\n",
       "    </tr>\n",
       "    <tr>\n",
       "      <th>2</th>\n",
       "      <td>129557</td>\n",
       "      <td>Pour elle</td>\n",
       "      <td>tt1217637</td>\n",
       "      <td>2008.0</td>\n",
       "      <td>['vincent lindon', 'diane kruger']</td>\n",
       "      <td>1.0</td>\n",
       "      <td>1.0</td>\n",
       "      <td>1.0</td>\n",
       "      <td>1.0</td>\n",
       "      <td>/title/tt1217637/?ref_=fn_tt_tt_1</td>\n",
       "    </tr>\n",
       "    <tr>\n",
       "      <th>3</th>\n",
       "      <td>36464</td>\n",
       "      <td>Flic Story</td>\n",
       "      <td>tt0072996</td>\n",
       "      <td>1975.0</td>\n",
       "      <td>['alain delon', 'jean-louis trintignant']</td>\n",
       "      <td>1.0</td>\n",
       "      <td>1.0</td>\n",
       "      <td>1.0</td>\n",
       "      <td>1.0</td>\n",
       "      <td>/title/tt0072996/?ref_=fn_tt_tt_1</td>\n",
       "    </tr>\n",
       "    <tr>\n",
       "      <th>4</th>\n",
       "      <td>33913</td>\n",
       "      <td>Dernier domicile connu</td>\n",
       "      <td>tt0064225</td>\n",
       "      <td>1970.0</td>\n",
       "      <td>['lino ventura', 'marlène jobert']</td>\n",
       "      <td>1.0</td>\n",
       "      <td>1.0</td>\n",
       "      <td>1.0</td>\n",
       "      <td>1.0</td>\n",
       "      <td>/title/tt0064225/?ref_=fn_tt_tt_1</td>\n",
       "    </tr>\n",
       "  </tbody>\n",
       "</table>\n",
       "</div>"
      ],
      "text/plain": [
       "   id_searched_movie                   titre         id    year  \\\n",
       "0             249092                  Blame!  tt6574146  2017.0   \n",
       "1             178979              Kick-Ass 2  tt1650554  2013.0   \n",
       "2             129557               Pour elle  tt1217637  2008.0   \n",
       "3              36464              Flic Story  tt0072996  1975.0   \n",
       "4              33913  Dernier domicile connu  tt0064225  1970.0   \n",
       "\n",
       "                                           actors  score_title  score_year  \\\n",
       "0           ['takahiro sakurai', 'kana hanazawa']          1.0         1.0   \n",
       "1  ['aaron taylor-johnson', 'chloë grace moretz']          1.0         1.0   \n",
       "2              ['vincent lindon', 'diane kruger']          1.0         1.0   \n",
       "3       ['alain delon', 'jean-louis trintignant']          1.0         1.0   \n",
       "4              ['lino ventura', 'marlène jobert']          1.0         1.0   \n",
       "\n",
       "   score_actors  score_mean                               href  \n",
       "0           1.0         1.0  /title/tt6574146/?ref_=fn_tt_tt_1  \n",
       "1           1.0         1.0  /title/tt1650554/?ref_=fn_tt_tt_1  \n",
       "2           1.0         1.0  /title/tt1217637/?ref_=fn_tt_tt_1  \n",
       "3           1.0         1.0  /title/tt0072996/?ref_=fn_tt_tt_1  \n",
       "4           1.0         1.0  /title/tt0064225/?ref_=fn_tt_tt_1  "
      ]
     },
     "execution_count": 20,
     "metadata": {},
     "output_type": "execute_result"
    }
   ],
   "source": [
    "df_imdb_ids = pd.read_csv(data_path+\"IMDB_best_matching_ids_cleaned.csv\")\n",
    "df_imdb_ids.head()"
   ]
  },
  {
   "cell_type": "code",
   "execution_count": 21,
   "id": "4246bca3",
   "metadata": {},
   "outputs": [],
   "source": [
    "def get_data_box_office(movie_id, movie_href_imdb) :\n",
    "    data={'movie_id': movie_id, 'href_imdb':movie_href_imdb}\n",
    "\n",
    "    url =f\"https://www.imdb.com{movie_href_imdb}\"\n",
    "    req = Request(\n",
    "        url=url, \n",
    "        headers={'User-Agent': 'Mozilla/5.0'}\n",
    "    )\n",
    "    try : \n",
    "        webpage = urlopen(req).read()\n",
    "        soup = BeautifulSoup(webpage, 'html.parser')\n",
    "\n",
    "        #Budget, revenues, Box office \n",
    "        sections = soup.find_all(\"section\",{\"data-testid\":\"BoxOffice\"})\n",
    "        if len(sections)>0 :\n",
    "            lis = sections[0].find_all(\"li\",{\"role\": \"presentation\", \"class\" : \"ipc-metadata-list__item\"})\n",
    "            if len(lis)>0 : \n",
    "                for li in lis : \n",
    "                    label = li.get(\"data-testid\").split(\"-\")[-1]\n",
    "                    #label = li.find(\"button\", {\"class\": \"ipc-metadata-list-item__label\",\"role\":\"button\"}).text \n",
    "                    value=np.nan\n",
    "                    text= li.find(\"label\", {\"class\" : \"ipc-metadata-list-item__list-content-item\",\"role\":\"button\"}).text.replace(\" \",\"\").replace(\",\",\"\")\n",
    "                    match = re.search(r'\\d+',text )\n",
    "                    if match:\n",
    "                        value = match.group()\n",
    "                    data[label] = value\n",
    "            else : \n",
    "                print(f\"Pas de li dans la section BoxOffice pour {url}\")\n",
    "        else : \n",
    "            print(f\"Pas de section BoxOffice pour {url}\")\n",
    "\n",
    "\n",
    "        #Pays et langue d'origine  : \n",
    "        data[\"pays_origine\"] =[]\n",
    "        data[\"langue_origine\"]= []\n",
    "\n",
    "        sections = soup.find_all(\"section\", {\"data-testid\":\"Details\"})\n",
    "        if len(sections)>0 : \n",
    "\n",
    "            #Pays d'origine\n",
    "            try :\n",
    "                lis_origin= sections[0].find(\"li\",{'data-testid':\"title-details-origin\"}).find_all(\"li\",{\"role\":'presentation', \"class\":\"ipc-inline-list__item\"})\n",
    "            except : \n",
    "                print(f\"li title-details-origin pas trouvée pour {url}\")\n",
    "\n",
    "            if len(lis_origin)>0 :#Au moins un pays trouvé\n",
    "                for li in lis_origin : \n",
    "                    data[\"pays_origine\"].append(li.text)\n",
    "            else : \n",
    "                print(f\"Pas de pays d'origine pour {url}\")\n",
    "\n",
    "            #Langue d'origine \n",
    "            try : \n",
    "                lis_langue = sections[0].find(\"li\",{\"data-testid\":'title-details-languages'}).find_all(\"li\",{\"role\":\"presentation\",\"class\":\"ipc-inline-list__item\"})\n",
    "                if len(lis_langue)>0 : \n",
    "                    for li in lis_langue : \n",
    "                        data[\"langue_origine\"].append(li.text)\n",
    "                else : \n",
    "                    print(f\"Pas de langue d'origine pour {url}\")\n",
    "            except : \n",
    "                print(f'li title-details-language pas trouvée pour {url}')\n",
    "\n",
    "        else : \n",
    "            print(f\"Pas de section details pour {url}\")\n",
    "    except Exception as err : \n",
    "        print(f\"{url}, erreur : {err}\")\n",
    "\n",
    "    return data"
   ]
  },
  {
   "cell_type": "markdown",
   "id": "9840e891",
   "metadata": {},
   "source": [
    "## Proto "
   ]
  },
  {
   "cell_type": "code",
   "execution_count": 22,
   "id": "8a55a3dd",
   "metadata": {
    "scrolled": true
   },
   "outputs": [
    {
     "data": {
      "text/plain": [
       "{'movie_id': 'tt6565702',\n",
       " 'href_imdb': '/title/tt6565702/?ref_=fn_tt_tt_1',\n",
       " 'budget': '200000000',\n",
       " 'grossdomestic': '65845974',\n",
       " 'openingweekenddomestic': '32828348',\n",
       " 'cumulativeworldwidegross': '252442974',\n",
       " 'pays_origine': ['United States', 'Canada'],\n",
       " 'langue_origine': ['English', 'French']}"
      ]
     },
     "execution_count": 22,
     "metadata": {},
     "output_type": "execute_result"
    }
   ],
   "source": [
    "row_processed = df_imdb_ids[df_imdb_ids[\"id\"]==\"tt6565702\"]#df_imdb_ids.sample()\n",
    "movie_href_imdb  = row_processed[\"href\"].iloc[0]\n",
    "movie_id = row_processed[\"id\"].iloc[0]\n",
    "get_data_box_office(movie_id, movie_href_imdb)"
   ]
  },
  {
   "cell_type": "code",
   "execution_count": 23,
   "id": "b46b2a4f",
   "metadata": {},
   "outputs": [],
   "source": [
    "def workload_threads_box_office(params) : \n",
    "    df_to_process = df_imdb_ids[params[\"index_start\"]:params[\"index_end\"]]\n",
    "    new_data = []\n",
    "    \n",
    "    for i in range(len(df_to_process)) : \n",
    "        new_data.append(get_data_box_office(df_to_process[\"id_searched_movie\"].iloc[i], df_to_process[\"href\"].iloc[i]))\n",
    "        if i % 20 == 0 : \n",
    "            if params[\"id\"]==0 : \n",
    "                clear_output()\n",
    "            print(f\"Threads n°{params['id']} : {i} films sur {len(df_to_process)}\")\n",
    "        time.sleep(random.randint(5,10)/10)\n",
    "    \n",
    "    #Sauvegarde des données : \n",
    "    df= pd.DataFrame(new_data)\n",
    "    temp = pd.read_csv(data_path+f\"IMDB_box_office/{params['id']}.csv\")\n",
    "    pd.concat([temp,df]).to_csv(data_path+f\"IMDB_box_office/{params['id']}.csv\",index=False)"
   ]
  },
  {
   "cell_type": "code",
   "execution_count": 24,
   "id": "a4c0b229",
   "metadata": {},
   "outputs": [],
   "source": [
    "def init_save_files_box_office(number) :\n",
    "    for i in range(number) :\n",
    "        df_init= pd.DataFrame(columns= ['movie_id','href_imdb', 'pays_origine','langue_origine','budget','grossdomestic','openingweekenddomestic','cumulativeworldwidegross'])\n",
    "        df_init.to_csv(data_path+f\"IMDB_box_office/{i}.csv\",index=False)"
   ]
  },
  {
   "cell_type": "markdown",
   "id": "44f9da36",
   "metadata": {},
   "source": [
    "## Algorithme scrapping des données de budget, revenue et d'origine des films "
   ]
  },
  {
   "cell_type": "markdown",
   "id": "24a10cb4",
   "metadata": {},
   "source": [
    "12h15"
   ]
  },
  {
   "cell_type": "code",
   "execution_count": 25,
   "id": "17b87252",
   "metadata": {},
   "outputs": [
    {
     "name": "stdout",
     "output_type": "stream",
     "text": [
      "Threads n°0 : 3380 films sur 3386\n",
      "Pas de section BoxOffice pour https://www.imdb.com/title/tt0055602/?ref_=fn_tt_tt_1\n",
      "Pas de section BoxOffice pour https://www.imdb.com/title/tt3904758/?ref_=fn_tt_tt_17\n",
      "Pas de section BoxOffice pour https://www.imdb.com/title/tt0021165/?ref_=fn_tt_tt_14\n",
      "Pas de section BoxOffice pour https://www.imdb.com/title/tt4842646/?ref_=fn_tt_tt_1\n",
      "Pas de section BoxOffice pour https://www.imdb.com/title/tt0095467/?ref_=fn_tt_tt_1\n",
      "Threads n°4 : 3380 films sur 3385\n",
      "Pas de section BoxOffice pour https://www.imdb.com/title/tt0203040/?ref_=fn_tt_tt_16\n",
      "Threads n°2 : 3380 films sur 3386\n",
      "Pas de section BoxOffice pour https://www.imdb.com/title/tt15332236/?ref_=fn_tt_tt_2\n",
      "Pas de section BoxOffice pour https://www.imdb.com/title/tt0060773/?ref_=fn_tt_tt_1\n",
      "Pas de section BoxOffice pour https://www.imdb.com/title/tt10103028/?ref_=fn_tt_tt_1\n",
      "Pas de section BoxOffice pour https://www.imdb.com/title/tt5532280/?ref_=fn_tt_tt_1\n",
      "Pas de section BoxOffice pour https://www.imdb.com/title/tt15711350/?ref_=fn_tt_tt_1\n",
      "Threads n°3 : 3380 films sur 3386\n",
      "Pas de section BoxOffice pour https://www.imdb.com/title/tt0114775/?ref_=fn_tt_tt_1\n",
      "Pas de section BoxOffice pour https://www.imdb.com/title/tt0065553/?ref_=fn_tt_tt_1\n",
      "Pas de section BoxOffice pour https://www.imdb.com/title/tt15078122/?ref_=fn_tt_tt_1\n",
      "CPU times: total: 31min 53s\n",
      "Wall time: 2h 26min 2s\n"
     ]
    }
   ],
   "source": [
    "%%time \n",
    "nb_threads =5\n",
    "list_ids =df_imdb_ids[\"href\"].tolist()\n",
    "nb_movies= len(list_ids)\n",
    "\n",
    "ids_movies_by_threads = init_movies_by_driver(nb_threads, nb_movies)\n",
    "init_save_files_box_office(nb_threads)\n",
    "\n",
    "with futures.ThreadPoolExecutor() as executor: \n",
    "    future_results = [ executor.submit(workload_threads_box_office,{'id':i, 'index_start' :ids_movies_by_threads[i][\"start\"] , 'index_end':ids_movies_by_threads[i][\"end\"]})  for i in range(nb_threads)] \n",
    "    for future_result in future_results: \n",
    "        try: \n",
    "            future_result = future_result.result()\n",
    "        except Exception as exc: # can give a exception in some thread, but \n",
    "            print(\"thread generated an exception\",exc)\n",
    "            break;\n",
    "        \n",
    "#Concaténation et sauvegarde des données \n",
    "df=pd.DataFrame()\n",
    "for i in range(nb_threads): \n",
    "    df=pd.concat([df, pd.read_csv(data_path+f\"IMDB_box_office/{i}.csv\")])\n",
    "df.to_csv(data_path+f\"IMDB_box_office_langues.csv\",index=False) "
   ]
  },
  {
   "cell_type": "markdown",
   "id": "0a5527aa",
   "metadata": {},
   "source": [
    "## Lecture des données "
   ]
  },
  {
   "cell_type": "code",
   "execution_count": 27,
   "id": "fce7c660",
   "metadata": {},
   "outputs": [
    {
     "name": "stdout",
     "output_type": "stream",
     "text": [
      "Shape : (16929, 8)\n",
      "\n",
      "Valeurs nan dans movie_id : 0\n",
      "Valeurs nan dans href_imdb : 0\n",
      "Valeurs nan dans pays_origine : 0\n",
      "Valeurs nan dans langue_origine : 0\n",
      "Valeurs nan dans budget : 8551\n",
      "Valeurs nan dans grossdomestic : 8839\n",
      "Valeurs nan dans openingweekenddomestic : 9512\n",
      "Valeurs nan dans cumulativeworldwidegross : 4569\n",
      "\n",
      "Valeurs uniques dans movie_id : 16929\n",
      "Valeurs uniques dans href_imdb : 16929\n",
      "Valeurs uniques dans pays_origine : 2182\n",
      "Valeurs uniques dans langue_origine : 2203\n",
      "Valeurs uniques dans budget : 1083\n",
      "Valeurs uniques dans grossdomestic : 8016\n",
      "Valeurs uniques dans openingweekenddomestic : 7301\n",
      "Valeurs uniques dans cumulativeworldwidegross : 12311\n"
     ]
    },
    {
     "data": {
      "text/html": [
       "<div>\n",
       "<style scoped>\n",
       "    .dataframe tbody tr th:only-of-type {\n",
       "        vertical-align: middle;\n",
       "    }\n",
       "\n",
       "    .dataframe tbody tr th {\n",
       "        vertical-align: top;\n",
       "    }\n",
       "\n",
       "    .dataframe thead th {\n",
       "        text-align: right;\n",
       "    }\n",
       "</style>\n",
       "<table border=\"1\" class=\"dataframe\">\n",
       "  <thead>\n",
       "    <tr style=\"text-align: right;\">\n",
       "      <th></th>\n",
       "      <th>movie_id</th>\n",
       "      <th>href_imdb</th>\n",
       "      <th>pays_origine</th>\n",
       "      <th>langue_origine</th>\n",
       "      <th>budget</th>\n",
       "      <th>grossdomestic</th>\n",
       "      <th>openingweekenddomestic</th>\n",
       "      <th>cumulativeworldwidegross</th>\n",
       "    </tr>\n",
       "  </thead>\n",
       "  <tbody>\n",
       "    <tr>\n",
       "      <th>0</th>\n",
       "      <td>249092</td>\n",
       "      <td>/title/tt6574146/?ref_=fn_tt_tt_1</td>\n",
       "      <td>['Japan']</td>\n",
       "      <td>['Japanese']</td>\n",
       "      <td>NaN</td>\n",
       "      <td>NaN</td>\n",
       "      <td>NaN</td>\n",
       "      <td>NaN</td>\n",
       "    </tr>\n",
       "    <tr>\n",
       "      <th>1</th>\n",
       "      <td>178979</td>\n",
       "      <td>/title/tt1650554/?ref_=fn_tt_tt_1</td>\n",
       "      <td>['United Kingdom', 'United States', 'Japan']</td>\n",
       "      <td>['English']</td>\n",
       "      <td>28000000.0</td>\n",
       "      <td>28795985.0</td>\n",
       "      <td>13332955.0</td>\n",
       "      <td>60795985.0</td>\n",
       "    </tr>\n",
       "    <tr>\n",
       "      <th>2</th>\n",
       "      <td>129557</td>\n",
       "      <td>/title/tt1217637/?ref_=fn_tt_tt_1</td>\n",
       "      <td>['France', 'Spain']</td>\n",
       "      <td>['French', 'Spanish']</td>\n",
       "      <td>7930000.0</td>\n",
       "      <td>NaN</td>\n",
       "      <td>NaN</td>\n",
       "      <td>6548942.0</td>\n",
       "    </tr>\n",
       "    <tr>\n",
       "      <th>3</th>\n",
       "      <td>36464</td>\n",
       "      <td>/title/tt0072996/?ref_=fn_tt_tt_1</td>\n",
       "      <td>['France', 'Italy']</td>\n",
       "      <td>['French']</td>\n",
       "      <td>NaN</td>\n",
       "      <td>NaN</td>\n",
       "      <td>NaN</td>\n",
       "      <td>NaN</td>\n",
       "    </tr>\n",
       "    <tr>\n",
       "      <th>4</th>\n",
       "      <td>33913</td>\n",
       "      <td>/title/tt0064225/?ref_=fn_tt_tt_1</td>\n",
       "      <td>['France', 'Italy']</td>\n",
       "      <td>['French']</td>\n",
       "      <td>NaN</td>\n",
       "      <td>NaN</td>\n",
       "      <td>NaN</td>\n",
       "      <td>NaN</td>\n",
       "    </tr>\n",
       "  </tbody>\n",
       "</table>\n",
       "</div>"
      ],
      "text/plain": [
       "   movie_id                          href_imdb  \\\n",
       "0    249092  /title/tt6574146/?ref_=fn_tt_tt_1   \n",
       "1    178979  /title/tt1650554/?ref_=fn_tt_tt_1   \n",
       "2    129557  /title/tt1217637/?ref_=fn_tt_tt_1   \n",
       "3     36464  /title/tt0072996/?ref_=fn_tt_tt_1   \n",
       "4     33913  /title/tt0064225/?ref_=fn_tt_tt_1   \n",
       "\n",
       "                                   pays_origine         langue_origine  \\\n",
       "0                                     ['Japan']           ['Japanese']   \n",
       "1  ['United Kingdom', 'United States', 'Japan']            ['English']   \n",
       "2                           ['France', 'Spain']  ['French', 'Spanish']   \n",
       "3                           ['France', 'Italy']             ['French']   \n",
       "4                           ['France', 'Italy']             ['French']   \n",
       "\n",
       "       budget  grossdomestic  openingweekenddomestic  cumulativeworldwidegross  \n",
       "0         NaN            NaN                     NaN                       NaN  \n",
       "1  28000000.0     28795985.0              13332955.0                60795985.0  \n",
       "2   7930000.0            NaN                     NaN                 6548942.0  \n",
       "3         NaN            NaN                     NaN                       NaN  \n",
       "4         NaN            NaN                     NaN                       NaN  "
      ]
     },
     "execution_count": 27,
     "metadata": {},
     "output_type": "execute_result"
    }
   ],
   "source": [
    "df = pd.read_csv(data_path+f\"IMDB_box_office_langues.csv\")\n",
    "print(\"Shape :\",df.shape)\n",
    "print()\n",
    "check_nan(df)\n",
    "print()\n",
    "check_unique(df)\n",
    "df.head()"
   ]
  },
  {
   "cell_type": "markdown",
   "id": "478ab255",
   "metadata": {},
   "source": [
    "Nous observons qu'il y a un nombre conséquentes de films pour lesquels les données sur le boxOffice n'étaient pas disponibles."
   ]
  },
  {
   "cell_type": "markdown",
   "id": "645e50c0",
   "metadata": {},
   "source": [
    "## Mise en forme des données"
   ]
  },
  {
   "cell_type": "code",
   "execution_count": 32,
   "id": "10e8e02e",
   "metadata": {},
   "outputs": [
    {
     "data": {
      "text/html": [
       "<div>\n",
       "<style scoped>\n",
       "    .dataframe tbody tr th:only-of-type {\n",
       "        vertical-align: middle;\n",
       "    }\n",
       "\n",
       "    .dataframe tbody tr th {\n",
       "        vertical-align: top;\n",
       "    }\n",
       "\n",
       "    .dataframe thead th {\n",
       "        text-align: right;\n",
       "    }\n",
       "</style>\n",
       "<table border=\"1\" class=\"dataframe\">\n",
       "  <thead>\n",
       "    <tr style=\"text-align: right;\">\n",
       "      <th></th>\n",
       "      <th>movie_id</th>\n",
       "      <th>href_imdb</th>\n",
       "      <th>pays_origine</th>\n",
       "      <th>langue_origine</th>\n",
       "      <th>budget</th>\n",
       "      <th>gross_domestic</th>\n",
       "      <th>opening_weekend_domestic</th>\n",
       "      <th>cumulative_world_wide_gross</th>\n",
       "    </tr>\n",
       "  </thead>\n",
       "  <tbody>\n",
       "    <tr>\n",
       "      <th>0</th>\n",
       "      <td>249092</td>\n",
       "      <td>/title/tt6574146/?ref_=fn_tt_tt_1</td>\n",
       "      <td>['Japan']</td>\n",
       "      <td>['Japanese']</td>\n",
       "      <td>NaN</td>\n",
       "      <td>NaN</td>\n",
       "      <td>NaN</td>\n",
       "      <td>NaN</td>\n",
       "    </tr>\n",
       "    <tr>\n",
       "      <th>1</th>\n",
       "      <td>178979</td>\n",
       "      <td>/title/tt1650554/?ref_=fn_tt_tt_1</td>\n",
       "      <td>['United Kingdom', 'United States', 'Japan']</td>\n",
       "      <td>['English']</td>\n",
       "      <td>28000000.0</td>\n",
       "      <td>28795985.0</td>\n",
       "      <td>13332955.0</td>\n",
       "      <td>60795985.0</td>\n",
       "    </tr>\n",
       "    <tr>\n",
       "      <th>2</th>\n",
       "      <td>129557</td>\n",
       "      <td>/title/tt1217637/?ref_=fn_tt_tt_1</td>\n",
       "      <td>['France', 'Spain']</td>\n",
       "      <td>['French', 'Spanish']</td>\n",
       "      <td>7930000.0</td>\n",
       "      <td>NaN</td>\n",
       "      <td>NaN</td>\n",
       "      <td>6548942.0</td>\n",
       "    </tr>\n",
       "    <tr>\n",
       "      <th>3</th>\n",
       "      <td>36464</td>\n",
       "      <td>/title/tt0072996/?ref_=fn_tt_tt_1</td>\n",
       "      <td>['France', 'Italy']</td>\n",
       "      <td>['French']</td>\n",
       "      <td>NaN</td>\n",
       "      <td>NaN</td>\n",
       "      <td>NaN</td>\n",
       "      <td>NaN</td>\n",
       "    </tr>\n",
       "    <tr>\n",
       "      <th>4</th>\n",
       "      <td>33913</td>\n",
       "      <td>/title/tt0064225/?ref_=fn_tt_tt_1</td>\n",
       "      <td>['France', 'Italy']</td>\n",
       "      <td>['French']</td>\n",
       "      <td>NaN</td>\n",
       "      <td>NaN</td>\n",
       "      <td>NaN</td>\n",
       "      <td>NaN</td>\n",
       "    </tr>\n",
       "  </tbody>\n",
       "</table>\n",
       "</div>"
      ],
      "text/plain": [
       "   movie_id                          href_imdb  \\\n",
       "0    249092  /title/tt6574146/?ref_=fn_tt_tt_1   \n",
       "1    178979  /title/tt1650554/?ref_=fn_tt_tt_1   \n",
       "2    129557  /title/tt1217637/?ref_=fn_tt_tt_1   \n",
       "3     36464  /title/tt0072996/?ref_=fn_tt_tt_1   \n",
       "4     33913  /title/tt0064225/?ref_=fn_tt_tt_1   \n",
       "\n",
       "                                   pays_origine         langue_origine  \\\n",
       "0                                     ['Japan']           ['Japanese']   \n",
       "1  ['United Kingdom', 'United States', 'Japan']            ['English']   \n",
       "2                           ['France', 'Spain']  ['French', 'Spanish']   \n",
       "3                           ['France', 'Italy']             ['French']   \n",
       "4                           ['France', 'Italy']             ['French']   \n",
       "\n",
       "       budget  gross_domestic  opening_weekend_domestic  \\\n",
       "0         NaN             NaN                       NaN   \n",
       "1  28000000.0      28795985.0                13332955.0   \n",
       "2   7930000.0             NaN                       NaN   \n",
       "3         NaN             NaN                       NaN   \n",
       "4         NaN             NaN                       NaN   \n",
       "\n",
       "   cumulative_world_wide_gross  \n",
       "0                          NaN  \n",
       "1                   60795985.0  \n",
       "2                    6548942.0  \n",
       "3                          NaN  \n",
       "4                          NaN  "
      ]
     },
     "execution_count": 32,
     "metadata": {},
     "output_type": "execute_result"
    }
   ],
   "source": [
    "df=df.rename(columns={\"grossdomestic\":\"gross_domestic\",\n",
    "                   \"openingweekenddomestic\":\"opening_weekend_domestic\",\n",
    "                  \"cumulativeworldwidegross\":\"cumulative_world_wide_gross\"})\n",
    "df.head()"
   ]
  },
  {
   "cell_type": "markdown",
   "id": "44c07b85",
   "metadata": {},
   "source": [
    "## Sauvegarde des données : "
   ]
  },
  {
   "cell_type": "code",
   "execution_count": 33,
   "id": "8c46eb44",
   "metadata": {},
   "outputs": [],
   "source": [
    "df.to_csv(data_path+f\"IMDB_box_office_langues_cleaned.csv\")"
   ]
  }
 ],
 "metadata": {
  "kernelspec": {
   "display_name": "Python 3 (ipykernel)",
   "language": "python",
   "name": "python3"
  },
  "language_info": {
   "codemirror_mode": {
    "name": "ipython",
    "version": 3
   },
   "file_extension": ".py",
   "mimetype": "text/x-python",
   "name": "python",
   "nbconvert_exporter": "python",
   "pygments_lexer": "ipython3",
   "version": "3.9.15"
  }
 },
 "nbformat": 4,
 "nbformat_minor": 5
}
