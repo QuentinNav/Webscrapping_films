{
 "cells": [
  {
   "cell_type": "markdown",
   "id": "5d06812f",
   "metadata": {},
   "source": [
    "# Import des librairies"
   ]
  },
  {
   "cell_type": "code",
   "execution_count": 1,
   "id": "ee560322",
   "metadata": {},
   "outputs": [],
   "source": [
    "import numpy as np\n",
    "import requests\n",
    "import time\n",
    "from bs4 import BeautifulSoup\n",
    "from selenium import webdriver\n",
    "from selenium.webdriver.common.keys import Keys\n",
    "from selenium.webdriver.common.by import By\n",
    "import pandas as pd\n",
    "import Levenshtein as lev\n",
    "from concurrent import futures\n",
    "from IPython.display import clear_output\n",
    "#from selenium.webdriver.support.ui import WebDriverWait\n",
    "#from selenium.webdriver.support import expected_conditions as EC"
   ]
  },
  {
   "cell_type": "code",
   "execution_count": 9,
   "id": "95733454",
   "metadata": {},
   "outputs": [],
   "source": [
    "import pandas as pd \n",
    "from IPython.display import clear_output\n",
    "import requests\n",
    "from bs4 import BeautifulSoup\n",
    "from urllib.request import Request, urlopen\n",
    "import re\n",
    "import csv\n",
    "import numpy as np\n",
    "import re\n",
    "from tqdm import tqdm\n",
    "import time\n",
    "from selenium import webdriver\n",
    "from selenium.webdriver.common.keys import Keys\n",
    "from webdriver_manager.chrome import ChromeDriverManager\n",
    "from selenium.webdriver.common.by import By\n",
    "from concurrent import futures\n",
    "import dateparser\n",
    "import urllib\n",
    "\n",
    "import warnings\n",
    "warnings.filterwarnings('ignore')\n",
    "\n",
    "#Matplotlib and Seaborn parameters : \n",
    "import seaborn as sns\n",
    "import matplotlib.pyplot as plt\n",
    "from matplotlib import rcParams\n",
    "rcParams['figure.figsize'] = 15,8 #Taille de la figure affichée\n",
    "sns.set_style(\"darkgrid\")#style de l'arrière plan de seaborn \n",
    "sns.set_palette(\"pastel\")#Couleurs utilisées dans les graphiques\n",
    "\n",
    "\n",
    "data_path=\"Data/\"#Chemin du dossier pour enregistrer le fichier csv"
   ]
  },
  {
   "cell_type": "code",
   "execution_count": 3,
   "id": "1fd759fb",
   "metadata": {},
   "outputs": [],
   "source": [
    "def check_nan(df):\n",
    "    for i in df.columns.tolist():\n",
    "        print(\"Valeurs nan dans \"+str(i)+\" : \"+str(df[i].isna().sum()))\n",
    "        \n",
    "def check_unique(df):\n",
    "    for i in df.columns.tolist():\n",
    "        print(\"Valeurs uniques dans \"+str(i)+\" : \"+str(df[i].nunique()))"
   ]
  },
  {
   "cell_type": "markdown",
   "id": "bb1c3f25",
   "metadata": {},
   "source": [
    "# Chargement des données déjà existantes"
   ]
  },
  {
   "cell_type": "code",
   "execution_count": 38,
   "id": "b1fa2d99",
   "metadata": {},
   "outputs": [
    {
     "data": {
      "text/html": [
       "<div>\n",
       "<style scoped>\n",
       "    .dataframe tbody tr th:only-of-type {\n",
       "        vertical-align: middle;\n",
       "    }\n",
       "\n",
       "    .dataframe tbody tr th {\n",
       "        vertical-align: top;\n",
       "    }\n",
       "\n",
       "    .dataframe thead th {\n",
       "        text-align: right;\n",
       "    }\n",
       "</style>\n",
       "<table border=\"1\" class=\"dataframe\">\n",
       "  <thead>\n",
       "    <tr style=\"text-align: right;\">\n",
       "      <th></th>\n",
       "      <th>id</th>\n",
       "      <th>titre</th>\n",
       "      <th>date_sortie</th>\n",
       "      <th>realisateurs</th>\n",
       "      <th>annee_sortie</th>\n",
       "    </tr>\n",
       "  </thead>\n",
       "  <tbody>\n",
       "    <tr>\n",
       "      <th>0</th>\n",
       "      <td>178014</td>\n",
       "      <td>avatar : la voie de l'eau</td>\n",
       "      <td>2022-12-14</td>\n",
       "      <td>[James Cameron]</td>\n",
       "      <td>2022</td>\n",
       "    </tr>\n",
       "    <tr>\n",
       "      <th>1</th>\n",
       "      <td>281293</td>\n",
       "      <td>les banshees d'inisherin</td>\n",
       "      <td>2022-12-28</td>\n",
       "      <td>[Martin McDonagh]</td>\n",
       "      <td>2022</td>\n",
       "    </tr>\n",
       "    <tr>\n",
       "      <th>2</th>\n",
       "      <td>289305</td>\n",
       "      <td>tempête</td>\n",
       "      <td>2022-12-21</td>\n",
       "      <td>[Christian Duguay]</td>\n",
       "      <td>2022</td>\n",
       "    </tr>\n",
       "    <tr>\n",
       "      <th>3</th>\n",
       "      <td>266320</td>\n",
       "      <td>m3gan</td>\n",
       "      <td>2022-12-28</td>\n",
       "      <td>[Gerard Johnstone]</td>\n",
       "      <td>2022</td>\n",
       "    </tr>\n",
       "    <tr>\n",
       "      <th>4</th>\n",
       "      <td>288544</td>\n",
       "      <td>le tourbillon de la vie</td>\n",
       "      <td>2022-12-21</td>\n",
       "      <td>[Olivier Treiner]</td>\n",
       "      <td>2022</td>\n",
       "    </tr>\n",
       "    <tr>\n",
       "      <th>...</th>\n",
       "      <td>...</td>\n",
       "      <td>...</td>\n",
       "      <td>...</td>\n",
       "      <td>...</td>\n",
       "      <td>...</td>\n",
       "    </tr>\n",
       "    <tr>\n",
       "      <th>19877</th>\n",
       "      <td>275748</td>\n",
       "      <td>o fim do mundo</td>\n",
       "      <td>2022-04-06</td>\n",
       "      <td>[Basil Da Cunha]</td>\n",
       "      <td>2022</td>\n",
       "    </tr>\n",
       "    <tr>\n",
       "      <th>19878</th>\n",
       "      <td>277796</td>\n",
       "      <td>acceleration</td>\n",
       "      <td>2021-07-21</td>\n",
       "      <td>[Michael Merino, Daniel Zirilli]</td>\n",
       "      <td>2021</td>\n",
       "    </tr>\n",
       "    <tr>\n",
       "      <th>19879</th>\n",
       "      <td>280139</td>\n",
       "      <td>a perfect family</td>\n",
       "      <td>2020-08-19</td>\n",
       "      <td>[Malou Leth Reymann]</td>\n",
       "      <td>2020</td>\n",
       "    </tr>\n",
       "    <tr>\n",
       "      <th>19880</th>\n",
       "      <td>281034</td>\n",
       "      <td>jagame thandhiram</td>\n",
       "      <td>2021-06-18</td>\n",
       "      <td>[Karthik Subbaraj]</td>\n",
       "      <td>2021</td>\n",
       "    </tr>\n",
       "    <tr>\n",
       "      <th>19881</th>\n",
       "      <td>51928</td>\n",
       "      <td>délit d'innocence</td>\n",
       "      <td>1990-07-11</td>\n",
       "      <td>[Peter Yates]</td>\n",
       "      <td>1990</td>\n",
       "    </tr>\n",
       "  </tbody>\n",
       "</table>\n",
       "<p>19882 rows × 5 columns</p>\n",
       "</div>"
      ],
      "text/plain": [
       "           id                      titre date_sortie  \\\n",
       "0      178014  avatar : la voie de l'eau  2022-12-14   \n",
       "1      281293   les banshees d'inisherin  2022-12-28   \n",
       "2      289305                    tempête  2022-12-21   \n",
       "3      266320                      m3gan  2022-12-28   \n",
       "4      288544    le tourbillon de la vie  2022-12-21   \n",
       "...       ...                        ...         ...   \n",
       "19877  275748             o fim do mundo  2022-04-06   \n",
       "19878  277796               acceleration  2021-07-21   \n",
       "19879  280139           a perfect family  2020-08-19   \n",
       "19880  281034          jagame thandhiram  2021-06-18   \n",
       "19881   51928          délit d'innocence  1990-07-11   \n",
       "\n",
       "                           realisateurs  annee_sortie  \n",
       "0                       [James Cameron]          2022  \n",
       "1                     [Martin McDonagh]          2022  \n",
       "2                    [Christian Duguay]          2022  \n",
       "3                    [Gerard Johnstone]          2022  \n",
       "4                     [Olivier Treiner]          2022  \n",
       "...                                 ...           ...  \n",
       "19877                  [Basil Da Cunha]          2022  \n",
       "19878  [Michael Merino, Daniel Zirilli]          2021  \n",
       "19879              [Malou Leth Reymann]          2020  \n",
       "19880                [Karthik Subbaraj]          2021  \n",
       "19881                     [Peter Yates]          1990  \n",
       "\n",
       "[19882 rows x 5 columns]"
      ]
     },
     "execution_count": 38,
     "metadata": {},
     "output_type": "execute_result"
    }
   ],
   "source": [
    "movie_csv = pd.read_csv(data_path+'data_allocine_scrapping_sens_critique.csv')\n",
    "movie_csv['realisateurs'] = movie_csv['realisateurs'].apply(lambda data : eval(str(data)) if str(data)!=\"nan\" else [] )\n",
    "ids = list(movie_csv.id)\n",
    "titres = list(movie_csv.titre)\n",
    "dates = list(movie_csv.annee_sortie)\n",
    "reals = list(movie_csv.realisateurs)\n",
    "movie_csv"
   ]
  },
  {
   "cell_type": "markdown",
   "id": "ccadc007",
   "metadata": {},
   "source": [
    "# Scrapping des ids des films sur senscritique"
   ]
  },
  {
   "cell_type": "code",
   "execution_count": 39,
   "id": "3a60f7dd",
   "metadata": {},
   "outputs": [],
   "source": [
    "def find_on_page(xpath):\n",
    "    #print('SEARCHING ' + xpath)\n",
    "    while True:\n",
    "        try:\n",
    "            box = driver.find_element(By.XPATH, xpath)\n",
    "            #box = driver.find_element(By.CSS_SELECTOR, xpath)\n",
    "            #print('SUCCESS')\n",
    "            return box\n",
    "        except:\n",
    "            pass\n",
    "        "
   ]
  },
  {
   "cell_type": "markdown",
   "id": "8e48c7cb",
   "metadata": {},
   "source": [
    "## Fonctions"
   ]
  },
  {
   "cell_type": "code",
   "execution_count": 40,
   "id": "21b98267",
   "metadata": {},
   "outputs": [],
   "source": [
    "def first_connexion(headless=False) :\n",
    "    options = webdriver.ChromeOptions()\n",
    "    \n",
    "    if headless==True : \n",
    "        options.add_argument('-headless')\n",
    "        options.add_argument(\"--window-size=1920,1080\")\n",
    "    driver = webdriver.Chrome(ChromeDriverManager().install(),options=options)\n",
    "    driver.get(\"https://www.senscritique.com/\")\n",
    "    \n",
    "    #driver.get_screenshot_as_file(\"screenshot.png\")\n",
    "    if headless==False : \n",
    "        time.sleep(1)\n",
    "        cookies_box = driver.find_element(By.ID, 'didomi-notice-agree-button')\n",
    "        cookies_box.click()\n",
    "    return driver"
   ]
  },
  {
   "cell_type": "code",
   "execution_count": 41,
   "id": "08b55cf7",
   "metadata": {},
   "outputs": [],
   "source": [
    "def format_key_words(movie_name) : \n",
    "    return urllib.parse.quote(movie_name)"
   ]
  },
  {
   "cell_type": "code",
   "execution_count": 42,
   "id": "32d47890",
   "metadata": {},
   "outputs": [],
   "source": [
    "\n",
    "def list_to_lower(list_strings) : \n",
    "    for i in range(len(list_strings)) : \n",
    "        list_strings[i]=list_strings[i].lower()\n",
    "    return list_strings\n",
    "\n",
    "#Renvoie le score de similarité entre 2 strings \n",
    "def string_similarity(name1, name2):\n",
    "    distance = lev.distance(name1, name2)\n",
    "    min_length = min(len(name1), len(name2))\n",
    "    result = (min_length - distance) / min_length\n",
    "    return result * (result>0)\n",
    "\n",
    "#Calcul un score de similarité entre 2 années à partir de la distance en celles-ci\n",
    "#On considère que s'il y a 3 années ou plus d'écart le score est de 0\n",
    "def year_similarity(year1, year2) : \n",
    "    max=5\n",
    "    dif= abs(year1-year2)/max\n",
    "    score= 1- (dif)\n",
    "    return score * (score>0)\n",
    "\n",
    "#Calcul le score de similarité relié aux acteurs présents dans les 2 films\n",
    "def actors_similarity(list_actors1, list_actors2) : \n",
    "    if type(list_actors2) == str : # On s'assure que le deuxième paramètre est bien une liste\n",
    "        list_actors2 = [list_actors2]\n",
    "    if type(list_actors2) == tuple : \n",
    "        list_actors2 = list(list_actors2) \n",
    "    list_actors1 = list_to_lower(list_actors1)\n",
    "    list_actors2 = list_to_lower(list_actors2)\n",
    "    score=0\n",
    "    for actor in list_actors1 : \n",
    "        if actor in list_actors2 : \n",
    "            score+=1/len(list_actors1)\n",
    "        else : #Au cas où l'orthographe ne serait pas exactement la même\n",
    "            score+=max([string_similarity(actor, actor2) for actor2 in list_actors2])/len(list_actors1)\n",
    "    return score \n",
    "\n",
    "\n",
    "def score_similarite(name_imdb, year_imdb, actors_imdb, name, year, actors ) : \n",
    "    title_score= string_similarity(name_imdb.lower(), name.lower()) if name_imdb!=\"\" else 0\n",
    "    year_score = year_similarity(year_imdb, year) if ~np.isnan(year_imdb) else 0\n",
    "    \n",
    "    if actors_imdb != [] and len(actors)>0: \n",
    "        actors_score = actors_similarity(actors_imdb, actors)\n",
    "    elif actors_imdb ==[] and len(actors)==0 : \n",
    "        actors_score = 1\n",
    "    else : \n",
    "        actors_score= 0\n",
    "    mean_score = (title_score+year_score+actors_score )/3\n",
    "    return title_score, year_score, actors_score, mean_score"
   ]
  },
  {
   "cell_type": "code",
   "execution_count": 43,
   "id": "5ff1bf30",
   "metadata": {},
   "outputs": [],
   "source": [
    "#GET MOVIE IDS AND RATINGS\n",
    "def get_senscritique_data(driver, a_id, a_titre, a_date, a_reals):\n",
    "    \n",
    "    sc_id, sc_rating, sc_detailed_similarity, sc_mean_similarity = None, None, None, None\n",
    "    detailed_scores = []\n",
    "    similarity_scores = []\n",
    "    rates = []\n",
    "    \n",
    "    \n",
    "    mots_cles= format_key_words(a_titre)\n",
    "    url =f\"https://www.senscritique.com/search?query={mots_cles}&size=16\"\n",
    "    driver.get(url)\n",
    "\n",
    "    time.sleep(1)\n",
    " \n",
    "     \n",
    "    movie_container_results = driver.find_elements(By.CSS_SELECTOR, \"div[class='ExplorerProductCard__Container-sc-1fw1q8r-0 gkhVSD']\")\n",
    "    for i in range(5) : \n",
    "        time.sleep(1)\n",
    "        movie_container_results = driver.find_elements(By.CSS_SELECTOR, \"div[class='ExplorerProductCard__Container-sc-1fw1q8r-0 gkhVSD']\")\n",
    "        if len(movie_container_results)>0 : \n",
    "            break;\n",
    "    \n",
    "    if len(movie_container_results)>0 :\n",
    "        for i in range(len(movie_container_results)):\n",
    "            div = movie_container_results[i]        \n",
    "            try :\n",
    "                title_element = div.find_element(By.CSS_SELECTOR, \"a[class='Text__SCText-sc-kgt5u3-0 Link__SecondaryLink-sc-1vfcbn2-1 jbJnwO eDKWEX']\")\n",
    "                title = title_element.text\n",
    "            except :\n",
    "                title = \"\"\n",
    "            try:\n",
    "                rating_element = div.find_element(By.CSS_SELECTOR, \"*[data-testid='Rating']\")\n",
    "                rate = float(rating_element.text)\n",
    "            except:\n",
    "                rate = np.NAN\n",
    "            try :\n",
    "                desc_element = div.find_element(By.CSS_SELECTOR, \"p[data-testid='product-explorer-creator']\")\n",
    "                desc = desc_element.text\n",
    "            except:\n",
    "                desc = \"Film\"\n",
    "            desc = desc.split(' · ')\n",
    "            if len(desc) == 2:\n",
    "                date = int(desc[1])\n",
    "            else:\n",
    "                date = -1000\n",
    "            desc = desc[0].split('Film de ')\n",
    "            if len(desc) == 2:\n",
    "                producers = desc[1].split(', ')\n",
    "            else:\n",
    "                producers = []\n",
    "                \n",
    "            detailed_score = score_similarite(a_titre, a_date, a_reals, title, date, producers)\n",
    "            mean_score = detailed_score[3]\n",
    "            detailed_scores.append(detailed_score)\n",
    "            similarity_scores.append(mean_score)\n",
    "            rates.append(rate) \n",
    "        \n",
    "            \n",
    "        container = movie_container_results[np.argmax(similarity_scores)]\n",
    "        movie_link = container.find_element(By.CSS_SELECTOR, \"a[class='Text__SCText-sc-kgt5u3-0 Link__SecondaryLink-sc-1vfcbn2-1 jbJnwO eDKWEX']\")\n",
    "        sc_id = \"/\".join(movie_link.get_attribute('href').split('/')[-2:])\n",
    "        sc_rating = rates[np.argmax(similarity_scores)]\n",
    "        sc_detailed_similarity = detailed_scores[np.argmax(similarity_scores)]\n",
    "        sc_mean_similarity = similarity_scores[np.argmax(similarity_scores)]\n",
    "    else : \n",
    "        print(f\"Pas movies_container pour {url}\")\n",
    "    \n",
    "    return {\"id\": a_id,\n",
    "            \"title\": a_titre,\n",
    "            \"sc_id\": sc_id,\n",
    "            \"sc_rating\": sc_rating,\n",
    "            \"sc_detailed_similarity\": sc_detailed_similarity,\n",
    "            \"sc_mean_similarity\": sc_mean_similarity}"
   ]
  },
  {
   "cell_type": "code",
   "execution_count": 44,
   "id": "8368947f",
   "metadata": {},
   "outputs": [],
   "source": [
    "def workload_driver(info_driver) :\n",
    "    data_processed = movie_csv.iloc[info_driver[\"index_start\"]:info_driver[\"index_end\"]].iloc[:nb_films_by_iter]\n",
    "    \n",
    "    driver=first_connexion(headless=True)\n",
    "    \n",
    "    #Scrapping des données\n",
    "    new_data_movie = []\n",
    "    for index, id in enumerate(data_processed[\"id\"]) : \n",
    "        new_data = get_senscritique_data(driver, data_processed['id'].iloc[index], data_processed['titre'].iloc[index], data_processed['annee_sortie'].iloc[index], data_processed['realisateurs'].iloc[index])\n",
    "        new_data_movie.append(new_data)\n",
    "        if index % 5 == 0 : \n",
    "            if info_driver[\"id\"] ==0 : \n",
    "                clear_output()\n",
    "            print(f\"Driver n°{info_driver['id']} : {index} films\")\n",
    "    driver.close()\n",
    "    \n",
    "    #Sauvegarde des données\n",
    "    df_movies= pd.DataFrame(new_data_movie)\n",
    "    \n",
    "    temp_movies = pd.read_csv(data_path+f\"sens_critique_ids/{info_driver['id']}.csv\")\n",
    "\n",
    "    pd.concat([temp_movies, df_movies]).to_csv(data_path+f\"sens_critique_ids/{info_driver['id']}.csv\",index=False)\n"
   ]
  },
  {
   "cell_type": "code",
   "execution_count": 45,
   "id": "4bc40824",
   "metadata": {},
   "outputs": [],
   "source": [
    "def init_movies_by_driver(nb_drivers, len_data) :\n",
    "    drivers_ids_range ={}\n",
    "    nb_films_by_driver = np.ceil(len_data/nb_drivers)\n",
    "    for i in range(nb_drivers) :\n",
    "        drivers_ids_range[i]=  {\"start\" : int(i * nb_films_by_driver), \"end\" : int((i+1)*nb_films_by_driver)}\n",
    "    return drivers_ids_range\n",
    "\n",
    "def init_save_files(number) :\n",
    "    for i in range(number) :\n",
    "        df_movies_init= pd.DataFrame(columns= ['id','title','sc_id','sc_rating', 'sc_detailed_similarity', 'sc_mean_similarity'])\n",
    "        df_movies_init.to_csv(data_path+f\"sens_critique_ids/{i}.csv\",index=False)"
   ]
  },
  {
   "cell_type": "markdown",
   "id": "345cc440",
   "metadata": {},
   "source": [
    "### Essais de la fonction : "
   ]
  },
  {
   "cell_type": "code",
   "execution_count": 46,
   "id": "926054a9",
   "metadata": {
    "scrolled": true
   },
   "outputs": [
    {
     "data": {
      "text/plain": [
       "{'id': 19483,\n",
       " 'title': 'fourmiz',\n",
       " 'sc_id': 'fourmiz/804186',\n",
       " 'sc_rating': 6.1,\n",
       " 'sc_detailed_similarity': (1.0, 1.0, 0.6666666666666666, 0.8888888888888888),\n",
       " 'sc_mean_similarity': 0.8888888888888888}"
      ]
     },
     "execution_count": 46,
     "metadata": {},
     "output_type": "execute_result"
    }
   ],
   "source": [
    "df_sample = movie_csv.sample()\n",
    "a_id=df_sample[\"id\"].iloc[0]\n",
    "a_titre=df_sample[\"titre\"].iloc[0] \n",
    "a_date=df_sample[\"annee_sortie\"].iloc[0]\n",
    "a_reals=df_sample[\"realisateurs\"].iloc[0]\n",
    "\n",
    "driver=first_connexion(headless=True)\n",
    "\n",
    "get_senscritique_data(driver, a_id, a_titre, a_date, a_reals)\n"
   ]
  },
  {
   "cell_type": "markdown",
   "id": "e70c7cbc",
   "metadata": {},
   "source": [
    "## Algorithme de scrapping des ids"
   ]
  },
  {
   "cell_type": "markdown",
   "id": "5f40b447",
   "metadata": {},
   "source": [
    "22h30"
   ]
  },
  {
   "cell_type": "code",
   "execution_count": 47,
   "id": "7f49b1f0",
   "metadata": {},
   "outputs": [
    {
     "name": "stdout",
     "output_type": "stream",
     "text": [
      "Driver n°0 : 10 films\n",
      "Driver n°3 : 10 films\n",
      "CPU times: total: 50min 39s\n",
      "Wall time: 5h 47min 2s\n"
     ]
    }
   ],
   "source": [
    "%%time\n",
    "nb_drivers = 6\n",
    "nb_films_by_iter =100\n",
    "nb_movies= len(movie_csv)\n",
    "\n",
    "ids_movies_by_drivers = init_movies_by_driver(nb_drivers, nb_movies)\n",
    "nb_iterations =(nb_movies//(nb_drivers*nb_films_by_iter))+1\n",
    "init_save_files(nb_drivers)\n",
    "\n",
    "#Nombre de fois que les drivers vont se lancer et se fermer\n",
    "for j in range(nb_iterations) : \n",
    "    print(\"Itération :\",j)\n",
    "    with futures.ThreadPoolExecutor() as executor: \n",
    "        future_results = [ executor.submit(workload_driver,{'id':i, 'index_start' :ids_movies_by_drivers[i][\"start\"]+nb_films_by_iter*j , 'index_end':ids_movies_by_drivers[i][\"end\"]})  for i in range(nb_drivers) ] \n",
    "        for future_result in future_results: \n",
    "            try:\n",
    "                future_result = future_result.result()\n",
    "            except Exception as exc: # can give a exception in some thread, but \n",
    "                print(\"thread generated an exception\",exc)\n",
    "                break; # can use `timeout` to wait max seconds for each thread               \n",
    "\n",
    "#Concaténation et enregirstrement des données\n",
    "df_movies=pd.DataFrame()\n",
    "for i in range(nb_drivers): \n",
    "    df_movies=pd.concat([df_movies, pd.read_csv(data_path+f\"sens_critique_ids/{i}.csv\")])\n",
    "df_movies.to_csv(data_path+f\"sens_critique_ids.csv\",index=False)"
   ]
  },
  {
   "cell_type": "markdown",
   "id": "d6b01fbb",
   "metadata": {},
   "source": [
    "# Lecture des données "
   ]
  },
  {
   "cell_type": "code",
   "execution_count": 15,
   "id": "f1e973ad",
   "metadata": {
    "scrolled": false
   },
   "outputs": [
    {
     "name": "stdout",
     "output_type": "stream",
     "text": [
      "Shape df : (19882, 6)\n",
      "\n",
      "Valeurs nan dans id : 0\n",
      "Valeurs nan dans title : 0\n",
      "Valeurs nan dans sc_id : 3\n",
      "Valeurs nan dans sc_rating : 1215\n",
      "Valeurs nan dans sc_detailed_similarity : 3\n",
      "Valeurs nan dans score_mean : 3\n",
      "\n",
      "Valeurs uniques dans id : 19882\n",
      "Valeurs uniques dans title : 19051\n",
      "Valeurs uniques dans sc_id : 19589\n",
      "Valeurs uniques dans sc_rating : 74\n",
      "Valeurs uniques dans sc_detailed_similarity : 1665\n",
      "Valeurs uniques dans score_mean : 1174\n"
     ]
    },
    {
     "data": {
      "text/html": [
       "<div>\n",
       "<style scoped>\n",
       "    .dataframe tbody tr th:only-of-type {\n",
       "        vertical-align: middle;\n",
       "    }\n",
       "\n",
       "    .dataframe tbody tr th {\n",
       "        vertical-align: top;\n",
       "    }\n",
       "\n",
       "    .dataframe thead th {\n",
       "        text-align: right;\n",
       "    }\n",
       "</style>\n",
       "<table border=\"1\" class=\"dataframe\">\n",
       "  <thead>\n",
       "    <tr style=\"text-align: right;\">\n",
       "      <th></th>\n",
       "      <th>id</th>\n",
       "      <th>title</th>\n",
       "      <th>sc_id</th>\n",
       "      <th>sc_rating</th>\n",
       "      <th>sc_detailed_similarity</th>\n",
       "      <th>score_mean</th>\n",
       "    </tr>\n",
       "  </thead>\n",
       "  <tbody>\n",
       "    <tr>\n",
       "      <th>0</th>\n",
       "      <td>178014</td>\n",
       "      <td>avatar : la voie de l'eau</td>\n",
       "      <td>avatar_la_voie_de_l_eau/450676</td>\n",
       "      <td>6.9</td>\n",
       "      <td>(0.96, 1.0, 1.0, 0.9866666666666667)</td>\n",
       "      <td>0.986667</td>\n",
       "    </tr>\n",
       "    <tr>\n",
       "      <th>1</th>\n",
       "      <td>281293</td>\n",
       "      <td>les banshees d'inisherin</td>\n",
       "      <td>les_banshees_d_inisherin/41368328</td>\n",
       "      <td>7.3</td>\n",
       "      <td>(1.0, 1.0, 1.0, 1.0)</td>\n",
       "      <td>1.000000</td>\n",
       "    </tr>\n",
       "    <tr>\n",
       "      <th>2</th>\n",
       "      <td>289305</td>\n",
       "      <td>tempête</td>\n",
       "      <td>tempete/44158578</td>\n",
       "      <td>6.2</td>\n",
       "      <td>(1.0, 1.0, 1.0, 1.0)</td>\n",
       "      <td>1.000000</td>\n",
       "    </tr>\n",
       "    <tr>\n",
       "      <th>3</th>\n",
       "      <td>266320</td>\n",
       "      <td>m3gan</td>\n",
       "      <td>m3gan/44804275</td>\n",
       "      <td>5.4</td>\n",
       "      <td>(1.0, 0.8, 1.0, 0.9333333333333332)</td>\n",
       "      <td>0.933333</td>\n",
       "    </tr>\n",
       "    <tr>\n",
       "      <th>4</th>\n",
       "      <td>288544</td>\n",
       "      <td>le tourbillon de la vie</td>\n",
       "      <td>le_tourbillon_de_la_vie/47794530</td>\n",
       "      <td>6.2</td>\n",
       "      <td>(1.0, 0.8, 1.0, 0.9333333333333332)</td>\n",
       "      <td>0.933333</td>\n",
       "    </tr>\n",
       "  </tbody>\n",
       "</table>\n",
       "</div>"
      ],
      "text/plain": [
       "       id                      title                              sc_id  \\\n",
       "0  178014  avatar : la voie de l'eau     avatar_la_voie_de_l_eau/450676   \n",
       "1  281293   les banshees d'inisherin  les_banshees_d_inisherin/41368328   \n",
       "2  289305                    tempête                   tempete/44158578   \n",
       "3  266320                      m3gan                     m3gan/44804275   \n",
       "4  288544    le tourbillon de la vie   le_tourbillon_de_la_vie/47794530   \n",
       "\n",
       "   sc_rating                sc_detailed_similarity  score_mean  \n",
       "0        6.9  (0.96, 1.0, 1.0, 0.9866666666666667)    0.986667  \n",
       "1        7.3                  (1.0, 1.0, 1.0, 1.0)    1.000000  \n",
       "2        6.2                  (1.0, 1.0, 1.0, 1.0)    1.000000  \n",
       "3        5.4   (1.0, 0.8, 1.0, 0.9333333333333332)    0.933333  \n",
       "4        6.2   (1.0, 0.8, 1.0, 0.9333333333333332)    0.933333  "
      ]
     },
     "execution_count": 15,
     "metadata": {},
     "output_type": "execute_result"
    }
   ],
   "source": [
    "df = pd.read_csv(data_path+f\"sens_critique_ids.csv\").rename(columns={\"sc_mean_similarity\":\"score_mean\"})\n",
    "print(\"Shape df :\",df.shape)\n",
    "print()\n",
    "check_nan(df)\n",
    "print()\n",
    "check_unique(df)\n",
    "df.head()"
   ]
  },
  {
   "cell_type": "markdown",
   "id": "6d889e8d",
   "metadata": {},
   "source": [
    "# Nettoyage des données "
   ]
  },
  {
   "cell_type": "markdown",
   "id": "b8250987",
   "metadata": {},
   "source": [
    "## Drop des nans"
   ]
  },
  {
   "cell_type": "code",
   "execution_count": 16,
   "id": "b06fcafe",
   "metadata": {},
   "outputs": [
    {
     "data": {
      "text/html": [
       "<div>\n",
       "<style scoped>\n",
       "    .dataframe tbody tr th:only-of-type {\n",
       "        vertical-align: middle;\n",
       "    }\n",
       "\n",
       "    .dataframe tbody tr th {\n",
       "        vertical-align: top;\n",
       "    }\n",
       "\n",
       "    .dataframe thead th {\n",
       "        text-align: right;\n",
       "    }\n",
       "</style>\n",
       "<table border=\"1\" class=\"dataframe\">\n",
       "  <thead>\n",
       "    <tr style=\"text-align: right;\">\n",
       "      <th></th>\n",
       "      <th>id</th>\n",
       "      <th>title</th>\n",
       "      <th>sc_id</th>\n",
       "      <th>sc_rating</th>\n",
       "      <th>sc_detailed_similarity</th>\n",
       "      <th>score_mean</th>\n",
       "    </tr>\n",
       "  </thead>\n",
       "  <tbody>\n",
       "    <tr>\n",
       "      <th>8911</th>\n",
       "      <td>256762</td>\n",
       "      <td>représaille</td>\n",
       "      <td>NaN</td>\n",
       "      <td>NaN</td>\n",
       "      <td>NaN</td>\n",
       "      <td>NaN</td>\n",
       "    </tr>\n",
       "    <tr>\n",
       "      <th>18046</th>\n",
       "      <td>225054</td>\n",
       "      <td>gbf</td>\n",
       "      <td>NaN</td>\n",
       "      <td>NaN</td>\n",
       "      <td>NaN</td>\n",
       "      <td>NaN</td>\n",
       "    </tr>\n",
       "    <tr>\n",
       "      <th>18761</th>\n",
       "      <td>290811</td>\n",
       "      <td>fonceuses</td>\n",
       "      <td>NaN</td>\n",
       "      <td>NaN</td>\n",
       "      <td>NaN</td>\n",
       "      <td>NaN</td>\n",
       "    </tr>\n",
       "  </tbody>\n",
       "</table>\n",
       "</div>"
      ],
      "text/plain": [
       "           id        title sc_id  sc_rating sc_detailed_similarity  score_mean\n",
       "8911   256762  représaille   NaN        NaN                    NaN         NaN\n",
       "18046  225054          gbf   NaN        NaN                    NaN         NaN\n",
       "18761  290811    fonceuses   NaN        NaN                    NaN         NaN"
      ]
     },
     "execution_count": 16,
     "metadata": {},
     "output_type": "execute_result"
    }
   ],
   "source": [
    "df[(df[\"sc_id\"].isna())]"
   ]
  },
  {
   "cell_type": "code",
   "execution_count": 17,
   "id": "cb56bcc3",
   "metadata": {},
   "outputs": [],
   "source": [
    "df=df[~df[\"id\"].isna()]"
   ]
  },
  {
   "cell_type": "markdown",
   "id": "18c262ab",
   "metadata": {},
   "source": [
    "## Observations des scores de similarité "
   ]
  },
  {
   "cell_type": "code",
   "execution_count": 18,
   "id": "62d61f53",
   "metadata": {},
   "outputs": [
    {
     "data": {
      "image/png": "[encoded data removed]",
      "text/plain": [
       "<Figure size 1400x1000 with 2 Axes>"
      ]
     },
     "metadata": {},
     "output_type": "display_data"
    }
   ],
   "source": [
    "fig, axes = plt.subplots(2,1, figsize=(14,10))\n",
    "\n",
    "#Nombre d'ingrédients maximum pour un seul produit : \n",
    "ax=axes[0]\n",
    "\n",
    "sns.boxplot(data= df, x=\"score_mean\", ax=ax)\n",
    "ax.set_xlabel(\"Moyenne des scores de similarité\", fontsize=15)\n",
    "#ax.set_title(\"Boxplot du nombre d'ingrédients par produit\\n\", fontsize=25)\n",
    "\n",
    "\n",
    "ax=axes[1]\n",
    "sns.histplot(data=df, x=\"score_mean\",ax=ax)\n",
    "#ax.set_title(\"Histogramme du nombre d'ingrédients par produit\\n\", fontsize=25)\n",
    "ax.set_xlabel(\"Moyenne des scores de similarité\",fontsize=15)\n",
    "ax.set_ylabel(\"Nombre de films\", fontsize=15)\n",
    "\n",
    "#plt.tight_layout()\n",
    "plt.suptitle(\"Boxplot et histogram du score de similarité moyen\\npar produit film\", fontsize=25)\n",
    "plt.show()"
   ]
  },
  {
   "cell_type": "code",
   "execution_count": 19,
   "id": "ff45501f",
   "metadata": {},
   "outputs": [
    {
     "data": {
      "image/png": "[encoded data removed]",
      "text/plain": [
       "<Figure size 1500x800 with 1 Axes>"
      ]
     },
     "metadata": {},
     "output_type": "display_data"
    }
   ],
   "source": [
    "temp = df.groupby(\"score_mean\").agg(\"count\").reset_index().sort_values(\"score_mean\",ascending=False)[[\"score_mean\",\"id\"]]\n",
    "temp[\"Somme_cummulee\"]= temp[\"id\"].cumsum()\n",
    "\n",
    "sns.lineplot(data=temp,x=\"score_mean\",y=\"Somme_cummulee\")\n",
    "plt.xlabel(\"Score moyen\",fontsize=15)\n",
    "plt.ylabel(\"Nombre de films\",fontsize=15)\n",
    "plt.title(\"Part de films gardés en fonction du score moyen à partir duquel on filtre\\n\",fontsize=20)\n",
    "plt.show()"
   ]
  },
  {
   "cell_type": "code",
   "execution_count": 23,
   "id": "70efe427",
   "metadata": {},
   "outputs": [
    {
     "name": "stdout",
     "output_type": "stream",
     "text": [
      "Nombre de films pour un seuil de 0.66 : 18344\n"
     ]
    }
   ],
   "source": [
    "seuil = 0.66\n",
    "print(f\"Nombre de films pour un seuil de {seuil} :\", len(df[df[\"score_mean\"]>seuil]))"
   ]
  },
  {
   "cell_type": "code",
   "execution_count": 24,
   "id": "0d9dc62a",
   "metadata": {},
   "outputs": [],
   "source": [
    "#Filtre : \n",
    "df = df[df[\"score_mean\"]>0.66]"
   ]
  },
  {
   "cell_type": "code",
   "execution_count": 25,
   "id": "d4fb05cf",
   "metadata": {
    "scrolled": true
   },
   "outputs": [
    {
     "name": "stdout",
     "output_type": "stream",
     "text": [
      "Valeurs nan dans id : 0\n",
      "Valeurs nan dans title : 0\n",
      "Valeurs nan dans sc_id : 0\n",
      "Valeurs nan dans sc_rating : 1000\n",
      "Valeurs nan dans sc_detailed_similarity : 0\n",
      "Valeurs nan dans score_mean : 0\n",
      "\n",
      "Valeurs uniques dans id : 18344\n",
      "Valeurs uniques dans title : 17606\n",
      "Valeurs uniques dans sc_id : 18281\n",
      "Valeurs uniques dans sc_rating : 72\n",
      "Valeurs uniques dans sc_detailed_similarity : 887\n",
      "Valeurs uniques dans score_mean : 635\n"
     ]
    },
    {
     "data": {
      "text/plain": [
       "(18344, 6)"
      ]
     },
     "execution_count": 25,
     "metadata": {},
     "output_type": "execute_result"
    }
   ],
   "source": [
    "check_nan(df)\n",
    "print()\n",
    "check_unique(df)\n",
    "df.shape"
   ]
  },
  {
   "cell_type": "markdown",
   "id": "22d6c94b",
   "metadata": {},
   "source": [
    "# Sauvegarde des données "
   ]
  },
  {
   "cell_type": "code",
   "execution_count": 28,
   "id": "b55a5fa4",
   "metadata": {},
   "outputs": [],
   "source": [
    "df.to_csv(data_path+\"Senscritique_ids_notes_cleaned.csv\",index=False)"
   ]
  },
  {
   "cell_type": "code",
   "execution_count": null,
   "id": "cc3bb823",
   "metadata": {},
   "outputs": [],
   "source": []
  },
  {
   "cell_type": "code",
   "execution_count": null,
   "id": "a058a71f",
   "metadata": {},
   "outputs": [],
   "source": []
  },
  {
   "cell_type": "code",
   "execution_count": null,
   "id": "d5ec9dee",
   "metadata": {},
   "outputs": [],
   "source": []
  },
  {
   "cell_type": "code",
   "execution_count": null,
   "id": "460d4bd3",
   "metadata": {},
   "outputs": [],
   "source": []
  },
  {
   "cell_type": "code",
   "execution_count": 8,
   "id": "6e3bd418",
   "metadata": {},
   "outputs": [
    {
     "ename": "NameError",
     "evalue": "name 'score' is not defined",
     "output_type": "error",
     "traceback": [
      "\u001b[1;31m---------------------------------------------------------------------------\u001b[0m",
      "\u001b[1;31mNameError\u001b[0m                                 Traceback (most recent call last)",
      "\u001b[1;32m~\\AppData\\Local\\Temp\\ipykernel_22072\\604928947.py\u001b[0m in \u001b[0;36m<cell line: 14>\u001b[1;34m()\u001b[0m\n\u001b[0;32m     61\u001b[0m         \u001b[0mmean_score\u001b[0m \u001b[1;33m=\u001b[0m \u001b[0mdetailed_score\u001b[0m\u001b[1;33m[\u001b[0m\u001b[1;36m3\u001b[0m\u001b[1;33m]\u001b[0m\u001b[1;33m\u001b[0m\u001b[1;33m\u001b[0m\u001b[0m\n\u001b[0;32m     62\u001b[0m         \u001b[0mdetailed_scores\u001b[0m\u001b[1;33m.\u001b[0m\u001b[0mappend\u001b[0m\u001b[1;33m(\u001b[0m\u001b[0mdetailed_score\u001b[0m\u001b[1;33m)\u001b[0m\u001b[1;33m\u001b[0m\u001b[1;33m\u001b[0m\u001b[0m\n\u001b[1;32m---> 63\u001b[1;33m         \u001b[0msimilarity_scores\u001b[0m\u001b[1;33m.\u001b[0m\u001b[0mappend\u001b[0m\u001b[1;33m(\u001b[0m\u001b[0mscore\u001b[0m\u001b[1;33m)\u001b[0m\u001b[1;33m\u001b[0m\u001b[1;33m\u001b[0m\u001b[0m\n\u001b[0m\u001b[0;32m     64\u001b[0m         \u001b[0mrates\u001b[0m\u001b[1;33m.\u001b[0m\u001b[0mappend\u001b[0m\u001b[1;33m(\u001b[0m\u001b[0mrate\u001b[0m\u001b[1;33m)\u001b[0m\u001b[1;33m\u001b[0m\u001b[1;33m\u001b[0m\u001b[0m\n\u001b[0;32m     65\u001b[0m     \u001b[0mcontainer\u001b[0m \u001b[1;33m=\u001b[0m \u001b[0mmovie_container_results\u001b[0m\u001b[1;33m[\u001b[0m\u001b[0mnp\u001b[0m\u001b[1;33m.\u001b[0m\u001b[0margmax\u001b[0m\u001b[1;33m(\u001b[0m\u001b[0msimilarity_scores\u001b[0m\u001b[1;33m)\u001b[0m\u001b[1;33m]\u001b[0m\u001b[1;33m\u001b[0m\u001b[1;33m\u001b[0m\u001b[0m\n",
      "\u001b[1;31mNameError\u001b[0m: name 'score' is not defined"
     ]
    }
   ],
   "source": [
    "#INITIALIZATION\n",
    "driver = webdriver.Chrome()\n",
    "driver.get(\"https://www.senscritique.com/search?filters%5B0%5D%5Bidentifier%5D=universe&filters%5B0%5D%5Bvalue%5D=Films&size=16\")\n",
    "cookies_box = find_on_page('//*[@id=\"didomi-notice-agree-button\"]')\n",
    "cookies_box.click()\n",
    "movie_ids = []\n",
    "movie_ratings = []\n",
    "mean_similarity_scores = []\n",
    "detailed_similarity_scores = []\n",
    "new_first_id = 'fight_club/363185'\n",
    "last_first_id = 'fight_club/363185'\n",
    "\n",
    "#GET MOVIE IDS AND RATINGS\n",
    "for i_titre in range(len(titres[0:10])):\n",
    "    new_id = None\n",
    "    rating = None\n",
    "    search_box = find_on_page('//*[@id=\"search\"]')\n",
    "    search_box.send_keys(Keys.CONTROL + \"A\")\n",
    "    search_box.send_keys(Keys.BACK_SPACE)\n",
    "    search_box.send_keys(titres[i_titre])\n",
    "    search_box.send_keys(Keys.ENTER)\n",
    "    while new_first_id == last_first_id:\n",
    "        try:\n",
    "            movie_link = find_on_page('//*[@id=\"__next\"]/div[1]/main/div[1]/div/div[2]/div[5]/div[1]/div[2]/h3/a')\n",
    "            new_first_id = \"/\".join(movie_link.get_attribute('href').split('/')[-2:])\n",
    "        except:\n",
    "            pass\n",
    "    last_first_id = new_first_id\n",
    "    movie_container_results = driver.find_elements(By.CSS_SELECTOR, \"div[class='ExplorerProductCard__Container-sc-1fw1q8r-0 gkhVSD']\")\n",
    "    detailed_scores = []\n",
    "    similarity_scores = []\n",
    "    rates = []\n",
    "    for i in range(len(movie_container_results)):\n",
    "        div = movie_container_results[i]        \n",
    "        try :\n",
    "            title_element = div.find_element(By.CSS_SELECTOR, \"a[class='Text__SCText-sc-kgt5u3-0 Link__SecondaryLink-sc-1vfcbn2-1 jbJnwO eDKWEX']\")\n",
    "            title = title_element.text\n",
    "        except :\n",
    "            title = \"\"\n",
    "        try:\n",
    "            rating_element = div.find_element(By.CSS_SELECTOR, \"*[data-testid='Rating']\")\n",
    "            rate = float(rating_element.text)\n",
    "        except:\n",
    "            rate = np.NAN\n",
    "        try :\n",
    "            desc_element = div.find_element(By.CSS_SELECTOR, \"p[data-testid='product-explorer-creator']\")\n",
    "            desc = desc_element.text\n",
    "        except:\n",
    "            desc = \"Film\"\n",
    "        desc = desc.split(' · ')\n",
    "        if len(desc) == 2:\n",
    "            date = int(desc[1])\n",
    "        else:\n",
    "            date = -1000\n",
    "        desc = desc[0].split('Film de ')\n",
    "        if len(desc) == 2:\n",
    "            producers = desc[1].split(', ')\n",
    "        else:\n",
    "            producers = []\n",
    "        detailed_score = score_similarite(titres[i_titre], dates[i_titre], reals[i_titre], title, date, producers)\n",
    "        mean_score = detailed_score[3]\n",
    "        detailed_scores.append(detailed_score)\n",
    "        similarity_scores.append(mean_score)\n",
    "        rates.append(rate)     \n",
    "    container = movie_container_results[np.argmax(similarity_scores)]\n",
    "    movie_link = container.find_element(By.CSS_SELECTOR, \"a[class='Text__SCText-sc-kgt5u3-0 Link__SecondaryLink-sc-1vfcbn2-1 jbJnwO eDKWEX']\")\n",
    "    new_id = \"/\".join(movie_link.get_attribute('href').split('/')[-2:])\n",
    "    movie_ids.append(new_id)\n",
    "    rating = rates[np.argmax(similarity_scores)]\n",
    "    movie_ratings.append(rating)\n",
    "    \n",
    "print(movie_ids)\n",
    "print(movie_ratings)\n",
    "\n"
   ]
  },
  {
   "cell_type": "code",
   "execution_count": null,
   "id": "27a45122",
   "metadata": {},
   "outputs": [
    {
     "name": "stdout",
     "output_type": "stream",
     "text": [
      "Itération : 0\n",
      "salut\n"
     ]
    }
   ],
   "source": [
    "%%time\n",
    "nb_drivers = 1\n",
    "nb_films_by_iter =100\n",
    "nb_movies= len(movie_csv)\n",
    "\n",
    "ids_movies_by_drivers = init_movies_by_driver(nb_drivers, nb_movies)\n",
    "nb_iterations =(nb_movies//(nb_drivers*nb_films_by_iter))+1\n",
    "init_save_files(nb_drivers)\n",
    "\n",
    "#Nombre de fois que les drivers vont se lancer et se fermer\n",
    "for j in range(nb_iterations) : \n",
    "    print(\"Itération :\",j)\n",
    "    with futures.ThreadPoolExecutor() as executor: \n",
    "        future_results = [ executor.submit(workload_driver,{'id':i, 'index_start' :ids_movies_by_drivers[i][\"start\"]+nb_films_by_iter*j , 'index_end':ids_movies_by_drivers[i][\"end\"]})  for i in range(nb_drivers) ] \n",
    "        for future_result in future_results: \n",
    "            try:\n",
    "                future_result = future_result.result()\n",
    "            except Exception as exc: # can give a exception in some thread, but \n",
    "                print(\"thread generated an exception\",exc)\n",
    "                break; # can use `timeout` to wait max seconds for each thread               \n",
    "\n",
    "#Concaténation et enregirstrement des données\n",
    "df_movies=pd.DataFrame()\n",
    "for i in range(nb_drivers): \n",
    "    df_movies=pd.concat([df_movies, pd.read_csv(f\"./sens_critique_csv/cast_movies_{i}.csv\")])\n",
    "df_movies.to_csv(f\"./sens_critique_csv/_casting_movies.csv\",index=False)"
   ]
  },
  {
   "cell_type": "code",
   "execution_count": null,
   "id": "9313fe86",
   "metadata": {},
   "outputs": [],
   "source": []
  },
  {
   "cell_type": "code",
   "execution_count": null,
   "id": "fcfbf9d6",
   "metadata": {},
   "outputs": [],
   "source": []
  },
  {
   "cell_type": "code",
   "execution_count": null,
   "id": "4540f279",
   "metadata": {},
   "outputs": [],
   "source": []
  },
  {
   "cell_type": "code",
   "execution_count": null,
   "id": "e94d3ee3",
   "metadata": {},
   "outputs": [],
   "source": []
  },
  {
   "cell_type": "code",
   "execution_count": null,
   "id": "8413bd68",
   "metadata": {},
   "outputs": [],
   "source": []
  },
  {
   "cell_type": "code",
   "execution_count": null,
   "id": "201c0e1b",
   "metadata": {},
   "outputs": [],
   "source": []
  },
  {
   "cell_type": "code",
   "execution_count": null,
   "id": "8f40c842",
   "metadata": {},
   "outputs": [],
   "source": []
  },
  {
   "cell_type": "code",
   "execution_count": null,
   "id": "40565c15",
   "metadata": {},
   "outputs": [],
   "source": []
  },
  {
   "cell_type": "code",
   "execution_count": null,
   "id": "f890929a",
   "metadata": {},
   "outputs": [],
   "source": []
  },
  {
   "cell_type": "code",
   "execution_count": null,
   "id": "0ec08607",
   "metadata": {},
   "outputs": [],
   "source": [
    "#GET REVIEWS IDS\n",
    "for _id in movie_ids:\n",
    "    print(movie_ids.index(_id) + ' / ' + len(movie_ids))\n",
    "    review_ids = []     \n",
    "    driver.get(f\"https:www.senscritique.com/film/{_id}/critiques\")\n",
    "    review_elements = driver.find_elements(By.LINK_TEXT, \"Lire la critique\")\n",
    "    review_ids = [review_element.get_attribute('href').split('/')[-1] for review_element in review_elements]\n",
    "    for i in range(9):\n",
    "        try:\n",
    "            next_page = driver.find_elements(By.CSS_SELECTOR, f\"span[data-testid='click-{i+2}']\")[0]\n",
    "        except:\n",
    "            #print(f'FAILED AT FINDING {i+2}')\n",
    "            break\n",
    "        driver.execute_script(\"window.scrollTo(0, 400)\")\n",
    "        time.sleep(.3)\n",
    "        next_page.click()\n",
    "        #print(\"passing\")\n",
    "        while all(item in review_elements for item in driver.find_elements(By.LINK_TEXT, \"Lire la critique\")):\n",
    "            pass\n",
    "        #print(\"found\")\n",
    "        review_elements = driver.find_elements(By.LINK_TEXT, \"Lire la critique\")\n",
    "        for element in review_elements:\n",
    "            if element.get_attribute('href').split('/')[-1] not in review_ids:\n",
    "                review_ids.append(element.get_attribute('href').split('/')[-1])\n",
    "\n",
    "    #GET REVIEWS CONTENT\n",
    "    review_titles = []\n",
    "    review_authors = []\n",
    "    review_ratings = []\n",
    "    review_bodys = []\n",
    "    for r_id in review_ids:\n",
    "        response = requests.get(f\"https://www.senscritique.com/film/{_id.split('/')[0]}/critique/{r_id}\")\n",
    "        review_soup = BeautifulSoup(response.content, 'html.parser')\n",
    "        review_title = review_soup.find('h1').text\n",
    "        review_author = review_soup.find('a', class_='Text__SCText-sc-kgt5u3-0 Username__WrapperUsername-sc-19yskas-1 hrLruW').text\n",
    "        review_rating = int(review_soup.find('div', class_='Rating__UserRating-sc-1rkvzid-2 fylBAF').text)\n",
    "        review_body = review_soup.find('div', class_='Content__Container-sc-1a6ct0l-0 kJVhmZ').text\n",
    "        review_titles.append(review_title)\n",
    "        review_authors.append(review_author)\n",
    "        review_ratings.append(review_rating)\n",
    "        review_bodys.append(review_body)\n",
    "    reviews.append([review_ids, review_titles, review_authors, review_ratings, review_bodys])"
   ]
  },
  {
   "cell_type": "code",
   "execution_count": 101,
   "id": "5e56b193",
   "metadata": {},
   "outputs": [
    {
     "data": {
      "text/plain": [
       "(['avatar_la_voie_de_l_eau/450676',\n",
       "  'les_banshees_d_inisherin/41368328',\n",
       "  'tempete/16273897',\n",
       "  'm3gan/44804275',\n",
       "  'le_tourbillon_de_la_vie/47794530',\n",
       "  'tirailleurs/45177319',\n",
       "  'avatar/371239',\n",
       "  'glass_onion_une_histoire_a_couteaux_tires/41075361',\n",
       "  'le_parfum_vert/45440633',\n",
       "  'le_chat_potte_2_la_derniere_quete/11528908',\n",
       "  'avatar_la_voie_de_l_eau/450676',\n",
       "  'les_banshees_d_inisherin/41368328',\n",
       "  'tempete/16273897',\n",
       "  'm3gan/44804275',\n",
       "  'le_tourbillon_de_la_vie/47794530',\n",
       "  'tirailleurs/45177319',\n",
       "  'avatar/371239',\n",
       "  'glass_onion_une_histoire_a_couteaux_tires/41075361',\n",
       "  'le_parfum_vert/45440633',\n",
       "  'le_chat_potte_2_la_derniere_quete/11528908'],\n",
       " [6.9, 7.3, 6.2, 5.4, 6.2, 5.7, 6.4, 6.3, 5.7, 7.3],\n",
       " [])"
      ]
     },
     "execution_count": 101,
     "metadata": {},
     "output_type": "execute_result"
    }
   ],
   "source": [
    "ids, ratings, reviews"
   ]
  }
 ],
 "metadata": {
  "kernelspec": {
   "display_name": "Python 3 (ipykernel)",
   "language": "python",
   "name": "python3"
  },
  "language_info": {
   "codemirror_mode": {
    "name": "ipython",
    "version": 3
   },
   "file_extension": ".py",
   "mimetype": "text/x-python",
   "name": "python",
   "nbconvert_exporter": "python",
   "pygments_lexer": "ipython3",
   "version": "3.9.15"
  }
 },
 "nbformat": 4,
 "nbformat_minor": 5
}
